{
 "cells": [
  {
   "cell_type": "code",
   "execution_count": 24,
   "metadata": {
    "collapsed": true,
    "pycharm": {
     "name": "#%%\n"
    }
   },
   "outputs": [
    {
     "data": {
      "text/plain": "(24488,)"
     },
     "execution_count": 24,
     "metadata": {},
     "output_type": "execute_result"
    }
   ],
   "source": [
    "import keras.models\n",
    "import numpy as np\n",
    "import pandas as pd\n",
    "from sklearn.model_selection import train_test_split as split\n",
    "from sklearn.preprocessing import MinMaxScaler, StandardScaler\n",
    "from sklearn.preprocessing import LabelEncoder\n",
    "import tensorflow as tf\n",
    "from keras.models import Model\n",
    "from keras.layers import Dense, Dropout, Lambda, BatchNormalization\n",
    "from keras.utils.version_utils import callbacks\n",
    "from matplotlib import pyplot as plt\n",
    "from keras.callbacks import EarlyStopping\n",
    "from keras import Sequential\n",
    "\n",
    "df = pd.read_csv('preprocessed_v.csv')\n",
    "df = df.drop(columns='Unnamed: 0')\n",
    "df = df.replace(np.nan, 'null', regex=True)\n",
    "prices = [\n",
    "    (df['price'] <= 10000) & (df['price'] > 0),\n",
    "    (df['price'] > 10000) & (df['price'] <= 20000),\n",
    "    (df['price'] > 20000)\n",
    "]\n",
    "segments = [1, 2, 3]\n",
    "df['segments'] = np.select(prices, segments)\n",
    "encoded_data = df[df.columns]\n",
    "encoded_data = encoded_data.dropna()\n",
    "\n",
    "scalers = [StandardScaler(), StandardScaler()]\n",
    "\n",
    "encoded_data['year'] = scalers[0].fit_transform(encoded_data['year'].values.reshape(-1, 1))\n",
    "encoded_data['odometer'] = scalers[1].fit_transform(encoded_data['odometer'].values.reshape(-1, 1))\n",
    "\n",
    "cols = ['manufacturer', 'fuel', 'condition', 'drive', 'cylinders', 'transmission', 'type', 'paint_color', 'model']\n",
    "\n",
    "encoded_data = pd.get_dummies(encoded_data, dummy_na=True,\n",
    "                              columns=['manufacturer', 'fuel', 'condition', 'drive', 'cylinders', 'transmission',\n",
    "                                       'type', 'paint_color'])\n",
    "encoders = []\n",
    "\n",
    "encoded_data['model'] = LabelEncoder().fit_transform(encoded_data['model'])\n",
    "# from sklearn.preprocessing import LabelEncoder\n",
    "#\n",
    "# for column in cols:\n",
    "#     encoded_data[column] = LabelEncoder().fit_transform(encoded_data[column])\n",
    "# encoded_data\n",
    "df_for_1_model = encoded_data.copy()\n",
    "X_train_classify = encoded_data.drop(columns=['price', 'segments'], axis=1)\n",
    "y_train_classify = encoded_data['segments']\n",
    "X_train_classify, X_test_classify, y_train_classify, y_test_classify = split(X_train_classify, y_train_classify,\n",
    "                                                                             train_size=0.8, random_state=4222)\n",
    "y_test_classify.shape\n",
    "X_train_segmented = encoded_data.drop(columns=['price'], axis=1)\n",
    "y_train_segmented = encoded_data['price']\n",
    "X_train_segmented, X_test_segmented, y_train_segmented, y_test_segmented = split(X_train_segmented, y_train_segmented,\n",
    "                                                                                 train_size=0.8, random_state=4222)\n",
    "y_test_segmented.shape"
   ]
  },
  {
   "cell_type": "code",
   "execution_count": 25,
   "outputs": [
    {
     "data": {
      "text/plain": "        y  y_pred\n111913  1       1\n113030  3       3\n51949   1       1\n4159    3       3\n65491   3       3\n...    ..     ...\n122252  3       3\n73909   1       1\n119140  2       2\n20371   3       3\n99650   3       3\n\n[24488 rows x 2 columns]",
      "text/html": "<div>\n<style scoped>\n    .dataframe tbody tr th:only-of-type {\n        vertical-align: middle;\n    }\n\n    .dataframe tbody tr th {\n        vertical-align: top;\n    }\n\n    .dataframe thead th {\n        text-align: right;\n    }\n</style>\n<table border=\"1\" class=\"dataframe\">\n  <thead>\n    <tr style=\"text-align: right;\">\n      <th></th>\n      <th>y</th>\n      <th>y_pred</th>\n    </tr>\n  </thead>\n  <tbody>\n    <tr>\n      <th>111913</th>\n      <td>1</td>\n      <td>1</td>\n    </tr>\n    <tr>\n      <th>113030</th>\n      <td>3</td>\n      <td>3</td>\n    </tr>\n    <tr>\n      <th>51949</th>\n      <td>1</td>\n      <td>1</td>\n    </tr>\n    <tr>\n      <th>4159</th>\n      <td>3</td>\n      <td>3</td>\n    </tr>\n    <tr>\n      <th>65491</th>\n      <td>3</td>\n      <td>3</td>\n    </tr>\n    <tr>\n      <th>...</th>\n      <td>...</td>\n      <td>...</td>\n    </tr>\n    <tr>\n      <th>122252</th>\n      <td>3</td>\n      <td>3</td>\n    </tr>\n    <tr>\n      <th>73909</th>\n      <td>1</td>\n      <td>1</td>\n    </tr>\n    <tr>\n      <th>119140</th>\n      <td>2</td>\n      <td>2</td>\n    </tr>\n    <tr>\n      <th>20371</th>\n      <td>3</td>\n      <td>3</td>\n    </tr>\n    <tr>\n      <th>99650</th>\n      <td>3</td>\n      <td>3</td>\n    </tr>\n  </tbody>\n</table>\n<p>24488 rows × 2 columns</p>\n</div>"
     },
     "execution_count": 25,
     "metadata": {},
     "output_type": "execute_result"
    }
   ],
   "source": [
    "accuracy_df = pd.DataFrame(columns=('r2', 'rmse', 'mae'))\n",
    "from sklearn.tree import DecisionTreeClassifier\n",
    "\n",
    "from sklearn.metrics import mean_squared_error\n",
    "from sklearn import metrics\n",
    "model = DecisionTreeClassifier(criterion='entropy')\n",
    "model.fit(X_train_classify, y_train_classify)\n",
    "\n",
    "y_pred_cl = model.predict(X_test_classify)\n",
    "\n",
    "r2 = round(metrics.r2_score(y_test_classify, y_pred_cl), 2)\n",
    "rmse = round(np.sqrt(metrics.mean_squared_error(y_test_classify, y_pred_cl)), 2)\n",
    "mae = round(metrics.mean_absolute_error(y_test_classify, y_pred_cl), 2)\n",
    "accuracy_df = accuracy_df.append(\n",
    "    pd.DataFrame({'r2': [r2], 'rmse': [rmse], 'mae': [mae]}, index=['Decision Tree (entropy) Classification']))\n",
    "from sklearn.tree import DecisionTreeClassifier\n",
    "\n",
    "model = DecisionTreeClassifier(criterion='gini')\n",
    "model.fit(X_train_classify, y_train_classify)\n",
    "\n",
    "y_pred_cl = model.predict(X_test_classify)\n",
    "\n",
    "r2 = round(metrics.r2_score(y_test_classify, y_pred_cl), 2)\n",
    "rmse = round(np.sqrt(metrics.mean_squared_error(y_test_classify, y_pred_cl)), 2)\n",
    "mae = round(metrics.mean_absolute_error(y_test_classify, y_pred_cl), 2)\n",
    "accuracy_df = accuracy_df.append(\n",
    "    pd.DataFrame({'r2': [r2], 'rmse': [rmse], 'mae': [mae]}, index=['Decision Tree (gini) Classification']))\n",
    "from sklearn.ensemble import RandomForestClassifier\n",
    "\n",
    "model = RandomForestClassifier()\n",
    "model.fit(X_train_classify, y_train_classify)\n",
    "\n",
    "y_pred = model.predict(X_test_classify)\n",
    "\n",
    "r2 = round(metrics.r2_score(y_test_classify, y_pred), 2)\n",
    "rmse = round(np.sqrt(metrics.mean_squared_error(y_test_classify, y_pred)), 2)\n",
    "mae = round(metrics.mean_absolute_error(y_test_classify, y_pred), 2)\n",
    "accuracy_df = accuracy_df.append(\n",
    "    pd.DataFrame({'r2': [r2], 'rmse': [rmse], 'mae': [mae]}, index=['Random Forest Classification']))\n",
    "real_vs_predicted_segments = pd.DataFrame(\n",
    "    {\"y\": y_test_classify, \"y_pred\": y_pred_cl})  # порівнянння реальних даних з передбаченням моделі\n",
    "real_vs_predicted_segments"
   ],
   "metadata": {
    "collapsed": false,
    "pycharm": {
     "name": "#%%\n"
    }
   }
  },
  {
   "cell_type": "code",
   "execution_count": 26,
   "outputs": [
    {
     "data": {
      "text/plain": "                                          r2  rmse   mae\nDecision Tree (entropy) Classification  0.84  0.34  0.11\nDecision Tree (gini) Classification     0.83  0.34  0.11\nRandom Forest Classification            0.88  0.29  0.08",
      "text/html": "<div>\n<style scoped>\n    .dataframe tbody tr th:only-of-type {\n        vertical-align: middle;\n    }\n\n    .dataframe tbody tr th {\n        vertical-align: top;\n    }\n\n    .dataframe thead th {\n        text-align: right;\n    }\n</style>\n<table border=\"1\" class=\"dataframe\">\n  <thead>\n    <tr style=\"text-align: right;\">\n      <th></th>\n      <th>r2</th>\n      <th>rmse</th>\n      <th>mae</th>\n    </tr>\n  </thead>\n  <tbody>\n    <tr>\n      <th>Decision Tree (entropy) Classification</th>\n      <td>0.84</td>\n      <td>0.34</td>\n      <td>0.11</td>\n    </tr>\n    <tr>\n      <th>Decision Tree (gini) Classification</th>\n      <td>0.83</td>\n      <td>0.34</td>\n      <td>0.11</td>\n    </tr>\n    <tr>\n      <th>Random Forest Classification</th>\n      <td>0.88</td>\n      <td>0.29</td>\n      <td>0.08</td>\n    </tr>\n  </tbody>\n</table>\n</div>"
     },
     "execution_count": 26,
     "metadata": {},
     "output_type": "execute_result"
    }
   ],
   "source": [
    "accuracy_df"
   ],
   "metadata": {
    "collapsed": false,
    "pycharm": {
     "name": "#%%\n"
    }
   }
  },
  {
   "cell_type": "code",
   "execution_count": 29,
   "outputs": [
    {
     "data": {
      "text/plain": "                            r2     rmse      mae\nRandom Forest REG n = 1   0.89  4053.11  1945.43\nRandom Forest REG n = 11  0.92  3423.37  1652.88\nRandom Forest REG n = 21  0.92  3396.10  1634.05\nRandom Forest REG n = 31  0.92  3388.33  1621.92\nRandom Forest REG n = 41  0.92  3382.52  1621.78",
      "text/html": "<div>\n<style scoped>\n    .dataframe tbody tr th:only-of-type {\n        vertical-align: middle;\n    }\n\n    .dataframe tbody tr th {\n        vertical-align: top;\n    }\n\n    .dataframe thead th {\n        text-align: right;\n    }\n</style>\n<table border=\"1\" class=\"dataframe\">\n  <thead>\n    <tr style=\"text-align: right;\">\n      <th></th>\n      <th>r2</th>\n      <th>rmse</th>\n      <th>mae</th>\n    </tr>\n  </thead>\n  <tbody>\n    <tr>\n      <th>Random Forest REG n = 1</th>\n      <td>0.89</td>\n      <td>4053.11</td>\n      <td>1945.43</td>\n    </tr>\n    <tr>\n      <th>Random Forest REG n = 11</th>\n      <td>0.92</td>\n      <td>3423.37</td>\n      <td>1652.88</td>\n    </tr>\n    <tr>\n      <th>Random Forest REG n = 21</th>\n      <td>0.92</td>\n      <td>3396.10</td>\n      <td>1634.05</td>\n    </tr>\n    <tr>\n      <th>Random Forest REG n = 31</th>\n      <td>0.92</td>\n      <td>3388.33</td>\n      <td>1621.92</td>\n    </tr>\n    <tr>\n      <th>Random Forest REG n = 41</th>\n      <td>0.92</td>\n      <td>3382.52</td>\n      <td>1621.78</td>\n    </tr>\n  </tbody>\n</table>\n</div>"
     },
     "execution_count": 29,
     "metadata": {},
     "output_type": "execute_result"
    }
   ],
   "source": [
    "from sklearn.ensemble import RandomForestRegressor\n",
    "\n",
    "random_forest_segmented = pd.DataFrame(columns=('r2', 'rmse', 'mae'))\n",
    "\n",
    "X_test_segmented['segments'] = y_pred\n",
    "for i in range(1, 51, 10):\n",
    "    rf = RandomForestRegressor(n_estimators=i, criterion=\"squared_error\")\n",
    "    rf.fit(X_train_segmented, y_train_segmented)\n",
    "    y_pred = rf.predict(X_test_segmented)\n",
    "    r2 = round(metrics.r2_score(y_test_segmented, y_pred), 2)\n",
    "    rmse = round(np.sqrt(metrics.mean_squared_error(y_test_segmented, y_pred)), 2)\n",
    "    mae = round(metrics.mean_absolute_error(y_test_segmented, y_pred), 2)\n",
    "    random_forest_segmented = random_forest_segmented.append(\n",
    "        pd.DataFrame({'r2': [r2], 'rmse': [rmse], 'mae': [mae]}, index=['Random Forest REG n = ' + str(i)]))\n",
    "random_forest_segmented"
   ],
   "metadata": {
    "collapsed": false,
    "pycharm": {
     "name": "#%%\n"
    }
   }
  },
  {
   "cell_type": "code",
   "execution_count": 30,
   "outputs": [
    {
     "data": {
      "text/plain": "                       r2     rmse      mae\nDecision Tree Class  0.83     0.34     0.11\nRandom Forest REG    0.92  3397.30  1628.24",
      "text/html": "<div>\n<style scoped>\n    .dataframe tbody tr th:only-of-type {\n        vertical-align: middle;\n    }\n\n    .dataframe tbody tr th {\n        vertical-align: top;\n    }\n\n    .dataframe thead th {\n        text-align: right;\n    }\n</style>\n<table border=\"1\" class=\"dataframe\">\n  <thead>\n    <tr style=\"text-align: right;\">\n      <th></th>\n      <th>r2</th>\n      <th>rmse</th>\n      <th>mae</th>\n    </tr>\n  </thead>\n  <tbody>\n    <tr>\n      <th>Decision Tree Class</th>\n      <td>0.83</td>\n      <td>0.34</td>\n      <td>0.11</td>\n    </tr>\n    <tr>\n      <th>Random Forest REG</th>\n      <td>0.92</td>\n      <td>3397.30</td>\n      <td>1628.24</td>\n    </tr>\n  </tbody>\n</table>\n</div>"
     },
     "execution_count": 30,
     "metadata": {},
     "output_type": "execute_result"
    }
   ],
   "source": [
    "from sklearn.tree import DecisionTreeClassifier\n",
    "combined_res = pd.DataFrame(columns=('r2', 'rmse', 'mae'))\n",
    "dt = DecisionTreeClassifier(criterion=\"gini\", max_depth=41)\n",
    "dt.fit(X_train_classify, y_train_classify)\n",
    "# y_pred = dt.predict(X_train_classify)\n",
    "y_pred_test = dt.predict(X_test_classify)\n",
    "r2 = round(metrics.r2_score(y_test_classify, y_pred_test), 2)\n",
    "rmse = round(np.sqrt(metrics.mean_squared_error(y_test_classify, y_pred_test)), 2)\n",
    "mae = round(metrics.mean_absolute_error(y_test_classify, y_pred_test), 2)\n",
    "combined_res = combined_res.append(\n",
    "    pd.DataFrame({'r2': [r2], 'rmse': [rmse], 'mae': [mae]}, index=['Decision Tree Class']))\n",
    "\n",
    "\n",
    "from sklearn.ensemble import RandomForestRegressor\n",
    "# X_train_segmented['segments'] = y_pred\n",
    "X_test_segmented['segments'] = y_pred_test\n",
    "# rf = RandomForestRegressor(n_estimators=41, criterion=\"squared_error\")\n",
    "# rf.fit(X_train_segmented, y_train_segmented)\n",
    "y_pred = rf.predict(X_test_segmented)\n",
    "r2 = round(metrics.r2_score(y_test_segmented, y_pred), 2)\n",
    "rmse = round(np.sqrt(metrics.mean_squared_error(y_test_segmented, y_pred)), 2)\n",
    "mae = round(metrics.mean_absolute_error(y_test_segmented, y_pred), 2)\n",
    "combined_res = combined_res.append(\n",
    "    pd.DataFrame({'r2': [r2], 'rmse': [rmse], 'mae': [mae]}, index=['Random Forest REG']))\n",
    "combined_res"
   ],
   "metadata": {
    "collapsed": false,
    "pycharm": {
     "name": "#%%\n"
    }
   }
  },
  {
   "cell_type": "code",
   "execution_count": 28,
   "outputs": [],
   "source": [],
   "metadata": {
    "collapsed": false,
    "pycharm": {
     "name": "#%%\n"
    }
   }
  }
 ],
 "metadata": {
  "kernelspec": {
   "display_name": "Python 3",
   "language": "python",
   "name": "python3"
  },
  "language_info": {
   "codemirror_mode": {
    "name": "ipython",
    "version": 2
   },
   "file_extension": ".py",
   "mimetype": "text/x-python",
   "name": "python",
   "nbconvert_exporter": "python",
   "pygments_lexer": "ipython2",
   "version": "2.7.6"
  }
 },
 "nbformat": 4,
 "nbformat_minor": 0
}