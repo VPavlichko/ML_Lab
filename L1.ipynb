{
 "cells": [
  {
   "cell_type": "code",
   "execution_count": 1,
   "metadata": {
    "collapsed": true,
    "pycharm": {
     "name": "#%%\n"
    }
   },
   "outputs": [],
   "source": [
    "import numpy as np\n",
    "import pandas as pd\n",
    "from sklearn.model_selection import train_test_split as split"
   ]
  },
  {
   "cell_type": "code",
   "execution_count": 69,
   "outputs": [],
   "source": [
    "df = pd.read_csv('vehicles.csv')"
   ],
   "metadata": {
    "collapsed": false,
    "pycharm": {
     "name": "#%%\n"
    }
   }
  },
  {
   "cell_type": "markdown",
   "source": [
    "#### Видалення аутлайнерів по цінам"
   ],
   "metadata": {
    "collapsed": false,
    "pycharm": {
     "name": "#%% md\n"
    }
   }
  },
  {
   "cell_type": "code",
   "execution_count": 70,
   "outputs": [
    {
     "name": "stdout",
     "output_type": "stream",
     "text": [
      "8177 ( 1.92 % ) outliers removed from dataset\n"
     ]
    }
   ],
   "source": [
    "Q1 = df['price'].quantile(0.25)\n",
    "Q3 = df['price'].quantile(0.75)\n",
    "IQR = Q3 - Q1\n",
    "filter = (df['price'] >= Q1 - 1.5 * IQR) & (df['price'] <= Q3 + 1.5 * IQR)\n",
    "init_size = df.count()['id']\n",
    "df = df.loc[filter]\n",
    "filtered_size = df.count()['id']\n",
    "print(init_size - filtered_size, '(', '{:.2f}'.format(100 * (init_size - filtered_size) / init_size), '%', ')',\n",
    "      'outliers removed from dataset')"
   ],
   "metadata": {
    "collapsed": false,
    "pycharm": {
     "name": "#%%\n"
    }
   }
  },
  {
   "cell_type": "markdown",
   "source": [
    "#### Філтрація по року і ціні"
   ],
   "metadata": {
    "collapsed": false,
    "pycharm": {
     "name": "#%% md\n"
    }
   }
  },
  {
   "cell_type": "code",
   "execution_count": 71,
   "outputs": [
    {
     "data": {
      "text/plain": "                id                                                url  \\\n27      7316814884  https://auburn.craigslist.org/ctd/d/auburn-uni...   \n28      7316814758  https://auburn.craigslist.org/ctd/d/auburn-uni...   \n29      7316814989  https://auburn.craigslist.org/ctd/d/auburn-uni...   \n30      7316743432  https://auburn.craigslist.org/ctd/d/auburn-uni...   \n31      7316356412  https://auburn.craigslist.org/cto/d/auburn-uni...   \n...            ...                                                ...   \n426875  7301591192  https://wyoming.craigslist.org/ctd/d/atlanta-2...   \n426876  7301591187  https://wyoming.craigslist.org/ctd/d/atlanta-2...   \n426877  7301591147  https://wyoming.craigslist.org/ctd/d/atlanta-2...   \n426878  7301591140  https://wyoming.craigslist.org/ctd/d/atlanta-2...   \n426879  7301591129  https://wyoming.craigslist.org/ctd/d/atlanta-2...   \n\n         region                      region_url  price    year manufacturer  \\\n27       auburn   https://auburn.craigslist.org  33590  2014.0          gmc   \n28       auburn   https://auburn.craigslist.org  22590  2010.0    chevrolet   \n29       auburn   https://auburn.craigslist.org  39590  2020.0    chevrolet   \n30       auburn   https://auburn.craigslist.org  30990  2017.0       toyota   \n31       auburn   https://auburn.craigslist.org  15000  2013.0         ford   \n...         ...                             ...    ...     ...          ...   \n426875  wyoming  https://wyoming.craigslist.org  23590  2019.0       nissan   \n426876  wyoming  https://wyoming.craigslist.org  30590  2020.0        volvo   \n426877  wyoming  https://wyoming.craigslist.org  34990  2020.0     cadillac   \n426878  wyoming  https://wyoming.craigslist.org  28990  2018.0        lexus   \n426879  wyoming  https://wyoming.craigslist.org  30590  2019.0          bmw   \n\n                           model  condition    cylinders  ...       size  \\\n27      sierra 1500 crew cab slt       good  8 cylinders  ...        NaN   \n28                silverado 1500       good  8 cylinders  ...        NaN   \n29           silverado 1500 crew       good  8 cylinders  ...        NaN   \n30          tundra double cab sr       good  8 cylinders  ...        NaN   \n31                     f-150 xlt  excellent  6 cylinders  ...  full-size   \n...                          ...        ...          ...  ...        ...   \n426875         maxima s sedan 4d       good  6 cylinders  ...        NaN   \n426876  s60 t5 momentum sedan 4d       good          NaN  ...        NaN   \n426877          xt4 sport suv 4d       good          NaN  ...        NaN   \n426878           es 350 sedan 4d       good  6 cylinders  ...        NaN   \n426879  4 series 430i gran coupe       good          NaN  ...        NaN   \n\n             type paint_color  \\\n27         pickup       white   \n28         pickup        blue   \n29         pickup         red   \n30         pickup         red   \n31          truck       black   \n...           ...         ...   \n426875      sedan         NaN   \n426876      sedan         red   \n426877  hatchback       white   \n426878      sedan      silver   \n426879      coupe         NaN   \n\n                                                image_url  \\\n27      https://images.craigslist.org/00R0R_lwWjXSEWNa...   \n28      https://images.craigslist.org/00R0R_lwWjXSEWNa...   \n29      https://images.craigslist.org/01212_jjirIWa0y0...   \n30      https://images.craigslist.org/00x0x_1y9kIOzGCF...   \n31      https://images.craigslist.org/00404_l4loxHvdQe...   \n...                                                   ...   \n426875  https://images.craigslist.org/00o0o_iiraFnHg8q...   \n426876  https://images.craigslist.org/00x0x_15sbgnxCIS...   \n426877  https://images.craigslist.org/00L0L_farM7bxnxR...   \n426878  https://images.craigslist.org/00z0z_bKnIVGLkDT...   \n426879  https://images.craigslist.org/00Y0Y_lEUocjyRxa...   \n\n                                              description county state  \\\n27      Carvana is the safer way to buy a car During t...    NaN    al   \n28      Carvana is the safer way to buy a car During t...    NaN    al   \n29      Carvana is the safer way to buy a car During t...    NaN    al   \n30      Carvana is the safer way to buy a car During t...    NaN    al   \n31      2013 F-150 XLT V6 4 Door. Good condition. Leve...    NaN    al   \n...                                                   ...    ...   ...   \n426875  Carvana is the safer way to buy a car During t...    NaN    wy   \n426876  Carvana is the safer way to buy a car During t...    NaN    wy   \n426877  Carvana is the safer way to buy a car During t...    NaN    wy   \n426878  Carvana is the safer way to buy a car During t...    NaN    wy   \n426879  Carvana is the safer way to buy a car During t...    NaN    wy   \n\n              lat       long              posting_date  \n27      32.590000 -85.480000  2021-05-04T12:31:18-0500  \n28      32.590000 -85.480000  2021-05-04T12:31:08-0500  \n29      32.590000 -85.480000  2021-05-04T12:31:25-0500  \n30      32.590000 -85.480000  2021-05-04T10:41:31-0500  \n31      32.592000 -85.518900  2021-05-03T14:02:03-0500  \n...           ...        ...                       ...  \n426875  33.786500 -84.445400  2021-04-04T03:21:31-0600  \n426876  33.786500 -84.445400  2021-04-04T03:21:29-0600  \n426877  33.779214 -84.411811  2021-04-04T03:21:17-0600  \n426878  33.786500 -84.445400  2021-04-04T03:21:11-0600  \n426879  33.779214 -84.411811  2021-04-04T03:21:07-0600  \n\n[369037 rows x 26 columns]",
      "text/html": "<div>\n<style scoped>\n    .dataframe tbody tr th:only-of-type {\n        vertical-align: middle;\n    }\n\n    .dataframe tbody tr th {\n        vertical-align: top;\n    }\n\n    .dataframe thead th {\n        text-align: right;\n    }\n</style>\n<table border=\"1\" class=\"dataframe\">\n  <thead>\n    <tr style=\"text-align: right;\">\n      <th></th>\n      <th>id</th>\n      <th>url</th>\n      <th>region</th>\n      <th>region_url</th>\n      <th>price</th>\n      <th>year</th>\n      <th>manufacturer</th>\n      <th>model</th>\n      <th>condition</th>\n      <th>cylinders</th>\n      <th>...</th>\n      <th>size</th>\n      <th>type</th>\n      <th>paint_color</th>\n      <th>image_url</th>\n      <th>description</th>\n      <th>county</th>\n      <th>state</th>\n      <th>lat</th>\n      <th>long</th>\n      <th>posting_date</th>\n    </tr>\n  </thead>\n  <tbody>\n    <tr>\n      <th>27</th>\n      <td>7316814884</td>\n      <td>https://auburn.craigslist.org/ctd/d/auburn-uni...</td>\n      <td>auburn</td>\n      <td>https://auburn.craigslist.org</td>\n      <td>33590</td>\n      <td>2014.0</td>\n      <td>gmc</td>\n      <td>sierra 1500 crew cab slt</td>\n      <td>good</td>\n      <td>8 cylinders</td>\n      <td>...</td>\n      <td>NaN</td>\n      <td>pickup</td>\n      <td>white</td>\n      <td>https://images.craigslist.org/00R0R_lwWjXSEWNa...</td>\n      <td>Carvana is the safer way to buy a car During t...</td>\n      <td>NaN</td>\n      <td>al</td>\n      <td>32.590000</td>\n      <td>-85.480000</td>\n      <td>2021-05-04T12:31:18-0500</td>\n    </tr>\n    <tr>\n      <th>28</th>\n      <td>7316814758</td>\n      <td>https://auburn.craigslist.org/ctd/d/auburn-uni...</td>\n      <td>auburn</td>\n      <td>https://auburn.craigslist.org</td>\n      <td>22590</td>\n      <td>2010.0</td>\n      <td>chevrolet</td>\n      <td>silverado 1500</td>\n      <td>good</td>\n      <td>8 cylinders</td>\n      <td>...</td>\n      <td>NaN</td>\n      <td>pickup</td>\n      <td>blue</td>\n      <td>https://images.craigslist.org/00R0R_lwWjXSEWNa...</td>\n      <td>Carvana is the safer way to buy a car During t...</td>\n      <td>NaN</td>\n      <td>al</td>\n      <td>32.590000</td>\n      <td>-85.480000</td>\n      <td>2021-05-04T12:31:08-0500</td>\n    </tr>\n    <tr>\n      <th>29</th>\n      <td>7316814989</td>\n      <td>https://auburn.craigslist.org/ctd/d/auburn-uni...</td>\n      <td>auburn</td>\n      <td>https://auburn.craigslist.org</td>\n      <td>39590</td>\n      <td>2020.0</td>\n      <td>chevrolet</td>\n      <td>silverado 1500 crew</td>\n      <td>good</td>\n      <td>8 cylinders</td>\n      <td>...</td>\n      <td>NaN</td>\n      <td>pickup</td>\n      <td>red</td>\n      <td>https://images.craigslist.org/01212_jjirIWa0y0...</td>\n      <td>Carvana is the safer way to buy a car During t...</td>\n      <td>NaN</td>\n      <td>al</td>\n      <td>32.590000</td>\n      <td>-85.480000</td>\n      <td>2021-05-04T12:31:25-0500</td>\n    </tr>\n    <tr>\n      <th>30</th>\n      <td>7316743432</td>\n      <td>https://auburn.craigslist.org/ctd/d/auburn-uni...</td>\n      <td>auburn</td>\n      <td>https://auburn.craigslist.org</td>\n      <td>30990</td>\n      <td>2017.0</td>\n      <td>toyota</td>\n      <td>tundra double cab sr</td>\n      <td>good</td>\n      <td>8 cylinders</td>\n      <td>...</td>\n      <td>NaN</td>\n      <td>pickup</td>\n      <td>red</td>\n      <td>https://images.craigslist.org/00x0x_1y9kIOzGCF...</td>\n      <td>Carvana is the safer way to buy a car During t...</td>\n      <td>NaN</td>\n      <td>al</td>\n      <td>32.590000</td>\n      <td>-85.480000</td>\n      <td>2021-05-04T10:41:31-0500</td>\n    </tr>\n    <tr>\n      <th>31</th>\n      <td>7316356412</td>\n      <td>https://auburn.craigslist.org/cto/d/auburn-uni...</td>\n      <td>auburn</td>\n      <td>https://auburn.craigslist.org</td>\n      <td>15000</td>\n      <td>2013.0</td>\n      <td>ford</td>\n      <td>f-150 xlt</td>\n      <td>excellent</td>\n      <td>6 cylinders</td>\n      <td>...</td>\n      <td>full-size</td>\n      <td>truck</td>\n      <td>black</td>\n      <td>https://images.craigslist.org/00404_l4loxHvdQe...</td>\n      <td>2013 F-150 XLT V6 4 Door. Good condition. Leve...</td>\n      <td>NaN</td>\n      <td>al</td>\n      <td>32.592000</td>\n      <td>-85.518900</td>\n      <td>2021-05-03T14:02:03-0500</td>\n    </tr>\n    <tr>\n      <th>...</th>\n      <td>...</td>\n      <td>...</td>\n      <td>...</td>\n      <td>...</td>\n      <td>...</td>\n      <td>...</td>\n      <td>...</td>\n      <td>...</td>\n      <td>...</td>\n      <td>...</td>\n      <td>...</td>\n      <td>...</td>\n      <td>...</td>\n      <td>...</td>\n      <td>...</td>\n      <td>...</td>\n      <td>...</td>\n      <td>...</td>\n      <td>...</td>\n      <td>...</td>\n      <td>...</td>\n    </tr>\n    <tr>\n      <th>426875</th>\n      <td>7301591192</td>\n      <td>https://wyoming.craigslist.org/ctd/d/atlanta-2...</td>\n      <td>wyoming</td>\n      <td>https://wyoming.craigslist.org</td>\n      <td>23590</td>\n      <td>2019.0</td>\n      <td>nissan</td>\n      <td>maxima s sedan 4d</td>\n      <td>good</td>\n      <td>6 cylinders</td>\n      <td>...</td>\n      <td>NaN</td>\n      <td>sedan</td>\n      <td>NaN</td>\n      <td>https://images.craigslist.org/00o0o_iiraFnHg8q...</td>\n      <td>Carvana is the safer way to buy a car During t...</td>\n      <td>NaN</td>\n      <td>wy</td>\n      <td>33.786500</td>\n      <td>-84.445400</td>\n      <td>2021-04-04T03:21:31-0600</td>\n    </tr>\n    <tr>\n      <th>426876</th>\n      <td>7301591187</td>\n      <td>https://wyoming.craigslist.org/ctd/d/atlanta-2...</td>\n      <td>wyoming</td>\n      <td>https://wyoming.craigslist.org</td>\n      <td>30590</td>\n      <td>2020.0</td>\n      <td>volvo</td>\n      <td>s60 t5 momentum sedan 4d</td>\n      <td>good</td>\n      <td>NaN</td>\n      <td>...</td>\n      <td>NaN</td>\n      <td>sedan</td>\n      <td>red</td>\n      <td>https://images.craigslist.org/00x0x_15sbgnxCIS...</td>\n      <td>Carvana is the safer way to buy a car During t...</td>\n      <td>NaN</td>\n      <td>wy</td>\n      <td>33.786500</td>\n      <td>-84.445400</td>\n      <td>2021-04-04T03:21:29-0600</td>\n    </tr>\n    <tr>\n      <th>426877</th>\n      <td>7301591147</td>\n      <td>https://wyoming.craigslist.org/ctd/d/atlanta-2...</td>\n      <td>wyoming</td>\n      <td>https://wyoming.craigslist.org</td>\n      <td>34990</td>\n      <td>2020.0</td>\n      <td>cadillac</td>\n      <td>xt4 sport suv 4d</td>\n      <td>good</td>\n      <td>NaN</td>\n      <td>...</td>\n      <td>NaN</td>\n      <td>hatchback</td>\n      <td>white</td>\n      <td>https://images.craigslist.org/00L0L_farM7bxnxR...</td>\n      <td>Carvana is the safer way to buy a car During t...</td>\n      <td>NaN</td>\n      <td>wy</td>\n      <td>33.779214</td>\n      <td>-84.411811</td>\n      <td>2021-04-04T03:21:17-0600</td>\n    </tr>\n    <tr>\n      <th>426878</th>\n      <td>7301591140</td>\n      <td>https://wyoming.craigslist.org/ctd/d/atlanta-2...</td>\n      <td>wyoming</td>\n      <td>https://wyoming.craigslist.org</td>\n      <td>28990</td>\n      <td>2018.0</td>\n      <td>lexus</td>\n      <td>es 350 sedan 4d</td>\n      <td>good</td>\n      <td>6 cylinders</td>\n      <td>...</td>\n      <td>NaN</td>\n      <td>sedan</td>\n      <td>silver</td>\n      <td>https://images.craigslist.org/00z0z_bKnIVGLkDT...</td>\n      <td>Carvana is the safer way to buy a car During t...</td>\n      <td>NaN</td>\n      <td>wy</td>\n      <td>33.786500</td>\n      <td>-84.445400</td>\n      <td>2021-04-04T03:21:11-0600</td>\n    </tr>\n    <tr>\n      <th>426879</th>\n      <td>7301591129</td>\n      <td>https://wyoming.craigslist.org/ctd/d/atlanta-2...</td>\n      <td>wyoming</td>\n      <td>https://wyoming.craigslist.org</td>\n      <td>30590</td>\n      <td>2019.0</td>\n      <td>bmw</td>\n      <td>4 series 430i gran coupe</td>\n      <td>good</td>\n      <td>NaN</td>\n      <td>...</td>\n      <td>NaN</td>\n      <td>coupe</td>\n      <td>NaN</td>\n      <td>https://images.craigslist.org/00Y0Y_lEUocjyRxa...</td>\n      <td>Carvana is the safer way to buy a car During t...</td>\n      <td>NaN</td>\n      <td>wy</td>\n      <td>33.779214</td>\n      <td>-84.411811</td>\n      <td>2021-04-04T03:21:07-0600</td>\n    </tr>\n  </tbody>\n</table>\n<p>369037 rows × 26 columns</p>\n</div>"
     },
     "execution_count": 71,
     "metadata": {},
     "output_type": "execute_result"
    }
   ],
   "source": [
    "df = df[df['price'] > 600]\n",
    "df = df[df['year'] >= 1970]  # позбуваємось екзотичних авто, які можуть сильно вплинути на тренування моделей\n",
    "df"
   ],
   "metadata": {
    "collapsed": false,
    "pycharm": {
     "name": "#%%\n"
    }
   }
  },
  {
   "cell_type": "code",
   "execution_count": 72,
   "outputs": [
    {
     "data": {
      "text/plain": "                id                                                url  \\\n27      7316814884  https://auburn.craigslist.org/ctd/d/auburn-uni...   \n28      7316814758  https://auburn.craigslist.org/ctd/d/auburn-uni...   \n29      7316814989  https://auburn.craigslist.org/ctd/d/auburn-uni...   \n30      7316743432  https://auburn.craigslist.org/ctd/d/auburn-uni...   \n31      7316356412  https://auburn.craigslist.org/cto/d/auburn-uni...   \n...            ...                                                ...   \n426875  7301591192  https://wyoming.craigslist.org/ctd/d/atlanta-2...   \n426876  7301591187  https://wyoming.craigslist.org/ctd/d/atlanta-2...   \n426877  7301591147  https://wyoming.craigslist.org/ctd/d/atlanta-2...   \n426878  7301591140  https://wyoming.craigslist.org/ctd/d/atlanta-2...   \n426879  7301591129  https://wyoming.craigslist.org/ctd/d/atlanta-2...   \n\n         region                      region_url  price    year manufacturer  \\\n27       auburn   https://auburn.craigslist.org  33590  2014.0          gmc   \n28       auburn   https://auburn.craigslist.org  22590  2010.0    chevrolet   \n29       auburn   https://auburn.craigslist.org  39590  2020.0    chevrolet   \n30       auburn   https://auburn.craigslist.org  30990  2017.0       toyota   \n31       auburn   https://auburn.craigslist.org  15000  2013.0         ford   \n...         ...                             ...    ...     ...          ...   \n426875  wyoming  https://wyoming.craigslist.org  23590  2019.0       nissan   \n426876  wyoming  https://wyoming.craigslist.org  30590  2020.0        volvo   \n426877  wyoming  https://wyoming.craigslist.org  34990  2020.0     cadillac   \n426878  wyoming  https://wyoming.craigslist.org  28990  2018.0        lexus   \n426879  wyoming  https://wyoming.craigslist.org  30590  2019.0          bmw   \n\n                           model  condition    cylinders  ...       size  \\\n27      sierra 1500 crew cab slt       good  8 cylinders  ...        NaN   \n28                silverado 1500       good  8 cylinders  ...        NaN   \n29           silverado 1500 crew       good  8 cylinders  ...        NaN   \n30          tundra double cab sr       good  8 cylinders  ...        NaN   \n31                     f-150 xlt  excellent  6 cylinders  ...  full-size   \n...                          ...        ...          ...  ...        ...   \n426875         maxima s sedan 4d       good  6 cylinders  ...        NaN   \n426876  s60 t5 momentum sedan 4d       good          NaN  ...        NaN   \n426877          xt4 sport suv 4d       good          NaN  ...        NaN   \n426878           es 350 sedan 4d       good  6 cylinders  ...        NaN   \n426879  4 series 430i gran coupe       good          NaN  ...        NaN   \n\n             type paint_color  \\\n27         pickup       white   \n28         pickup        blue   \n29         pickup         red   \n30         pickup         red   \n31          truck       black   \n...           ...         ...   \n426875      sedan         NaN   \n426876      sedan         red   \n426877  hatchback       white   \n426878      sedan      silver   \n426879      coupe         NaN   \n\n                                                image_url  \\\n27      https://images.craigslist.org/00R0R_lwWjXSEWNa...   \n28      https://images.craigslist.org/00R0R_lwWjXSEWNa...   \n29      https://images.craigslist.org/01212_jjirIWa0y0...   \n30      https://images.craigslist.org/00x0x_1y9kIOzGCF...   \n31      https://images.craigslist.org/00404_l4loxHvdQe...   \n...                                                   ...   \n426875  https://images.craigslist.org/00o0o_iiraFnHg8q...   \n426876  https://images.craigslist.org/00x0x_15sbgnxCIS...   \n426877  https://images.craigslist.org/00L0L_farM7bxnxR...   \n426878  https://images.craigslist.org/00z0z_bKnIVGLkDT...   \n426879  https://images.craigslist.org/00Y0Y_lEUocjyRxa...   \n\n                                              description county state  \\\n27      Carvana is the safer way to buy a car During t...    NaN    al   \n28      Carvana is the safer way to buy a car During t...    NaN    al   \n29      Carvana is the safer way to buy a car During t...    NaN    al   \n30      Carvana is the safer way to buy a car During t...    NaN    al   \n31      2013 F-150 XLT V6 4 Door. Good condition. Leve...    NaN    al   \n...                                                   ...    ...   ...   \n426875  Carvana is the safer way to buy a car During t...    NaN    wy   \n426876  Carvana is the safer way to buy a car During t...    NaN    wy   \n426877  Carvana is the safer way to buy a car During t...    NaN    wy   \n426878  Carvana is the safer way to buy a car During t...    NaN    wy   \n426879  Carvana is the safer way to buy a car During t...    NaN    wy   \n\n              lat       long              posting_date  \n27      32.590000 -85.480000  2021-05-04T12:31:18-0500  \n28      32.590000 -85.480000  2021-05-04T12:31:08-0500  \n29      32.590000 -85.480000  2021-05-04T12:31:25-0500  \n30      32.590000 -85.480000  2021-05-04T10:41:31-0500  \n31      32.592000 -85.518900  2021-05-03T14:02:03-0500  \n...           ...        ...                       ...  \n426875  33.786500 -84.445400  2021-04-04T03:21:31-0600  \n426876  33.786500 -84.445400  2021-04-04T03:21:29-0600  \n426877  33.779214 -84.411811  2021-04-04T03:21:17-0600  \n426878  33.786500 -84.445400  2021-04-04T03:21:11-0600  \n426879  33.779214 -84.411811  2021-04-04T03:21:07-0600  \n\n[365289 rows x 26 columns]",
      "text/html": "<div>\n<style scoped>\n    .dataframe tbody tr th:only-of-type {\n        vertical-align: middle;\n    }\n\n    .dataframe tbody tr th {\n        vertical-align: top;\n    }\n\n    .dataframe thead th {\n        text-align: right;\n    }\n</style>\n<table border=\"1\" class=\"dataframe\">\n  <thead>\n    <tr style=\"text-align: right;\">\n      <th></th>\n      <th>id</th>\n      <th>url</th>\n      <th>region</th>\n      <th>region_url</th>\n      <th>price</th>\n      <th>year</th>\n      <th>manufacturer</th>\n      <th>model</th>\n      <th>condition</th>\n      <th>cylinders</th>\n      <th>...</th>\n      <th>size</th>\n      <th>type</th>\n      <th>paint_color</th>\n      <th>image_url</th>\n      <th>description</th>\n      <th>county</th>\n      <th>state</th>\n      <th>lat</th>\n      <th>long</th>\n      <th>posting_date</th>\n    </tr>\n  </thead>\n  <tbody>\n    <tr>\n      <th>27</th>\n      <td>7316814884</td>\n      <td>https://auburn.craigslist.org/ctd/d/auburn-uni...</td>\n      <td>auburn</td>\n      <td>https://auburn.craigslist.org</td>\n      <td>33590</td>\n      <td>2014.0</td>\n      <td>gmc</td>\n      <td>sierra 1500 crew cab slt</td>\n      <td>good</td>\n      <td>8 cylinders</td>\n      <td>...</td>\n      <td>NaN</td>\n      <td>pickup</td>\n      <td>white</td>\n      <td>https://images.craigslist.org/00R0R_lwWjXSEWNa...</td>\n      <td>Carvana is the safer way to buy a car During t...</td>\n      <td>NaN</td>\n      <td>al</td>\n      <td>32.590000</td>\n      <td>-85.480000</td>\n      <td>2021-05-04T12:31:18-0500</td>\n    </tr>\n    <tr>\n      <th>28</th>\n      <td>7316814758</td>\n      <td>https://auburn.craigslist.org/ctd/d/auburn-uni...</td>\n      <td>auburn</td>\n      <td>https://auburn.craigslist.org</td>\n      <td>22590</td>\n      <td>2010.0</td>\n      <td>chevrolet</td>\n      <td>silverado 1500</td>\n      <td>good</td>\n      <td>8 cylinders</td>\n      <td>...</td>\n      <td>NaN</td>\n      <td>pickup</td>\n      <td>blue</td>\n      <td>https://images.craigslist.org/00R0R_lwWjXSEWNa...</td>\n      <td>Carvana is the safer way to buy a car During t...</td>\n      <td>NaN</td>\n      <td>al</td>\n      <td>32.590000</td>\n      <td>-85.480000</td>\n      <td>2021-05-04T12:31:08-0500</td>\n    </tr>\n    <tr>\n      <th>29</th>\n      <td>7316814989</td>\n      <td>https://auburn.craigslist.org/ctd/d/auburn-uni...</td>\n      <td>auburn</td>\n      <td>https://auburn.craigslist.org</td>\n      <td>39590</td>\n      <td>2020.0</td>\n      <td>chevrolet</td>\n      <td>silverado 1500 crew</td>\n      <td>good</td>\n      <td>8 cylinders</td>\n      <td>...</td>\n      <td>NaN</td>\n      <td>pickup</td>\n      <td>red</td>\n      <td>https://images.craigslist.org/01212_jjirIWa0y0...</td>\n      <td>Carvana is the safer way to buy a car During t...</td>\n      <td>NaN</td>\n      <td>al</td>\n      <td>32.590000</td>\n      <td>-85.480000</td>\n      <td>2021-05-04T12:31:25-0500</td>\n    </tr>\n    <tr>\n      <th>30</th>\n      <td>7316743432</td>\n      <td>https://auburn.craigslist.org/ctd/d/auburn-uni...</td>\n      <td>auburn</td>\n      <td>https://auburn.craigslist.org</td>\n      <td>30990</td>\n      <td>2017.0</td>\n      <td>toyota</td>\n      <td>tundra double cab sr</td>\n      <td>good</td>\n      <td>8 cylinders</td>\n      <td>...</td>\n      <td>NaN</td>\n      <td>pickup</td>\n      <td>red</td>\n      <td>https://images.craigslist.org/00x0x_1y9kIOzGCF...</td>\n      <td>Carvana is the safer way to buy a car During t...</td>\n      <td>NaN</td>\n      <td>al</td>\n      <td>32.590000</td>\n      <td>-85.480000</td>\n      <td>2021-05-04T10:41:31-0500</td>\n    </tr>\n    <tr>\n      <th>31</th>\n      <td>7316356412</td>\n      <td>https://auburn.craigslist.org/cto/d/auburn-uni...</td>\n      <td>auburn</td>\n      <td>https://auburn.craigslist.org</td>\n      <td>15000</td>\n      <td>2013.0</td>\n      <td>ford</td>\n      <td>f-150 xlt</td>\n      <td>excellent</td>\n      <td>6 cylinders</td>\n      <td>...</td>\n      <td>full-size</td>\n      <td>truck</td>\n      <td>black</td>\n      <td>https://images.craigslist.org/00404_l4loxHvdQe...</td>\n      <td>2013 F-150 XLT V6 4 Door. Good condition. Leve...</td>\n      <td>NaN</td>\n      <td>al</td>\n      <td>32.592000</td>\n      <td>-85.518900</td>\n      <td>2021-05-03T14:02:03-0500</td>\n    </tr>\n    <tr>\n      <th>...</th>\n      <td>...</td>\n      <td>...</td>\n      <td>...</td>\n      <td>...</td>\n      <td>...</td>\n      <td>...</td>\n      <td>...</td>\n      <td>...</td>\n      <td>...</td>\n      <td>...</td>\n      <td>...</td>\n      <td>...</td>\n      <td>...</td>\n      <td>...</td>\n      <td>...</td>\n      <td>...</td>\n      <td>...</td>\n      <td>...</td>\n      <td>...</td>\n      <td>...</td>\n      <td>...</td>\n    </tr>\n    <tr>\n      <th>426875</th>\n      <td>7301591192</td>\n      <td>https://wyoming.craigslist.org/ctd/d/atlanta-2...</td>\n      <td>wyoming</td>\n      <td>https://wyoming.craigslist.org</td>\n      <td>23590</td>\n      <td>2019.0</td>\n      <td>nissan</td>\n      <td>maxima s sedan 4d</td>\n      <td>good</td>\n      <td>6 cylinders</td>\n      <td>...</td>\n      <td>NaN</td>\n      <td>sedan</td>\n      <td>NaN</td>\n      <td>https://images.craigslist.org/00o0o_iiraFnHg8q...</td>\n      <td>Carvana is the safer way to buy a car During t...</td>\n      <td>NaN</td>\n      <td>wy</td>\n      <td>33.786500</td>\n      <td>-84.445400</td>\n      <td>2021-04-04T03:21:31-0600</td>\n    </tr>\n    <tr>\n      <th>426876</th>\n      <td>7301591187</td>\n      <td>https://wyoming.craigslist.org/ctd/d/atlanta-2...</td>\n      <td>wyoming</td>\n      <td>https://wyoming.craigslist.org</td>\n      <td>30590</td>\n      <td>2020.0</td>\n      <td>volvo</td>\n      <td>s60 t5 momentum sedan 4d</td>\n      <td>good</td>\n      <td>NaN</td>\n      <td>...</td>\n      <td>NaN</td>\n      <td>sedan</td>\n      <td>red</td>\n      <td>https://images.craigslist.org/00x0x_15sbgnxCIS...</td>\n      <td>Carvana is the safer way to buy a car During t...</td>\n      <td>NaN</td>\n      <td>wy</td>\n      <td>33.786500</td>\n      <td>-84.445400</td>\n      <td>2021-04-04T03:21:29-0600</td>\n    </tr>\n    <tr>\n      <th>426877</th>\n      <td>7301591147</td>\n      <td>https://wyoming.craigslist.org/ctd/d/atlanta-2...</td>\n      <td>wyoming</td>\n      <td>https://wyoming.craigslist.org</td>\n      <td>34990</td>\n      <td>2020.0</td>\n      <td>cadillac</td>\n      <td>xt4 sport suv 4d</td>\n      <td>good</td>\n      <td>NaN</td>\n      <td>...</td>\n      <td>NaN</td>\n      <td>hatchback</td>\n      <td>white</td>\n      <td>https://images.craigslist.org/00L0L_farM7bxnxR...</td>\n      <td>Carvana is the safer way to buy a car During t...</td>\n      <td>NaN</td>\n      <td>wy</td>\n      <td>33.779214</td>\n      <td>-84.411811</td>\n      <td>2021-04-04T03:21:17-0600</td>\n    </tr>\n    <tr>\n      <th>426878</th>\n      <td>7301591140</td>\n      <td>https://wyoming.craigslist.org/ctd/d/atlanta-2...</td>\n      <td>wyoming</td>\n      <td>https://wyoming.craigslist.org</td>\n      <td>28990</td>\n      <td>2018.0</td>\n      <td>lexus</td>\n      <td>es 350 sedan 4d</td>\n      <td>good</td>\n      <td>6 cylinders</td>\n      <td>...</td>\n      <td>NaN</td>\n      <td>sedan</td>\n      <td>silver</td>\n      <td>https://images.craigslist.org/00z0z_bKnIVGLkDT...</td>\n      <td>Carvana is the safer way to buy a car During t...</td>\n      <td>NaN</td>\n      <td>wy</td>\n      <td>33.786500</td>\n      <td>-84.445400</td>\n      <td>2021-04-04T03:21:11-0600</td>\n    </tr>\n    <tr>\n      <th>426879</th>\n      <td>7301591129</td>\n      <td>https://wyoming.craigslist.org/ctd/d/atlanta-2...</td>\n      <td>wyoming</td>\n      <td>https://wyoming.craigslist.org</td>\n      <td>30590</td>\n      <td>2019.0</td>\n      <td>bmw</td>\n      <td>4 series 430i gran coupe</td>\n      <td>good</td>\n      <td>NaN</td>\n      <td>...</td>\n      <td>NaN</td>\n      <td>coupe</td>\n      <td>NaN</td>\n      <td>https://images.craigslist.org/00Y0Y_lEUocjyRxa...</td>\n      <td>Carvana is the safer way to buy a car During t...</td>\n      <td>NaN</td>\n      <td>wy</td>\n      <td>33.779214</td>\n      <td>-84.411811</td>\n      <td>2021-04-04T03:21:07-0600</td>\n    </tr>\n  </tbody>\n</table>\n<p>365289 rows × 26 columns</p>\n</div>"
     },
     "execution_count": 72,
     "metadata": {},
     "output_type": "execute_result"
    }
   ],
   "source": [
    "df = df[(df['price'] + df['odometer']) > 5000]\n",
    "df"
   ],
   "metadata": {
    "collapsed": false,
    "pycharm": {
     "name": "#%%\n"
    }
   }
  },
  {
   "cell_type": "markdown",
   "source": [
    "#### Видаляєм null значення з вагомих калонок"
   ],
   "metadata": {
    "collapsed": false,
    "pycharm": {
     "name": "#%% md\n"
    }
   }
  },
  {
   "cell_type": "code",
   "execution_count": 73,
   "outputs": [
    {
     "data": {
      "text/plain": "                id                                                url  \\\n31      7316356412  https://auburn.craigslist.org/cto/d/auburn-uni...   \n32      7316343444  https://auburn.craigslist.org/ctd/d/auburn-uni...   \n33      7316304717  https://auburn.craigslist.org/ctd/d/auburn-uni...   \n34      7316285779  https://auburn.craigslist.org/cto/d/auburn-201...   \n35      7316257769  https://auburn.craigslist.org/ctd/d/auburn-uni...   \n...            ...                                                ...   \n426872  7301591201  https://wyoming.craigslist.org/ctd/d/atlanta-2...   \n426873  7301591202  https://wyoming.craigslist.org/ctd/d/atlanta-2...   \n426874  7301591199  https://wyoming.craigslist.org/ctd/d/atlanta-2...   \n426876  7301591187  https://wyoming.craigslist.org/ctd/d/atlanta-2...   \n426878  7301591140  https://wyoming.craigslist.org/ctd/d/atlanta-2...   \n\n         region                      region_url  price    year   manufacturer  \\\n31       auburn   https://auburn.craigslist.org  15000  2013.0           ford   \n32       auburn   https://auburn.craigslist.org  27990  2012.0            gmc   \n33       auburn   https://auburn.craigslist.org  34590  2016.0      chevrolet   \n34       auburn   https://auburn.craigslist.org  35000  2019.0         toyota   \n35       auburn   https://auburn.craigslist.org  29990  2016.0      chevrolet   \n...         ...                             ...    ...     ...            ...   \n426872  wyoming  https://wyoming.craigslist.org  32590  2020.0  mercedes-benz   \n426873  wyoming  https://wyoming.craigslist.org  30990  2018.0  mercedes-benz   \n426874  wyoming  https://wyoming.craigslist.org  33590  2018.0          lexus   \n426876  wyoming  https://wyoming.craigslist.org  30590  2020.0          volvo   \n426878  wyoming  https://wyoming.craigslist.org  28990  2018.0          lexus   \n\n                              model  condition    cylinders  ...       size  \\\n31                        f-150 xlt  excellent  6 cylinders  ...  full-size   \n32      sierra 2500 hd extended cab       good  8 cylinders  ...        NaN   \n33            silverado 1500 double       good  6 cylinders  ...        NaN   \n34                           tacoma  excellent  6 cylinders  ...        NaN   \n35            colorado extended cab       good  6 cylinders  ...        NaN   \n...                             ...        ...          ...  ...        ...   \n426872                c-class c 300       good          NaN  ...        NaN   \n426873                glc 300 sport       good          NaN  ...        NaN   \n426874              gs 350 sedan 4d       good  6 cylinders  ...        NaN   \n426876     s60 t5 momentum sedan 4d       good          NaN  ...        NaN   \n426878              es 350 sedan 4d       good  6 cylinders  ...        NaN   \n\n          type paint_color                                          image_url  \\\n31       truck       black  https://images.craigslist.org/00404_l4loxHvdQe...   \n32      pickup       black  https://images.craigslist.org/00V0V_ftJbKrOgdi...   \n33      pickup      silver  https://images.craigslist.org/00E0E_iKN07Sh7ou...   \n34       truck        grey  https://images.craigslist.org/00101_dXoZTH7iVm...   \n35      pickup         red  https://images.craigslist.org/00N0N_1xMPvfxRAI...   \n...        ...         ...                                                ...   \n426872   sedan       white  https://images.craigslist.org/00808_bYj0inoZ58...   \n426873   other       white  https://images.craigslist.org/00Q0Q_9VUbj91fKb...   \n426874   sedan       white  https://images.craigslist.org/00I0I_hJHfjCUppa...   \n426876   sedan         red  https://images.craigslist.org/00x0x_15sbgnxCIS...   \n426878   sedan      silver  https://images.craigslist.org/00z0z_bKnIVGLkDT...   \n\n                                              description county state  \\\n31      2013 F-150 XLT V6 4 Door. Good condition. Leve...    NaN    al   \n32      Carvana is the safer way to buy a car During t...    NaN    al   \n33      Carvana is the safer way to buy a car During t...    NaN    al   \n34      Selling my 2019 Toyota Tacoma TRD Off Road Dou...    NaN    al   \n35      Carvana is the safer way to buy a car During t...    NaN    al   \n...                                                   ...    ...   ...   \n426872  Carvana is the safer way to buy a car During t...    NaN    wy   \n426873  Carvana is the safer way to buy a car During t...    NaN    wy   \n426874  Carvana is the safer way to buy a car During t...    NaN    wy   \n426876  Carvana is the safer way to buy a car During t...    NaN    wy   \n426878  Carvana is the safer way to buy a car During t...    NaN    wy   \n\n              lat       long              posting_date  \n31      32.592000 -85.518900  2021-05-03T14:02:03-0500  \n32      32.590000 -85.480000  2021-05-03T13:41:25-0500  \n33      32.590000 -85.480000  2021-05-03T12:41:33-0500  \n34      32.601300 -85.443974  2021-05-03T12:12:59-0500  \n35      32.590000 -85.480000  2021-05-03T11:31:14-0500  \n...           ...        ...                       ...  \n426872  33.779214 -84.411811  2021-04-04T03:21:35-0600  \n426873  33.779214 -84.411811  2021-04-04T03:21:35-0600  \n426874  33.779214 -84.411811  2021-04-04T03:21:34-0600  \n426876  33.786500 -84.445400  2021-04-04T03:21:29-0600  \n426878  33.786500 -84.445400  2021-04-04T03:21:11-0600  \n\n[190785 rows x 26 columns]",
      "text/html": "<div>\n<style scoped>\n    .dataframe tbody tr th:only-of-type {\n        vertical-align: middle;\n    }\n\n    .dataframe tbody tr th {\n        vertical-align: top;\n    }\n\n    .dataframe thead th {\n        text-align: right;\n    }\n</style>\n<table border=\"1\" class=\"dataframe\">\n  <thead>\n    <tr style=\"text-align: right;\">\n      <th></th>\n      <th>id</th>\n      <th>url</th>\n      <th>region</th>\n      <th>region_url</th>\n      <th>price</th>\n      <th>year</th>\n      <th>manufacturer</th>\n      <th>model</th>\n      <th>condition</th>\n      <th>cylinders</th>\n      <th>...</th>\n      <th>size</th>\n      <th>type</th>\n      <th>paint_color</th>\n      <th>image_url</th>\n      <th>description</th>\n      <th>county</th>\n      <th>state</th>\n      <th>lat</th>\n      <th>long</th>\n      <th>posting_date</th>\n    </tr>\n  </thead>\n  <tbody>\n    <tr>\n      <th>31</th>\n      <td>7316356412</td>\n      <td>https://auburn.craigslist.org/cto/d/auburn-uni...</td>\n      <td>auburn</td>\n      <td>https://auburn.craigslist.org</td>\n      <td>15000</td>\n      <td>2013.0</td>\n      <td>ford</td>\n      <td>f-150 xlt</td>\n      <td>excellent</td>\n      <td>6 cylinders</td>\n      <td>...</td>\n      <td>full-size</td>\n      <td>truck</td>\n      <td>black</td>\n      <td>https://images.craigslist.org/00404_l4loxHvdQe...</td>\n      <td>2013 F-150 XLT V6 4 Door. Good condition. Leve...</td>\n      <td>NaN</td>\n      <td>al</td>\n      <td>32.592000</td>\n      <td>-85.518900</td>\n      <td>2021-05-03T14:02:03-0500</td>\n    </tr>\n    <tr>\n      <th>32</th>\n      <td>7316343444</td>\n      <td>https://auburn.craigslist.org/ctd/d/auburn-uni...</td>\n      <td>auburn</td>\n      <td>https://auburn.craigslist.org</td>\n      <td>27990</td>\n      <td>2012.0</td>\n      <td>gmc</td>\n      <td>sierra 2500 hd extended cab</td>\n      <td>good</td>\n      <td>8 cylinders</td>\n      <td>...</td>\n      <td>NaN</td>\n      <td>pickup</td>\n      <td>black</td>\n      <td>https://images.craigslist.org/00V0V_ftJbKrOgdi...</td>\n      <td>Carvana is the safer way to buy a car During t...</td>\n      <td>NaN</td>\n      <td>al</td>\n      <td>32.590000</td>\n      <td>-85.480000</td>\n      <td>2021-05-03T13:41:25-0500</td>\n    </tr>\n    <tr>\n      <th>33</th>\n      <td>7316304717</td>\n      <td>https://auburn.craigslist.org/ctd/d/auburn-uni...</td>\n      <td>auburn</td>\n      <td>https://auburn.craigslist.org</td>\n      <td>34590</td>\n      <td>2016.0</td>\n      <td>chevrolet</td>\n      <td>silverado 1500 double</td>\n      <td>good</td>\n      <td>6 cylinders</td>\n      <td>...</td>\n      <td>NaN</td>\n      <td>pickup</td>\n      <td>silver</td>\n      <td>https://images.craigslist.org/00E0E_iKN07Sh7ou...</td>\n      <td>Carvana is the safer way to buy a car During t...</td>\n      <td>NaN</td>\n      <td>al</td>\n      <td>32.590000</td>\n      <td>-85.480000</td>\n      <td>2021-05-03T12:41:33-0500</td>\n    </tr>\n    <tr>\n      <th>34</th>\n      <td>7316285779</td>\n      <td>https://auburn.craigslist.org/cto/d/auburn-201...</td>\n      <td>auburn</td>\n      <td>https://auburn.craigslist.org</td>\n      <td>35000</td>\n      <td>2019.0</td>\n      <td>toyota</td>\n      <td>tacoma</td>\n      <td>excellent</td>\n      <td>6 cylinders</td>\n      <td>...</td>\n      <td>NaN</td>\n      <td>truck</td>\n      <td>grey</td>\n      <td>https://images.craigslist.org/00101_dXoZTH7iVm...</td>\n      <td>Selling my 2019 Toyota Tacoma TRD Off Road Dou...</td>\n      <td>NaN</td>\n      <td>al</td>\n      <td>32.601300</td>\n      <td>-85.443974</td>\n      <td>2021-05-03T12:12:59-0500</td>\n    </tr>\n    <tr>\n      <th>35</th>\n      <td>7316257769</td>\n      <td>https://auburn.craigslist.org/ctd/d/auburn-uni...</td>\n      <td>auburn</td>\n      <td>https://auburn.craigslist.org</td>\n      <td>29990</td>\n      <td>2016.0</td>\n      <td>chevrolet</td>\n      <td>colorado extended cab</td>\n      <td>good</td>\n      <td>6 cylinders</td>\n      <td>...</td>\n      <td>NaN</td>\n      <td>pickup</td>\n      <td>red</td>\n      <td>https://images.craigslist.org/00N0N_1xMPvfxRAI...</td>\n      <td>Carvana is the safer way to buy a car During t...</td>\n      <td>NaN</td>\n      <td>al</td>\n      <td>32.590000</td>\n      <td>-85.480000</td>\n      <td>2021-05-03T11:31:14-0500</td>\n    </tr>\n    <tr>\n      <th>...</th>\n      <td>...</td>\n      <td>...</td>\n      <td>...</td>\n      <td>...</td>\n      <td>...</td>\n      <td>...</td>\n      <td>...</td>\n      <td>...</td>\n      <td>...</td>\n      <td>...</td>\n      <td>...</td>\n      <td>...</td>\n      <td>...</td>\n      <td>...</td>\n      <td>...</td>\n      <td>...</td>\n      <td>...</td>\n      <td>...</td>\n      <td>...</td>\n      <td>...</td>\n      <td>...</td>\n    </tr>\n    <tr>\n      <th>426872</th>\n      <td>7301591201</td>\n      <td>https://wyoming.craigslist.org/ctd/d/atlanta-2...</td>\n      <td>wyoming</td>\n      <td>https://wyoming.craigslist.org</td>\n      <td>32590</td>\n      <td>2020.0</td>\n      <td>mercedes-benz</td>\n      <td>c-class c 300</td>\n      <td>good</td>\n      <td>NaN</td>\n      <td>...</td>\n      <td>NaN</td>\n      <td>sedan</td>\n      <td>white</td>\n      <td>https://images.craigslist.org/00808_bYj0inoZ58...</td>\n      <td>Carvana is the safer way to buy a car During t...</td>\n      <td>NaN</td>\n      <td>wy</td>\n      <td>33.779214</td>\n      <td>-84.411811</td>\n      <td>2021-04-04T03:21:35-0600</td>\n    </tr>\n    <tr>\n      <th>426873</th>\n      <td>7301591202</td>\n      <td>https://wyoming.craigslist.org/ctd/d/atlanta-2...</td>\n      <td>wyoming</td>\n      <td>https://wyoming.craigslist.org</td>\n      <td>30990</td>\n      <td>2018.0</td>\n      <td>mercedes-benz</td>\n      <td>glc 300 sport</td>\n      <td>good</td>\n      <td>NaN</td>\n      <td>...</td>\n      <td>NaN</td>\n      <td>other</td>\n      <td>white</td>\n      <td>https://images.craigslist.org/00Q0Q_9VUbj91fKb...</td>\n      <td>Carvana is the safer way to buy a car During t...</td>\n      <td>NaN</td>\n      <td>wy</td>\n      <td>33.779214</td>\n      <td>-84.411811</td>\n      <td>2021-04-04T03:21:35-0600</td>\n    </tr>\n    <tr>\n      <th>426874</th>\n      <td>7301591199</td>\n      <td>https://wyoming.craigslist.org/ctd/d/atlanta-2...</td>\n      <td>wyoming</td>\n      <td>https://wyoming.craigslist.org</td>\n      <td>33590</td>\n      <td>2018.0</td>\n      <td>lexus</td>\n      <td>gs 350 sedan 4d</td>\n      <td>good</td>\n      <td>6 cylinders</td>\n      <td>...</td>\n      <td>NaN</td>\n      <td>sedan</td>\n      <td>white</td>\n      <td>https://images.craigslist.org/00I0I_hJHfjCUppa...</td>\n      <td>Carvana is the safer way to buy a car During t...</td>\n      <td>NaN</td>\n      <td>wy</td>\n      <td>33.779214</td>\n      <td>-84.411811</td>\n      <td>2021-04-04T03:21:34-0600</td>\n    </tr>\n    <tr>\n      <th>426876</th>\n      <td>7301591187</td>\n      <td>https://wyoming.craigslist.org/ctd/d/atlanta-2...</td>\n      <td>wyoming</td>\n      <td>https://wyoming.craigslist.org</td>\n      <td>30590</td>\n      <td>2020.0</td>\n      <td>volvo</td>\n      <td>s60 t5 momentum sedan 4d</td>\n      <td>good</td>\n      <td>NaN</td>\n      <td>...</td>\n      <td>NaN</td>\n      <td>sedan</td>\n      <td>red</td>\n      <td>https://images.craigslist.org/00x0x_15sbgnxCIS...</td>\n      <td>Carvana is the safer way to buy a car During t...</td>\n      <td>NaN</td>\n      <td>wy</td>\n      <td>33.786500</td>\n      <td>-84.445400</td>\n      <td>2021-04-04T03:21:29-0600</td>\n    </tr>\n    <tr>\n      <th>426878</th>\n      <td>7301591140</td>\n      <td>https://wyoming.craigslist.org/ctd/d/atlanta-2...</td>\n      <td>wyoming</td>\n      <td>https://wyoming.craigslist.org</td>\n      <td>28990</td>\n      <td>2018.0</td>\n      <td>lexus</td>\n      <td>es 350 sedan 4d</td>\n      <td>good</td>\n      <td>6 cylinders</td>\n      <td>...</td>\n      <td>NaN</td>\n      <td>sedan</td>\n      <td>silver</td>\n      <td>https://images.craigslist.org/00z0z_bKnIVGLkDT...</td>\n      <td>Carvana is the safer way to buy a car During t...</td>\n      <td>NaN</td>\n      <td>wy</td>\n      <td>33.786500</td>\n      <td>-84.445400</td>\n      <td>2021-04-04T03:21:11-0600</td>\n    </tr>\n  </tbody>\n</table>\n<p>190785 rows × 26 columns</p>\n</div>"
     },
     "execution_count": 73,
     "metadata": {},
     "output_type": "execute_result"
    }
   ],
   "source": [
    "row_to_check = ['year', 'model', 'fuel', 'transmission', 'drive', 'type', 'paint_color']\n",
    "for column in row_to_check:\n",
    "    df = df[~df[column].isnull()]\n",
    "df"
   ],
   "metadata": {
    "collapsed": false,
    "pycharm": {
     "name": "#%%\n"
    }
   }
  },
  {
   "cell_type": "code",
   "execution_count": 74,
   "outputs": [],
   "source": [
    "rm_brands = ['harley-davidson', 'alfa-romeo', 'datsun', 'tesla', 'land rover', 'porsche', 'aston-martin', 'ferrari']\n",
    "for brand in rm_brands:\n",
    "    df = df[~(df['manufacturer'] == brand)]"
   ],
   "metadata": {
    "collapsed": false,
    "pycharm": {
     "name": "#%%\n"
    }
   }
  },
  {
   "cell_type": "code",
   "execution_count": 75,
   "outputs": [],
   "source": [
    "df = df.drop(  # ці ознаки ніяк не впливають на ціну, просто ссилки на зображення, id-шники, опис і тд\n",
    "    ['VIN', 'posting_date', 'id', 'size', 'url', 'region', 'region_url', 'state', 'title_status', 'image_url', 'lat',\n",
    "     'long',\n",
    "     'description', 'county'], axis=1)"
   ],
   "metadata": {
    "collapsed": false,
    "pycharm": {
     "name": "#%%\n"
    }
   }
  },
  {
   "cell_type": "code",
   "execution_count": 76,
   "outputs": [
    {
     "data": {
      "text/plain": "f-150                    4056\nsilverado 1500           2609\n1500                     1851\ncamry                    1563\nsilverado                1467\n                         ... \ncts sedan 4d               51\nrabbit                     51\ncorvette stingray z51      51\nf-450                      51\ngx 460                     51\nName: model, Length: 603, dtype: int64"
     },
     "execution_count": 76,
     "metadata": {},
     "output_type": "execute_result"
    }
   ],
   "source": [
    "df = df.groupby('model').filter(lambda x: len(\n",
    "    x) > 50)  # виробники з малою к-стю лотів не сильно інформативні для моделей, в силу малої вибірки авто\n",
    "df['model'].value_counts()"
   ],
   "metadata": {
    "collapsed": false,
    "pycharm": {
     "name": "#%%\n"
    }
   }
  },
  {
   "cell_type": "code",
   "execution_count": 77,
   "outputs": [
    {
     "data": {
      "text/plain": "        price    year manufacturer                        model  condition  \\\n31      15000  2013.0         ford                    f-150 xlt  excellent   \n32      27990  2012.0          gmc  sierra 2500 hd extended cab       good   \n33      34590  2016.0    chevrolet        silverado 1500 double       good   \n34      35000  2019.0       toyota                       tacoma  excellent   \n35      29990  2016.0    chevrolet        colorado extended cab       good   \n...       ...     ...          ...                          ...        ...   \n426863  25590  2017.0         null     Genesis G80 3.8 Sedan 4D       good   \n426869  13990  2016.0         null        Scion iM Hatchback 4D       good   \n426870  22990  2020.0      hyundai           sonata se sedan 4d       good   \n426874  33590  2018.0        lexus              gs 350 sedan 4d       good   \n426878  28990  2018.0        lexus              es 350 sedan 4d       good   \n\n          cylinders   fuel  odometer transmission drive       type paint_color  \n31      6 cylinders    gas  128000.0    automatic   rwd      truck       black  \n32      8 cylinders    gas   68696.0        other   4wd     pickup       black  \n33      6 cylinders    gas   29499.0        other   4wd     pickup      silver  \n34      6 cylinders    gas   43000.0    automatic   4wd      truck        grey  \n35      6 cylinders    gas   17302.0        other   4wd     pickup         red  \n...             ...    ...       ...          ...   ...        ...         ...  \n426863  6 cylinders    gas   37608.0    automatic   rwd      sedan       white  \n426869         null  other   75626.0        other   fwd  hatchback       white  \n426870         null    gas    3066.0        other   fwd      sedan        blue  \n426874  6 cylinders    gas   30814.0    automatic   rwd      sedan       white  \n426878  6 cylinders    gas   30112.0        other   fwd      sedan      silver  \n\n[122436 rows x 12 columns]",
      "text/html": "<div>\n<style scoped>\n    .dataframe tbody tr th:only-of-type {\n        vertical-align: middle;\n    }\n\n    .dataframe tbody tr th {\n        vertical-align: top;\n    }\n\n    .dataframe thead th {\n        text-align: right;\n    }\n</style>\n<table border=\"1\" class=\"dataframe\">\n  <thead>\n    <tr style=\"text-align: right;\">\n      <th></th>\n      <th>price</th>\n      <th>year</th>\n      <th>manufacturer</th>\n      <th>model</th>\n      <th>condition</th>\n      <th>cylinders</th>\n      <th>fuel</th>\n      <th>odometer</th>\n      <th>transmission</th>\n      <th>drive</th>\n      <th>type</th>\n      <th>paint_color</th>\n    </tr>\n  </thead>\n  <tbody>\n    <tr>\n      <th>31</th>\n      <td>15000</td>\n      <td>2013.0</td>\n      <td>ford</td>\n      <td>f-150 xlt</td>\n      <td>excellent</td>\n      <td>6 cylinders</td>\n      <td>gas</td>\n      <td>128000.0</td>\n      <td>automatic</td>\n      <td>rwd</td>\n      <td>truck</td>\n      <td>black</td>\n    </tr>\n    <tr>\n      <th>32</th>\n      <td>27990</td>\n      <td>2012.0</td>\n      <td>gmc</td>\n      <td>sierra 2500 hd extended cab</td>\n      <td>good</td>\n      <td>8 cylinders</td>\n      <td>gas</td>\n      <td>68696.0</td>\n      <td>other</td>\n      <td>4wd</td>\n      <td>pickup</td>\n      <td>black</td>\n    </tr>\n    <tr>\n      <th>33</th>\n      <td>34590</td>\n      <td>2016.0</td>\n      <td>chevrolet</td>\n      <td>silverado 1500 double</td>\n      <td>good</td>\n      <td>6 cylinders</td>\n      <td>gas</td>\n      <td>29499.0</td>\n      <td>other</td>\n      <td>4wd</td>\n      <td>pickup</td>\n      <td>silver</td>\n    </tr>\n    <tr>\n      <th>34</th>\n      <td>35000</td>\n      <td>2019.0</td>\n      <td>toyota</td>\n      <td>tacoma</td>\n      <td>excellent</td>\n      <td>6 cylinders</td>\n      <td>gas</td>\n      <td>43000.0</td>\n      <td>automatic</td>\n      <td>4wd</td>\n      <td>truck</td>\n      <td>grey</td>\n    </tr>\n    <tr>\n      <th>35</th>\n      <td>29990</td>\n      <td>2016.0</td>\n      <td>chevrolet</td>\n      <td>colorado extended cab</td>\n      <td>good</td>\n      <td>6 cylinders</td>\n      <td>gas</td>\n      <td>17302.0</td>\n      <td>other</td>\n      <td>4wd</td>\n      <td>pickup</td>\n      <td>red</td>\n    </tr>\n    <tr>\n      <th>...</th>\n      <td>...</td>\n      <td>...</td>\n      <td>...</td>\n      <td>...</td>\n      <td>...</td>\n      <td>...</td>\n      <td>...</td>\n      <td>...</td>\n      <td>...</td>\n      <td>...</td>\n      <td>...</td>\n      <td>...</td>\n    </tr>\n    <tr>\n      <th>426863</th>\n      <td>25590</td>\n      <td>2017.0</td>\n      <td>null</td>\n      <td>Genesis G80 3.8 Sedan 4D</td>\n      <td>good</td>\n      <td>6 cylinders</td>\n      <td>gas</td>\n      <td>37608.0</td>\n      <td>automatic</td>\n      <td>rwd</td>\n      <td>sedan</td>\n      <td>white</td>\n    </tr>\n    <tr>\n      <th>426869</th>\n      <td>13990</td>\n      <td>2016.0</td>\n      <td>null</td>\n      <td>Scion iM Hatchback 4D</td>\n      <td>good</td>\n      <td>null</td>\n      <td>other</td>\n      <td>75626.0</td>\n      <td>other</td>\n      <td>fwd</td>\n      <td>hatchback</td>\n      <td>white</td>\n    </tr>\n    <tr>\n      <th>426870</th>\n      <td>22990</td>\n      <td>2020.0</td>\n      <td>hyundai</td>\n      <td>sonata se sedan 4d</td>\n      <td>good</td>\n      <td>null</td>\n      <td>gas</td>\n      <td>3066.0</td>\n      <td>other</td>\n      <td>fwd</td>\n      <td>sedan</td>\n      <td>blue</td>\n    </tr>\n    <tr>\n      <th>426874</th>\n      <td>33590</td>\n      <td>2018.0</td>\n      <td>lexus</td>\n      <td>gs 350 sedan 4d</td>\n      <td>good</td>\n      <td>6 cylinders</td>\n      <td>gas</td>\n      <td>30814.0</td>\n      <td>automatic</td>\n      <td>rwd</td>\n      <td>sedan</td>\n      <td>white</td>\n    </tr>\n    <tr>\n      <th>426878</th>\n      <td>28990</td>\n      <td>2018.0</td>\n      <td>lexus</td>\n      <td>es 350 sedan 4d</td>\n      <td>good</td>\n      <td>6 cylinders</td>\n      <td>gas</td>\n      <td>30112.0</td>\n      <td>other</td>\n      <td>fwd</td>\n      <td>sedan</td>\n      <td>silver</td>\n    </tr>\n  </tbody>\n</table>\n<p>122436 rows × 12 columns</p>\n</div>"
     },
     "execution_count": 77,
     "metadata": {},
     "output_type": "execute_result"
    }
   ],
   "source": [
    "df = df.replace(np.nan, 'null',\n",
    "                regex=True)  # В деяких записах наявна більшість потрібних ознак, крім manufacturer, cylinders, condition, можна замінити на любу іншу назву по типу other\n",
    "df"
   ],
   "metadata": {
    "collapsed": false,
    "pycharm": {
     "name": "#%%\n"
    }
   }
  },
  {
   "cell_type": "code",
   "execution_count": 78,
   "outputs": [
    {
     "data": {
      "text/plain": "        price    year manufacturer                        model  condition  \\\n31      15000  2013.0         ford                    f-150 xlt  excellent   \n32      27990  2012.0          gmc  sierra 2500 hd extended cab       good   \n33      34590  2016.0    chevrolet        silverado 1500 double       good   \n34      35000  2019.0       toyota                       tacoma  excellent   \n35      29990  2016.0    chevrolet        colorado extended cab       good   \n...       ...     ...          ...                          ...        ...   \n426863  25590  2017.0         null     Genesis G80 3.8 Sedan 4D       good   \n426869  13990  2016.0         null        Scion iM Hatchback 4D       good   \n426870  22990  2020.0      hyundai           sonata se sedan 4d       good   \n426874  33590  2018.0        lexus              gs 350 sedan 4d       good   \n426878  28990  2018.0        lexus              es 350 sedan 4d       good   \n\n          cylinders   fuel  odometer transmission drive       type paint_color  \n31      6 cylinders    gas  128000.0    automatic   rwd      truck       black  \n32      8 cylinders    gas   68696.0        other   4wd     pickup       black  \n33      6 cylinders    gas   29499.0        other   4wd     pickup      silver  \n34      6 cylinders    gas   43000.0    automatic   4wd      truck        grey  \n35      6 cylinders    gas   17302.0        other   4wd     pickup         red  \n...             ...    ...       ...          ...   ...        ...         ...  \n426863  6 cylinders    gas   37608.0    automatic   rwd      sedan       white  \n426869         null  other   75626.0        other   fwd  hatchback       white  \n426870         null    gas    3066.0        other   fwd      sedan        blue  \n426874  6 cylinders    gas   30814.0    automatic   rwd      sedan       white  \n426878  6 cylinders    gas   30112.0        other   fwd      sedan      silver  \n\n[122436 rows x 12 columns]",
      "text/html": "<div>\n<style scoped>\n    .dataframe tbody tr th:only-of-type {\n        vertical-align: middle;\n    }\n\n    .dataframe tbody tr th {\n        vertical-align: top;\n    }\n\n    .dataframe thead th {\n        text-align: right;\n    }\n</style>\n<table border=\"1\" class=\"dataframe\">\n  <thead>\n    <tr style=\"text-align: right;\">\n      <th></th>\n      <th>price</th>\n      <th>year</th>\n      <th>manufacturer</th>\n      <th>model</th>\n      <th>condition</th>\n      <th>cylinders</th>\n      <th>fuel</th>\n      <th>odometer</th>\n      <th>transmission</th>\n      <th>drive</th>\n      <th>type</th>\n      <th>paint_color</th>\n    </tr>\n  </thead>\n  <tbody>\n    <tr>\n      <th>31</th>\n      <td>15000</td>\n      <td>2013.0</td>\n      <td>ford</td>\n      <td>f-150 xlt</td>\n      <td>excellent</td>\n      <td>6 cylinders</td>\n      <td>gas</td>\n      <td>128000.0</td>\n      <td>automatic</td>\n      <td>rwd</td>\n      <td>truck</td>\n      <td>black</td>\n    </tr>\n    <tr>\n      <th>32</th>\n      <td>27990</td>\n      <td>2012.0</td>\n      <td>gmc</td>\n      <td>sierra 2500 hd extended cab</td>\n      <td>good</td>\n      <td>8 cylinders</td>\n      <td>gas</td>\n      <td>68696.0</td>\n      <td>other</td>\n      <td>4wd</td>\n      <td>pickup</td>\n      <td>black</td>\n    </tr>\n    <tr>\n      <th>33</th>\n      <td>34590</td>\n      <td>2016.0</td>\n      <td>chevrolet</td>\n      <td>silverado 1500 double</td>\n      <td>good</td>\n      <td>6 cylinders</td>\n      <td>gas</td>\n      <td>29499.0</td>\n      <td>other</td>\n      <td>4wd</td>\n      <td>pickup</td>\n      <td>silver</td>\n    </tr>\n    <tr>\n      <th>34</th>\n      <td>35000</td>\n      <td>2019.0</td>\n      <td>toyota</td>\n      <td>tacoma</td>\n      <td>excellent</td>\n      <td>6 cylinders</td>\n      <td>gas</td>\n      <td>43000.0</td>\n      <td>automatic</td>\n      <td>4wd</td>\n      <td>truck</td>\n      <td>grey</td>\n    </tr>\n    <tr>\n      <th>35</th>\n      <td>29990</td>\n      <td>2016.0</td>\n      <td>chevrolet</td>\n      <td>colorado extended cab</td>\n      <td>good</td>\n      <td>6 cylinders</td>\n      <td>gas</td>\n      <td>17302.0</td>\n      <td>other</td>\n      <td>4wd</td>\n      <td>pickup</td>\n      <td>red</td>\n    </tr>\n    <tr>\n      <th>...</th>\n      <td>...</td>\n      <td>...</td>\n      <td>...</td>\n      <td>...</td>\n      <td>...</td>\n      <td>...</td>\n      <td>...</td>\n      <td>...</td>\n      <td>...</td>\n      <td>...</td>\n      <td>...</td>\n      <td>...</td>\n    </tr>\n    <tr>\n      <th>426863</th>\n      <td>25590</td>\n      <td>2017.0</td>\n      <td>null</td>\n      <td>Genesis G80 3.8 Sedan 4D</td>\n      <td>good</td>\n      <td>6 cylinders</td>\n      <td>gas</td>\n      <td>37608.0</td>\n      <td>automatic</td>\n      <td>rwd</td>\n      <td>sedan</td>\n      <td>white</td>\n    </tr>\n    <tr>\n      <th>426869</th>\n      <td>13990</td>\n      <td>2016.0</td>\n      <td>null</td>\n      <td>Scion iM Hatchback 4D</td>\n      <td>good</td>\n      <td>null</td>\n      <td>other</td>\n      <td>75626.0</td>\n      <td>other</td>\n      <td>fwd</td>\n      <td>hatchback</td>\n      <td>white</td>\n    </tr>\n    <tr>\n      <th>426870</th>\n      <td>22990</td>\n      <td>2020.0</td>\n      <td>hyundai</td>\n      <td>sonata se sedan 4d</td>\n      <td>good</td>\n      <td>null</td>\n      <td>gas</td>\n      <td>3066.0</td>\n      <td>other</td>\n      <td>fwd</td>\n      <td>sedan</td>\n      <td>blue</td>\n    </tr>\n    <tr>\n      <th>426874</th>\n      <td>33590</td>\n      <td>2018.0</td>\n      <td>lexus</td>\n      <td>gs 350 sedan 4d</td>\n      <td>good</td>\n      <td>6 cylinders</td>\n      <td>gas</td>\n      <td>30814.0</td>\n      <td>automatic</td>\n      <td>rwd</td>\n      <td>sedan</td>\n      <td>white</td>\n    </tr>\n    <tr>\n      <th>426878</th>\n      <td>28990</td>\n      <td>2018.0</td>\n      <td>lexus</td>\n      <td>es 350 sedan 4d</td>\n      <td>good</td>\n      <td>6 cylinders</td>\n      <td>gas</td>\n      <td>30112.0</td>\n      <td>other</td>\n      <td>fwd</td>\n      <td>sedan</td>\n      <td>silver</td>\n    </tr>\n  </tbody>\n</table>\n<p>122436 rows × 12 columns</p>\n</div>"
     },
     "execution_count": 78,
     "metadata": {},
     "output_type": "execute_result"
    }
   ],
   "source": [
    "df.dropna(axis=0, inplace=True)\n",
    "df"
   ],
   "metadata": {
    "collapsed": false,
    "pycharm": {
     "name": "#%%\n"
    }
   }
  },
  {
   "cell_type": "code",
   "execution_count": 79,
   "outputs": [
    {
     "data": {
      "text/plain": "price           0\nyear            0\nmanufacturer    0\nmodel           0\ncondition       0\ncylinders       0\nfuel            0\nodometer        0\ntransmission    0\ndrive           0\ntype            0\npaint_color     0\ndtype: int64"
     },
     "execution_count": 79,
     "metadata": {},
     "output_type": "execute_result"
    }
   ],
   "source": [
    "df.isnull().sum()"
   ],
   "metadata": {
    "collapsed": false,
    "pycharm": {
     "name": "#%%\n"
    }
   }
  },
  {
   "cell_type": "code",
   "execution_count": null,
   "outputs": [],
   "source": [
    "df.to_csv('preprocessed_v.csv')"
   ],
   "metadata": {
    "collapsed": false,
    "pycharm": {
     "name": "#%%\n"
    }
   }
  },
  {
   "cell_type": "code",
   "execution_count": 2,
   "outputs": [],
   "source": [
    "# Щоб не ранити весь код зверху, можна загрузити препроцеснутий датасет\n",
    "df = pd.read_csv('preprocessed_v.csv')\n",
    "df = df.replace(np.nan, 'null', regex=True)\n",
    "df = df.drop(columns='Unnamed: 0')"
   ],
   "metadata": {
    "collapsed": false,
    "pycharm": {
     "name": "#%%\n"
    }
   }
  },
  {
   "cell_type": "code",
   "execution_count": 3,
   "outputs": [
    {
     "data": {
      "text/plain": "(122436, 12)"
     },
     "execution_count": 3,
     "metadata": {},
     "output_type": "execute_result"
    }
   ],
   "source": [
    "encoded_data = df[df.columns]\n",
    "encoded_data = encoded_data.dropna()\n",
    "encoded_data.shape"
   ],
   "metadata": {
    "collapsed": false,
    "pycharm": {
     "name": "#%%\n"
    }
   }
  },
  {
   "cell_type": "code",
   "execution_count": 4,
   "outputs": [
    {
     "data": {
      "text/plain": "        price      year manufacturer                        model  condition  \\\n0       15000  0.141352         ford                    f-150 xlt  excellent   \n1       27990 -0.024487          gmc  sierra 2500 hd extended cab       good   \n2       34590  0.638869    chevrolet        silverado 1500 double       good   \n3       35000  1.136385       toyota                       tacoma  excellent   \n4       29990  0.638869    chevrolet        colorado extended cab       good   \n...       ...       ...          ...                          ...        ...   \n122431  25590  0.804708         null     Genesis G80 3.8 Sedan 4D       good   \n122432  13990  0.638869         null        Scion iM Hatchback 4D       good   \n122433  22990  1.302224      hyundai           sonata se sedan 4d       good   \n122434  33590  0.970546        lexus              gs 350 sedan 4d       good   \n122435  28990  0.970546        lexus              es 350 sedan 4d       good   \n\n          cylinders   fuel  odometer transmission drive       type paint_color  \n0       6 cylinders    gas  0.272400    automatic   rwd      truck       black  \n1       8 cylinders    gas -0.279794        other   4wd     pickup       black  \n2       6 cylinders    gas -0.644768        other   4wd     pickup      silver  \n3       6 cylinders    gas -0.519057    automatic   4wd      truck        grey  \n4       6 cylinders    gas -0.758337        other   4wd     pickup         red  \n...             ...    ...       ...          ...   ...        ...         ...  \n122431  6 cylinders    gas -0.569263    automatic   rwd      sedan       white  \n122432         null  other -0.215267        other   fwd  hatchback       white  \n122433         null    gas -0.890892        other   fwd      sedan        blue  \n122434  6 cylinders    gas -0.632524    automatic   rwd      sedan       white  \n122435  6 cylinders    gas -0.639060        other   fwd      sedan      silver  \n\n[122436 rows x 12 columns]",
      "text/html": "<div>\n<style scoped>\n    .dataframe tbody tr th:only-of-type {\n        vertical-align: middle;\n    }\n\n    .dataframe tbody tr th {\n        vertical-align: top;\n    }\n\n    .dataframe thead th {\n        text-align: right;\n    }\n</style>\n<table border=\"1\" class=\"dataframe\">\n  <thead>\n    <tr style=\"text-align: right;\">\n      <th></th>\n      <th>price</th>\n      <th>year</th>\n      <th>manufacturer</th>\n      <th>model</th>\n      <th>condition</th>\n      <th>cylinders</th>\n      <th>fuel</th>\n      <th>odometer</th>\n      <th>transmission</th>\n      <th>drive</th>\n      <th>type</th>\n      <th>paint_color</th>\n    </tr>\n  </thead>\n  <tbody>\n    <tr>\n      <th>0</th>\n      <td>15000</td>\n      <td>0.141352</td>\n      <td>ford</td>\n      <td>f-150 xlt</td>\n      <td>excellent</td>\n      <td>6 cylinders</td>\n      <td>gas</td>\n      <td>0.272400</td>\n      <td>automatic</td>\n      <td>rwd</td>\n      <td>truck</td>\n      <td>black</td>\n    </tr>\n    <tr>\n      <th>1</th>\n      <td>27990</td>\n      <td>-0.024487</td>\n      <td>gmc</td>\n      <td>sierra 2500 hd extended cab</td>\n      <td>good</td>\n      <td>8 cylinders</td>\n      <td>gas</td>\n      <td>-0.279794</td>\n      <td>other</td>\n      <td>4wd</td>\n      <td>pickup</td>\n      <td>black</td>\n    </tr>\n    <tr>\n      <th>2</th>\n      <td>34590</td>\n      <td>0.638869</td>\n      <td>chevrolet</td>\n      <td>silverado 1500 double</td>\n      <td>good</td>\n      <td>6 cylinders</td>\n      <td>gas</td>\n      <td>-0.644768</td>\n      <td>other</td>\n      <td>4wd</td>\n      <td>pickup</td>\n      <td>silver</td>\n    </tr>\n    <tr>\n      <th>3</th>\n      <td>35000</td>\n      <td>1.136385</td>\n      <td>toyota</td>\n      <td>tacoma</td>\n      <td>excellent</td>\n      <td>6 cylinders</td>\n      <td>gas</td>\n      <td>-0.519057</td>\n      <td>automatic</td>\n      <td>4wd</td>\n      <td>truck</td>\n      <td>grey</td>\n    </tr>\n    <tr>\n      <th>4</th>\n      <td>29990</td>\n      <td>0.638869</td>\n      <td>chevrolet</td>\n      <td>colorado extended cab</td>\n      <td>good</td>\n      <td>6 cylinders</td>\n      <td>gas</td>\n      <td>-0.758337</td>\n      <td>other</td>\n      <td>4wd</td>\n      <td>pickup</td>\n      <td>red</td>\n    </tr>\n    <tr>\n      <th>...</th>\n      <td>...</td>\n      <td>...</td>\n      <td>...</td>\n      <td>...</td>\n      <td>...</td>\n      <td>...</td>\n      <td>...</td>\n      <td>...</td>\n      <td>...</td>\n      <td>...</td>\n      <td>...</td>\n      <td>...</td>\n    </tr>\n    <tr>\n      <th>122431</th>\n      <td>25590</td>\n      <td>0.804708</td>\n      <td>null</td>\n      <td>Genesis G80 3.8 Sedan 4D</td>\n      <td>good</td>\n      <td>6 cylinders</td>\n      <td>gas</td>\n      <td>-0.569263</td>\n      <td>automatic</td>\n      <td>rwd</td>\n      <td>sedan</td>\n      <td>white</td>\n    </tr>\n    <tr>\n      <th>122432</th>\n      <td>13990</td>\n      <td>0.638869</td>\n      <td>null</td>\n      <td>Scion iM Hatchback 4D</td>\n      <td>good</td>\n      <td>null</td>\n      <td>other</td>\n      <td>-0.215267</td>\n      <td>other</td>\n      <td>fwd</td>\n      <td>hatchback</td>\n      <td>white</td>\n    </tr>\n    <tr>\n      <th>122433</th>\n      <td>22990</td>\n      <td>1.302224</td>\n      <td>hyundai</td>\n      <td>sonata se sedan 4d</td>\n      <td>good</td>\n      <td>null</td>\n      <td>gas</td>\n      <td>-0.890892</td>\n      <td>other</td>\n      <td>fwd</td>\n      <td>sedan</td>\n      <td>blue</td>\n    </tr>\n    <tr>\n      <th>122434</th>\n      <td>33590</td>\n      <td>0.970546</td>\n      <td>lexus</td>\n      <td>gs 350 sedan 4d</td>\n      <td>good</td>\n      <td>6 cylinders</td>\n      <td>gas</td>\n      <td>-0.632524</td>\n      <td>automatic</td>\n      <td>rwd</td>\n      <td>sedan</td>\n      <td>white</td>\n    </tr>\n    <tr>\n      <th>122435</th>\n      <td>28990</td>\n      <td>0.970546</td>\n      <td>lexus</td>\n      <td>es 350 sedan 4d</td>\n      <td>good</td>\n      <td>6 cylinders</td>\n      <td>gas</td>\n      <td>-0.639060</td>\n      <td>other</td>\n      <td>fwd</td>\n      <td>sedan</td>\n      <td>silver</td>\n    </tr>\n  </tbody>\n</table>\n<p>122436 rows × 12 columns</p>\n</div>"
     },
     "execution_count": 4,
     "metadata": {},
     "output_type": "execute_result"
    }
   ],
   "source": [
    "from sklearn.preprocessing import MinMaxScaler, StandardScaler\n",
    "\n",
    "scalers = [StandardScaler(), StandardScaler()]\n",
    "\n",
    "encoded_data['year'] = scalers[0].fit_transform(encoded_data['year'].values.reshape(-1, 1))\n",
    "encoded_data['odometer'] = scalers[1].fit_transform(encoded_data['odometer'].values.reshape(-1, 1))\n",
    "\n",
    "\n",
    "encoded_data"
   ],
   "metadata": {
    "collapsed": false,
    "pycharm": {
     "name": "#%%\n"
    }
   }
  },
  {
   "cell_type": "code",
   "execution_count": 5,
   "outputs": [],
   "source": [
    "from sklearn.preprocessing import LabelEncoder\n",
    "encoded_data =pd.get_dummies(encoded_data, dummy_na=True, columns = ['manufacturer', 'fuel','condition','drive','cylinders','transmission','type','paint_color'])\n",
    "encoders = []\n",
    "\n",
    "encoded_data['model'] = LabelEncoder().fit_transform(encoded_data['model'])"
   ],
   "metadata": {
    "collapsed": false,
    "pycharm": {
     "name": "#%%\n"
    }
   }
  },
  {
   "cell_type": "code",
   "execution_count": 6,
   "outputs": [
    {
     "data": {
      "text/plain": "        price      year  model  odometer  manufacturer_acura  \\\n0       15000  0.141352    226  0.272400                   0   \n1       27990 -0.024487    469 -0.279794                   0   \n2       34590  0.638869    476 -0.644768                   0   \n3       35000  1.136385    521 -0.519057                   0   \n4       29990  0.638869    122 -0.758337                   0   \n...       ...       ...    ...       ...                 ...   \n122431  25590  0.804708     44 -0.569263                   0   \n122432  13990  0.638869     48 -0.215267                   0   \n122433  22990  1.302224    497 -0.890892                   0   \n122434  33590  0.970546    309 -0.632524                   0   \n122435  28990  0.970546    202 -0.639060                   0   \n\n        manufacturer_audi  manufacturer_bmw  manufacturer_buick  \\\n0                       0                 0                   0   \n1                       0                 0                   0   \n2                       0                 0                   0   \n3                       0                 0                   0   \n4                       0                 0                   0   \n...                   ...               ...                 ...   \n122431                  0                 0                   0   \n122432                  0                 0                   0   \n122433                  0                 0                   0   \n122434                  0                 0                   0   \n122435                  0                 0                   0   \n\n        manufacturer_cadillac  manufacturer_chevrolet  ...  \\\n0                           0                       0  ...   \n1                           0                       0  ...   \n2                           0                       1  ...   \n3                           0                       0  ...   \n4                           0                       1  ...   \n...                       ...                     ...  ...   \n122431                      0                       0  ...   \n122432                      0                       0  ...   \n122433                      0                       0  ...   \n122434                      0                       0  ...   \n122435                      0                       0  ...   \n\n        paint_color_custom  paint_color_green  paint_color_grey  \\\n0                        0                  0                 0   \n1                        0                  0                 0   \n2                        0                  0                 0   \n3                        0                  0                 1   \n4                        0                  0                 0   \n...                    ...                ...               ...   \n122431                   0                  0                 0   \n122432                   0                  0                 0   \n122433                   0                  0                 0   \n122434                   0                  0                 0   \n122435                   0                  0                 0   \n\n        paint_color_orange  paint_color_purple  paint_color_red  \\\n0                        0                   0                0   \n1                        0                   0                0   \n2                        0                   0                0   \n3                        0                   0                0   \n4                        0                   0                1   \n...                    ...                 ...              ...   \n122431                   0                   0                0   \n122432                   0                   0                0   \n122433                   0                   0                0   \n122434                   0                   0                0   \n122435                   0                   0                0   \n\n        paint_color_silver  paint_color_white  paint_color_yellow  \\\n0                        0                  0                   0   \n1                        0                  0                   0   \n2                        1                  0                   0   \n3                        0                  0                   0   \n4                        0                  0                   0   \n...                    ...                ...                 ...   \n122431                   0                  1                   0   \n122432                   0                  1                   0   \n122433                   0                  0                   0   \n122434                   0                  1                   0   \n122435                   1                  0                   0   \n\n        paint_color_nan  \n0                     0  \n1                     0  \n2                     0  \n3                     0  \n4                     0  \n...                 ...  \n122431                0  \n122432                0  \n122433                0  \n122434                0  \n122435                0  \n\n[122436 rows x 98 columns]",
      "text/html": "<div>\n<style scoped>\n    .dataframe tbody tr th:only-of-type {\n        vertical-align: middle;\n    }\n\n    .dataframe tbody tr th {\n        vertical-align: top;\n    }\n\n    .dataframe thead th {\n        text-align: right;\n    }\n</style>\n<table border=\"1\" class=\"dataframe\">\n  <thead>\n    <tr style=\"text-align: right;\">\n      <th></th>\n      <th>price</th>\n      <th>year</th>\n      <th>model</th>\n      <th>odometer</th>\n      <th>manufacturer_acura</th>\n      <th>manufacturer_audi</th>\n      <th>manufacturer_bmw</th>\n      <th>manufacturer_buick</th>\n      <th>manufacturer_cadillac</th>\n      <th>manufacturer_chevrolet</th>\n      <th>...</th>\n      <th>paint_color_custom</th>\n      <th>paint_color_green</th>\n      <th>paint_color_grey</th>\n      <th>paint_color_orange</th>\n      <th>paint_color_purple</th>\n      <th>paint_color_red</th>\n      <th>paint_color_silver</th>\n      <th>paint_color_white</th>\n      <th>paint_color_yellow</th>\n      <th>paint_color_nan</th>\n    </tr>\n  </thead>\n  <tbody>\n    <tr>\n      <th>0</th>\n      <td>15000</td>\n      <td>0.141352</td>\n      <td>226</td>\n      <td>0.272400</td>\n      <td>0</td>\n      <td>0</td>\n      <td>0</td>\n      <td>0</td>\n      <td>0</td>\n      <td>0</td>\n      <td>...</td>\n      <td>0</td>\n      <td>0</td>\n      <td>0</td>\n      <td>0</td>\n      <td>0</td>\n      <td>0</td>\n      <td>0</td>\n      <td>0</td>\n      <td>0</td>\n      <td>0</td>\n    </tr>\n    <tr>\n      <th>1</th>\n      <td>27990</td>\n      <td>-0.024487</td>\n      <td>469</td>\n      <td>-0.279794</td>\n      <td>0</td>\n      <td>0</td>\n      <td>0</td>\n      <td>0</td>\n      <td>0</td>\n      <td>0</td>\n      <td>...</td>\n      <td>0</td>\n      <td>0</td>\n      <td>0</td>\n      <td>0</td>\n      <td>0</td>\n      <td>0</td>\n      <td>0</td>\n      <td>0</td>\n      <td>0</td>\n      <td>0</td>\n    </tr>\n    <tr>\n      <th>2</th>\n      <td>34590</td>\n      <td>0.638869</td>\n      <td>476</td>\n      <td>-0.644768</td>\n      <td>0</td>\n      <td>0</td>\n      <td>0</td>\n      <td>0</td>\n      <td>0</td>\n      <td>1</td>\n      <td>...</td>\n      <td>0</td>\n      <td>0</td>\n      <td>0</td>\n      <td>0</td>\n      <td>0</td>\n      <td>0</td>\n      <td>1</td>\n      <td>0</td>\n      <td>0</td>\n      <td>0</td>\n    </tr>\n    <tr>\n      <th>3</th>\n      <td>35000</td>\n      <td>1.136385</td>\n      <td>521</td>\n      <td>-0.519057</td>\n      <td>0</td>\n      <td>0</td>\n      <td>0</td>\n      <td>0</td>\n      <td>0</td>\n      <td>0</td>\n      <td>...</td>\n      <td>0</td>\n      <td>0</td>\n      <td>1</td>\n      <td>0</td>\n      <td>0</td>\n      <td>0</td>\n      <td>0</td>\n      <td>0</td>\n      <td>0</td>\n      <td>0</td>\n    </tr>\n    <tr>\n      <th>4</th>\n      <td>29990</td>\n      <td>0.638869</td>\n      <td>122</td>\n      <td>-0.758337</td>\n      <td>0</td>\n      <td>0</td>\n      <td>0</td>\n      <td>0</td>\n      <td>0</td>\n      <td>1</td>\n      <td>...</td>\n      <td>0</td>\n      <td>0</td>\n      <td>0</td>\n      <td>0</td>\n      <td>0</td>\n      <td>1</td>\n      <td>0</td>\n      <td>0</td>\n      <td>0</td>\n      <td>0</td>\n    </tr>\n    <tr>\n      <th>...</th>\n      <td>...</td>\n      <td>...</td>\n      <td>...</td>\n      <td>...</td>\n      <td>...</td>\n      <td>...</td>\n      <td>...</td>\n      <td>...</td>\n      <td>...</td>\n      <td>...</td>\n      <td>...</td>\n      <td>...</td>\n      <td>...</td>\n      <td>...</td>\n      <td>...</td>\n      <td>...</td>\n      <td>...</td>\n      <td>...</td>\n      <td>...</td>\n      <td>...</td>\n      <td>...</td>\n    </tr>\n    <tr>\n      <th>122431</th>\n      <td>25590</td>\n      <td>0.804708</td>\n      <td>44</td>\n      <td>-0.569263</td>\n      <td>0</td>\n      <td>0</td>\n      <td>0</td>\n      <td>0</td>\n      <td>0</td>\n      <td>0</td>\n      <td>...</td>\n      <td>0</td>\n      <td>0</td>\n      <td>0</td>\n      <td>0</td>\n      <td>0</td>\n      <td>0</td>\n      <td>0</td>\n      <td>1</td>\n      <td>0</td>\n      <td>0</td>\n    </tr>\n    <tr>\n      <th>122432</th>\n      <td>13990</td>\n      <td>0.638869</td>\n      <td>48</td>\n      <td>-0.215267</td>\n      <td>0</td>\n      <td>0</td>\n      <td>0</td>\n      <td>0</td>\n      <td>0</td>\n      <td>0</td>\n      <td>...</td>\n      <td>0</td>\n      <td>0</td>\n      <td>0</td>\n      <td>0</td>\n      <td>0</td>\n      <td>0</td>\n      <td>0</td>\n      <td>1</td>\n      <td>0</td>\n      <td>0</td>\n    </tr>\n    <tr>\n      <th>122433</th>\n      <td>22990</td>\n      <td>1.302224</td>\n      <td>497</td>\n      <td>-0.890892</td>\n      <td>0</td>\n      <td>0</td>\n      <td>0</td>\n      <td>0</td>\n      <td>0</td>\n      <td>0</td>\n      <td>...</td>\n      <td>0</td>\n      <td>0</td>\n      <td>0</td>\n      <td>0</td>\n      <td>0</td>\n      <td>0</td>\n      <td>0</td>\n      <td>0</td>\n      <td>0</td>\n      <td>0</td>\n    </tr>\n    <tr>\n      <th>122434</th>\n      <td>33590</td>\n      <td>0.970546</td>\n      <td>309</td>\n      <td>-0.632524</td>\n      <td>0</td>\n      <td>0</td>\n      <td>0</td>\n      <td>0</td>\n      <td>0</td>\n      <td>0</td>\n      <td>...</td>\n      <td>0</td>\n      <td>0</td>\n      <td>0</td>\n      <td>0</td>\n      <td>0</td>\n      <td>0</td>\n      <td>0</td>\n      <td>1</td>\n      <td>0</td>\n      <td>0</td>\n    </tr>\n    <tr>\n      <th>122435</th>\n      <td>28990</td>\n      <td>0.970546</td>\n      <td>202</td>\n      <td>-0.639060</td>\n      <td>0</td>\n      <td>0</td>\n      <td>0</td>\n      <td>0</td>\n      <td>0</td>\n      <td>0</td>\n      <td>...</td>\n      <td>0</td>\n      <td>0</td>\n      <td>0</td>\n      <td>0</td>\n      <td>0</td>\n      <td>0</td>\n      <td>1</td>\n      <td>0</td>\n      <td>0</td>\n      <td>0</td>\n    </tr>\n  </tbody>\n</table>\n<p>122436 rows × 98 columns</p>\n</div>"
     },
     "execution_count": 6,
     "metadata": {},
     "output_type": "execute_result"
    }
   ],
   "source": [
    "encoded_data"
   ],
   "metadata": {
    "collapsed": false,
    "pycharm": {
     "name": "#%%\n"
    }
   }
  },
  {
   "cell_type": "code",
   "execution_count": 7,
   "outputs": [],
   "source": [
    "df_for_1_model = encoded_data.copy()"
   ],
   "metadata": {
    "collapsed": false,
    "pycharm": {
     "name": "#%%\n"
    }
   }
  },
  {
   "cell_type": "code",
   "execution_count": 51,
   "outputs": [
    {
     "data": {
      "text/plain": "(24488,)"
     },
     "execution_count": 51,
     "metadata": {},
     "output_type": "execute_result"
    }
   ],
   "source": [
    "X_train = encoded_data.drop(columns=['price'], axis=1)\n",
    "y_train = encoded_data['price']\n",
    "X_train, X_test, y_train, y_test = split(X_train, y_train, train_size=0.8, random_state=18)\n",
    "y_test.shape"
   ],
   "metadata": {
    "collapsed": false,
    "pycharm": {
     "name": "#%%\n"
    }
   }
  },
  {
   "cell_type": "code",
   "execution_count": 9,
   "outputs": [],
   "source": [
    "import tensorflow as tf\n",
    "from keras.models import Model\n",
    "from keras.layers import Dense, Dropout, Lambda, BatchNormalization\n",
    "\n",
    "size = 97\n",
    "def residual_block(x):\n",
    "  y = Dense(size, activation='relu')(x)\n",
    "  for i in range (0,3):\n",
    "      y = Dense(size, activation='relu')(y)\n",
    "  y = tf.keras.layers.Add()([x, y])\n",
    "  return y\n",
    "\n",
    "def self_attention(x):\n",
    "  \"\"\"A self-attention layer.\"\"\"\n",
    "  q = Dense(size, activation='tanh')(x)\n",
    "  k = Dense(size, activation='tanh')(x)\n",
    "  v = Dense(size, activation='tanh')(x)\n",
    "  a = Lambda(lambda x: tf.matmul(x[0], x[1], transpose_b=True))(\n",
    "      [q, k])\n",
    "  a = tf.nn.softmax(a, axis=-1)\n",
    "  y = Lambda(lambda x: tf.matmul(x[0], x[1]))([a, v])\n",
    "  return y\n",
    "inputs = tf.keras.layers.Input(shape=(size,))\n",
    "\n",
    "# Residual blocks\n",
    "\n",
    "x = residual_block(inputs)\n",
    "x = BatchNormalization()(x)\n",
    "x = residual_block(x)\n",
    "x = BatchNormalization()(x)\n",
    "x = self_attention(x)\n",
    "x = BatchNormalization()(x)\n",
    "x = residual_block(x)\n",
    "x = BatchNormalization()(x)\n",
    "x = residual_block(x)\n",
    "x = BatchNormalization()(x)\n",
    "x = self_attention(x)\n",
    "x = BatchNormalization()(x)\n",
    "\n",
    "# Dropout\n",
    "x = Dropout(0.1)(x)\n",
    "\n",
    "# Output layer\n",
    "outputs = Dense(1)(x)\n",
    "model = Model(inputs=inputs, outputs=outputs)\n",
    "model.compile(optimizer='rmsprop', loss='mse')"
   ],
   "metadata": {
    "collapsed": false,
    "pycharm": {
     "name": "#%%\n"
    }
   }
  },
  {
   "cell_type": "code",
   "execution_count": 10,
   "outputs": [],
   "source": [
    "from keras.callbacks import EarlyStopping\n",
    "\n",
    "early_stopping = EarlyStopping(monitor='val_loss', min_delta=0, patience=10, verbose=1, mode='auto')\n"
   ],
   "metadata": {
    "collapsed": false,
    "pycharm": {
     "name": "#%%\n"
    }
   }
  },
  {
   "cell_type": "code",
   "execution_count": 11,
   "outputs": [
    {
     "name": "stdout",
     "output_type": "stream",
     "text": [
      "Epoch 1/10\n",
      "3048/3061 [============================>.] - ETA: 0s - loss: 450283072.0000WARNING:tensorflow:Can save best model only with mse available, skipping.\n",
      "3061/3061 [==============================] - 16s 4ms/step - loss: 450122528.0000 - val_loss: 452978464.0000\n",
      "Epoch 2/10\n",
      "3047/3061 [============================>.] - ETA: 0s - loss: 353275104.0000WARNING:tensorflow:Can save best model only with mse available, skipping.\n",
      "3061/3061 [==============================] - 11s 4ms/step - loss: 352954944.0000 - val_loss: 303549728.0000\n",
      "Epoch 3/10\n",
      "3048/3061 [============================>.] - ETA: 0s - loss: 206611472.0000WARNING:tensorflow:Can save best model only with mse available, skipping.\n",
      "3061/3061 [==============================] - 10s 3ms/step - loss: 206314848.0000 - val_loss: 165872064.0000\n",
      "Epoch 4/10\n",
      "3052/3061 [============================>.] - ETA: 0s - loss: 83233328.0000WARNING:tensorflow:Can save best model only with mse available, skipping.\n",
      "3061/3061 [==============================] - 11s 4ms/step - loss: 83113672.0000 - val_loss: 35528444.0000\n",
      "Epoch 5/10\n",
      "3046/3061 [============================>.] - ETA: 0s - loss: 32235138.0000WARNING:tensorflow:Can save best model only with mse available, skipping.\n",
      "3061/3061 [==============================] - 11s 4ms/step - loss: 32229568.0000 - val_loss: 44852176.0000\n",
      "Epoch 6/10\n",
      "3061/3061 [==============================] - ETA: 0s - loss: 26786624.0000WARNING:tensorflow:Can save best model only with mse available, skipping.\n",
      "3061/3061 [==============================] - 11s 4ms/step - loss: 26786624.0000 - val_loss: 35534636.0000\n",
      "Epoch 7/10\n",
      "3050/3061 [============================>.] - ETA: 0s - loss: 25501296.0000WARNING:tensorflow:Can save best model only with mse available, skipping.\n",
      "3061/3061 [==============================] - 11s 4ms/step - loss: 25501368.0000 - val_loss: 40027168.0000\n",
      "Epoch 8/10\n",
      "3057/3061 [============================>.] - ETA: 0s - loss: 25227890.0000WARNING:tensorflow:Can save best model only with mse available, skipping.\n",
      "3061/3061 [==============================] - 10s 3ms/step - loss: 25219602.0000 - val_loss: 58310248.0000\n",
      "Epoch 9/10\n",
      "3056/3061 [============================>.] - ETA: 0s - loss: 24067290.0000WARNING:tensorflow:Can save best model only with mse available, skipping.\n",
      "3061/3061 [==============================] - 10s 3ms/step - loss: 24078730.0000 - val_loss: 54172484.0000\n",
      "Epoch 10/10\n",
      "3052/3061 [============================>.] - ETA: 0s - loss: 24184738.0000WARNING:tensorflow:Can save best model only with mse available, skipping.\n",
      "3061/3061 [==============================] - 10s 3ms/step - loss: 24185216.0000 - val_loss: 60291268.0000\n"
     ]
    }
   ],
   "source": [
    "from keras.utils.version_utils import callbacks\n",
    "from matplotlib import pyplot as plt\n",
    "checkpoint = callbacks.ModelCheckpoint(\n",
    "        './tmp/checkpoint', save_format='tf', monitor='mse',verbose=0, save_best_only=True, save_weights_only=True)\n",
    "history = model.fit(X_train, y_train, epochs=10,\n",
    "                    validation_data=(X_test, y_test),\n",
    "                    callbacks=[checkpoint,early_stopping],\n",
    "                    verbose=1)\n"
   ],
   "metadata": {
    "collapsed": false,
    "pycharm": {
     "name": "#%%\n"
    }
   }
  },
  {
   "cell_type": "code",
   "execution_count": 12,
   "outputs": [
    {
     "data": {
      "text/plain": "<Figure size 640x480 with 1 Axes>",
      "image/png": "[encoded data removed]"
     },
     "metadata": {},
     "output_type": "display_data"
    }
   ],
   "source": [
    "plt.figure(1)\n",
    "plt.plot(history.history['loss'], label='train')\n",
    "plt.plot(history.history['val_loss'], label='valid')\n",
    "plt.legend()\n",
    "plt.show()\n",
    "\n",
    "model.save('resnet.h5')"
   ],
   "metadata": {
    "collapsed": false,
    "pycharm": {
     "name": "#%%\n"
    }
   }
  },
  {
   "cell_type": "code",
   "execution_count": 13,
   "outputs": [
    {
     "name": "stdout",
     "output_type": "stream",
     "text": [
      "766/766 [==============================] - 1s 1ms/step\n"
     ]
    }
   ],
   "source": [
    "y_pred = model.predict(X_test)"
   ],
   "metadata": {
    "collapsed": false,
    "pycharm": {
     "name": "#%%\n"
    }
   }
  },
  {
   "cell_type": "code",
   "execution_count": 14,
   "outputs": [
    {
     "name": "stdout",
     "output_type": "stream",
     "text": [
      "3061/3061 [==============================] - 4s 1ms/step\n"
     ]
    }
   ],
   "source": [
    "y_pred_train = model.predict(X_train)"
   ],
   "metadata": {
    "collapsed": false,
    "pycharm": {
     "name": "#%%\n"
    }
   }
  },
  {
   "cell_type": "code",
   "execution_count": 15,
   "outputs": [
    {
     "name": "stdout",
     "output_type": "stream",
     "text": [
      "R Squared value of test data:  0.5924913116811347\n"
     ]
    }
   ],
   "source": [
    "from sklearn.metrics import r2_score\n",
    "r2_train = r2_score(y_train, y_pred_train)\n",
    "print(\"R Squared value of test data: \",r2_train)"
   ],
   "metadata": {
    "collapsed": false,
    "pycharm": {
     "name": "#%%\n"
    }
   }
  },
  {
   "cell_type": "code",
   "execution_count": 16,
   "outputs": [
    {
     "name": "stdout",
     "output_type": "stream",
     "text": [
      "R Squared value of test data:  0.5818107864123601\n"
     ]
    }
   ],
   "source": [
    "from sklearn.metrics import r2_score\n",
    "r2_test = r2_score(y_test, y_pred)\n",
    "print(\"R Squared value of test data: \",r2_test)"
   ],
   "metadata": {
    "collapsed": false,
    "pycharm": {
     "name": "#%%\n"
    }
   }
  },
  {
   "cell_type": "code",
   "execution_count": 17,
   "outputs": [
    {
     "data": {
      "text/plain": "21645      5000\n6358       4000\n25298     11988\n64343     18933\n112680    38590\n          ...  \n5424      10500\n24365     20561\n17301      2995\n30378     11988\n72145      2999\nName: price, Length: 24488, dtype: int64"
     },
     "execution_count": 17,
     "metadata": {},
     "output_type": "execute_result"
    }
   ],
   "source": [
    "y_test"
   ],
   "metadata": {
    "collapsed": false,
    "pycharm": {
     "name": "#%%\n"
    }
   }
  },
  {
   "cell_type": "code",
   "execution_count": 18,
   "outputs": [
    {
     "data": {
      "text/plain": "array([[16159.773],\n       [15606.502],\n       [16424.123],\n       ...,\n       [22920.537],\n       [22920.535],\n       [22920.537]], dtype=float32)"
     },
     "execution_count": 18,
     "metadata": {},
     "output_type": "execute_result"
    }
   ],
   "source": [
    "y_pred"
   ],
   "metadata": {
    "collapsed": false,
    "pycharm": {
     "name": "#%%\n"
    }
   }
  },
  {
   "cell_type": "code",
   "execution_count": 19,
   "outputs": [],
   "source": [
    "X_train.insert(0, 'pre_result', y_pred_train)\n",
    "X_test.insert(0, 'pre_result', y_pred)"
   ],
   "metadata": {
    "collapsed": false,
    "pycharm": {
     "name": "#%%\n"
    }
   }
  },
  {
   "cell_type": "code",
   "execution_count": 20,
   "outputs": [],
   "source": [
    "X_train.to_csv('train_with_pre.csv')"
   ],
   "metadata": {
    "collapsed": false,
    "pycharm": {
     "name": "#%%\n"
    }
   }
  },
  {
   "cell_type": "code",
   "execution_count": 21,
   "outputs": [],
   "source": [
    "X_test.to_csv('test_with_pre.csv')"
   ],
   "metadata": {
    "collapsed": false,
    "pycharm": {
     "name": "#%%\n"
    }
   }
  },
  {
   "cell_type": "code",
   "execution_count": 22,
   "outputs": [
    {
     "data": {
      "text/plain": "         pre_result      year  model  odometer  manufacturer_acura  \\\n21500  12441.706055 -1.185358     56  0.235155                   0   \n9777   23350.601562  1.468063    390 -0.878499                   0   \n32800  18809.992188  0.970546    498 -0.763114                   0   \n8101   13941.604492 -1.848714    459  0.398829                   0   \n2375   14629.379883  0.638869    389 -0.249030                   0   \n...             ...       ...    ...       ...                 ...   \n1726   27774.488281  0.307191    472 -0.189717                   0   \n35653  33022.308594  0.804708    224 -0.563015                   0   \n91256  16556.214844 -0.024487    258 -0.226124                   0   \n94483  19079.906250 -0.024487    479  0.296526                   0   \n60714  27879.365234  1.136385      1 -0.788701                   0   \n\n       manufacturer_audi  manufacturer_bmw  manufacturer_buick  \\\n21500                  1                 0                   0   \n9777                   0                 0                   0   \n32800                  0                 0                   0   \n8101                   0                 0                   0   \n2375                   0                 0                   0   \n...                  ...               ...                 ...   \n1726                   0                 0                   0   \n35653                  0                 0                   0   \n91256                  0                 0                   0   \n94483                  0                 0                   0   \n60714                  0                 0                   0   \n\n       manufacturer_cadillac  manufacturer_chevrolet  ...  paint_color_custom  \\\n21500                      0                       0  ...                   1   \n9777                       0                       0  ...                   0   \n32800                      0                       0  ...                   0   \n8101                       0                       0  ...                   0   \n2375                       0                       0  ...                   0   \n...                      ...                     ...  ...                 ...   \n1726                       0                       1  ...                   0   \n35653                      0                       0  ...                   0   \n91256                      0                       0  ...                   0   \n94483                      0                       1  ...                   0   \n60714                      0                       0  ...                   0   \n\n       paint_color_green  paint_color_grey  paint_color_orange  \\\n21500                  0                 0                   0   \n9777                   0                 0                   0   \n32800                  0                 0                   0   \n8101                   0                 0                   0   \n2375                   0                 0                   0   \n...                  ...               ...                 ...   \n1726                   0                 0                   0   \n35653                  0                 0                   0   \n91256                  0                 1                   0   \n94483                  0                 0                   0   \n60714                  0                 0                   0   \n\n       paint_color_purple  paint_color_red  paint_color_silver  \\\n21500                   0                0                   0   \n9777                    0                0                   1   \n32800                   0                0                   0   \n8101                    0                0                   0   \n2375                    0                0                   0   \n...                   ...              ...                 ...   \n1726                    0                0                   0   \n35653                   0                0                   0   \n91256                   0                0                   0   \n94483                   0                0                   0   \n60714                   0                1                   0   \n\n       paint_color_white  paint_color_yellow  paint_color_nan  \n21500                  0                   0                0  \n9777                   0                   0                0  \n32800                  1                   0                0  \n8101                   1                   0                0  \n2375                   0                   0                0  \n...                  ...                 ...              ...  \n1726                   0                   0                0  \n35653                  1                   0                0  \n91256                  0                   0                0  \n94483                  0                   0                0  \n60714                  0                   0                0  \n\n[97948 rows x 98 columns]",
      "text/html": "<div>\n<style scoped>\n    .dataframe tbody tr th:only-of-type {\n        vertical-align: middle;\n    }\n\n    .dataframe tbody tr th {\n        vertical-align: top;\n    }\n\n    .dataframe thead th {\n        text-align: right;\n    }\n</style>\n<table border=\"1\" class=\"dataframe\">\n  <thead>\n    <tr style=\"text-align: right;\">\n      <th></th>\n      <th>pre_result</th>\n      <th>year</th>\n      <th>model</th>\n      <th>odometer</th>\n      <th>manufacturer_acura</th>\n      <th>manufacturer_audi</th>\n      <th>manufacturer_bmw</th>\n      <th>manufacturer_buick</th>\n      <th>manufacturer_cadillac</th>\n      <th>manufacturer_chevrolet</th>\n      <th>...</th>\n      <th>paint_color_custom</th>\n      <th>paint_color_green</th>\n      <th>paint_color_grey</th>\n      <th>paint_color_orange</th>\n      <th>paint_color_purple</th>\n      <th>paint_color_red</th>\n      <th>paint_color_silver</th>\n      <th>paint_color_white</th>\n      <th>paint_color_yellow</th>\n      <th>paint_color_nan</th>\n    </tr>\n  </thead>\n  <tbody>\n    <tr>\n      <th>21500</th>\n      <td>12441.706055</td>\n      <td>-1.185358</td>\n      <td>56</td>\n      <td>0.235155</td>\n      <td>0</td>\n      <td>1</td>\n      <td>0</td>\n      <td>0</td>\n      <td>0</td>\n      <td>0</td>\n      <td>...</td>\n      <td>1</td>\n      <td>0</td>\n      <td>0</td>\n      <td>0</td>\n      <td>0</td>\n      <td>0</td>\n      <td>0</td>\n      <td>0</td>\n      <td>0</td>\n      <td>0</td>\n    </tr>\n    <tr>\n      <th>9777</th>\n      <td>23350.601562</td>\n      <td>1.468063</td>\n      <td>390</td>\n      <td>-0.878499</td>\n      <td>0</td>\n      <td>0</td>\n      <td>0</td>\n      <td>0</td>\n      <td>0</td>\n      <td>0</td>\n      <td>...</td>\n      <td>0</td>\n      <td>0</td>\n      <td>0</td>\n      <td>0</td>\n      <td>0</td>\n      <td>0</td>\n      <td>1</td>\n      <td>0</td>\n      <td>0</td>\n      <td>0</td>\n    </tr>\n    <tr>\n      <th>32800</th>\n      <td>18809.992188</td>\n      <td>0.970546</td>\n      <td>498</td>\n      <td>-0.763114</td>\n      <td>0</td>\n      <td>0</td>\n      <td>0</td>\n      <td>0</td>\n      <td>0</td>\n      <td>0</td>\n      <td>...</td>\n      <td>0</td>\n      <td>0</td>\n      <td>0</td>\n      <td>0</td>\n      <td>0</td>\n      <td>0</td>\n      <td>0</td>\n      <td>1</td>\n      <td>0</td>\n      <td>0</td>\n    </tr>\n    <tr>\n      <th>8101</th>\n      <td>13941.604492</td>\n      <td>-1.848714</td>\n      <td>459</td>\n      <td>0.398829</td>\n      <td>0</td>\n      <td>0</td>\n      <td>0</td>\n      <td>0</td>\n      <td>0</td>\n      <td>0</td>\n      <td>...</td>\n      <td>0</td>\n      <td>0</td>\n      <td>0</td>\n      <td>0</td>\n      <td>0</td>\n      <td>0</td>\n      <td>0</td>\n      <td>1</td>\n      <td>0</td>\n      <td>0</td>\n    </tr>\n    <tr>\n      <th>2375</th>\n      <td>14629.379883</td>\n      <td>0.638869</td>\n      <td>389</td>\n      <td>-0.249030</td>\n      <td>0</td>\n      <td>0</td>\n      <td>0</td>\n      <td>0</td>\n      <td>0</td>\n      <td>0</td>\n      <td>...</td>\n      <td>0</td>\n      <td>0</td>\n      <td>0</td>\n      <td>0</td>\n      <td>0</td>\n      <td>0</td>\n      <td>0</td>\n      <td>0</td>\n      <td>0</td>\n      <td>0</td>\n    </tr>\n    <tr>\n      <th>...</th>\n      <td>...</td>\n      <td>...</td>\n      <td>...</td>\n      <td>...</td>\n      <td>...</td>\n      <td>...</td>\n      <td>...</td>\n      <td>...</td>\n      <td>...</td>\n      <td>...</td>\n      <td>...</td>\n      <td>...</td>\n      <td>...</td>\n      <td>...</td>\n      <td>...</td>\n      <td>...</td>\n      <td>...</td>\n      <td>...</td>\n      <td>...</td>\n      <td>...</td>\n      <td>...</td>\n    </tr>\n    <tr>\n      <th>1726</th>\n      <td>27774.488281</td>\n      <td>0.307191</td>\n      <td>472</td>\n      <td>-0.189717</td>\n      <td>0</td>\n      <td>0</td>\n      <td>0</td>\n      <td>0</td>\n      <td>0</td>\n      <td>1</td>\n      <td>...</td>\n      <td>0</td>\n      <td>0</td>\n      <td>0</td>\n      <td>0</td>\n      <td>0</td>\n      <td>0</td>\n      <td>0</td>\n      <td>0</td>\n      <td>0</td>\n      <td>0</td>\n    </tr>\n    <tr>\n      <th>35653</th>\n      <td>33022.308594</td>\n      <td>0.804708</td>\n      <td>224</td>\n      <td>-0.563015</td>\n      <td>0</td>\n      <td>0</td>\n      <td>0</td>\n      <td>0</td>\n      <td>0</td>\n      <td>0</td>\n      <td>...</td>\n      <td>0</td>\n      <td>0</td>\n      <td>0</td>\n      <td>0</td>\n      <td>0</td>\n      <td>0</td>\n      <td>0</td>\n      <td>1</td>\n      <td>0</td>\n      <td>0</td>\n    </tr>\n    <tr>\n      <th>91256</th>\n      <td>16556.214844</td>\n      <td>-0.024487</td>\n      <td>258</td>\n      <td>-0.226124</td>\n      <td>0</td>\n      <td>0</td>\n      <td>0</td>\n      <td>0</td>\n      <td>0</td>\n      <td>0</td>\n      <td>...</td>\n      <td>0</td>\n      <td>0</td>\n      <td>1</td>\n      <td>0</td>\n      <td>0</td>\n      <td>0</td>\n      <td>0</td>\n      <td>0</td>\n      <td>0</td>\n      <td>0</td>\n    </tr>\n    <tr>\n      <th>94483</th>\n      <td>19079.906250</td>\n      <td>-0.024487</td>\n      <td>479</td>\n      <td>0.296526</td>\n      <td>0</td>\n      <td>0</td>\n      <td>0</td>\n      <td>0</td>\n      <td>0</td>\n      <td>1</td>\n      <td>...</td>\n      <td>0</td>\n      <td>0</td>\n      <td>0</td>\n      <td>0</td>\n      <td>0</td>\n      <td>0</td>\n      <td>0</td>\n      <td>0</td>\n      <td>0</td>\n      <td>0</td>\n    </tr>\n    <tr>\n      <th>60714</th>\n      <td>27879.365234</td>\n      <td>1.136385</td>\n      <td>1</td>\n      <td>-0.788701</td>\n      <td>0</td>\n      <td>0</td>\n      <td>0</td>\n      <td>0</td>\n      <td>0</td>\n      <td>0</td>\n      <td>...</td>\n      <td>0</td>\n      <td>0</td>\n      <td>0</td>\n      <td>0</td>\n      <td>0</td>\n      <td>1</td>\n      <td>0</td>\n      <td>0</td>\n      <td>0</td>\n      <td>0</td>\n    </tr>\n  </tbody>\n</table>\n<p>97948 rows × 98 columns</p>\n</div>"
     },
     "execution_count": 22,
     "metadata": {},
     "output_type": "execute_result"
    }
   ],
   "source": [
    "X_train"
   ],
   "metadata": {
    "collapsed": false,
    "pycharm": {
     "name": "#%%\n"
    }
   }
  },
  {
   "cell_type": "code",
   "execution_count": 23,
   "outputs": [],
   "source": [
    "X_train = pd.read_csv('train_with_pre.csv')\n",
    "X_train = X_train.drop(columns='Unnamed: 0')\n",
    "X_test = pd.read_csv('test_with_pre.csv')\n",
    "X_test = X_test.drop(columns='Unnamed: 0')"
   ],
   "metadata": {
    "collapsed": false,
    "pycharm": {
     "name": "#%%\n"
    }
   }
  },
  {
   "cell_type": "code",
   "execution_count": 24,
   "outputs": [
    {
     "data": {
      "text/plain": "       pre_result      year  model  odometer  manufacturer_acura  \\\n0      12441.7060 -1.185358     56  0.235155                   0   \n1      23350.6020  1.468063    390 -0.878499                   0   \n2      18809.9920  0.970546    498 -0.763114                   0   \n3      13941.6045 -1.848714    459  0.398829                   0   \n4      14629.3800  0.638869    389 -0.249030                   0   \n...           ...       ...    ...       ...                 ...   \n97943  27774.4880  0.307191    472 -0.189717                   0   \n97944  33022.3100  0.804708    224 -0.563015                   0   \n97945  16556.2150 -0.024487    258 -0.226124                   0   \n97946  19079.9060 -0.024487    479  0.296526                   0   \n97947  27879.3650  1.136385      1 -0.788701                   0   \n\n       manufacturer_audi  manufacturer_bmw  manufacturer_buick  \\\n0                      1                 0                   0   \n1                      0                 0                   0   \n2                      0                 0                   0   \n3                      0                 0                   0   \n4                      0                 0                   0   \n...                  ...               ...                 ...   \n97943                  0                 0                   0   \n97944                  0                 0                   0   \n97945                  0                 0                   0   \n97946                  0                 0                   0   \n97947                  0                 0                   0   \n\n       manufacturer_cadillac  manufacturer_chevrolet  ...  paint_color_custom  \\\n0                          0                       0  ...                   1   \n1                          0                       0  ...                   0   \n2                          0                       0  ...                   0   \n3                          0                       0  ...                   0   \n4                          0                       0  ...                   0   \n...                      ...                     ...  ...                 ...   \n97943                      0                       1  ...                   0   \n97944                      0                       0  ...                   0   \n97945                      0                       0  ...                   0   \n97946                      0                       1  ...                   0   \n97947                      0                       0  ...                   0   \n\n       paint_color_green  paint_color_grey  paint_color_orange  \\\n0                      0                 0                   0   \n1                      0                 0                   0   \n2                      0                 0                   0   \n3                      0                 0                   0   \n4                      0                 0                   0   \n...                  ...               ...                 ...   \n97943                  0                 0                   0   \n97944                  0                 0                   0   \n97945                  0                 1                   0   \n97946                  0                 0                   0   \n97947                  0                 0                   0   \n\n       paint_color_purple  paint_color_red  paint_color_silver  \\\n0                       0                0                   0   \n1                       0                0                   1   \n2                       0                0                   0   \n3                       0                0                   0   \n4                       0                0                   0   \n...                   ...              ...                 ...   \n97943                   0                0                   0   \n97944                   0                0                   0   \n97945                   0                0                   0   \n97946                   0                0                   0   \n97947                   0                1                   0   \n\n       paint_color_white  paint_color_yellow  paint_color_nan  \n0                      0                   0                0  \n1                      0                   0                0  \n2                      1                   0                0  \n3                      1                   0                0  \n4                      0                   0                0  \n...                  ...                 ...              ...  \n97943                  0                   0                0  \n97944                  1                   0                0  \n97945                  0                   0                0  \n97946                  0                   0                0  \n97947                  0                   0                0  \n\n[97948 rows x 98 columns]",
      "text/html": "<div>\n<style scoped>\n    .dataframe tbody tr th:only-of-type {\n        vertical-align: middle;\n    }\n\n    .dataframe tbody tr th {\n        vertical-align: top;\n    }\n\n    .dataframe thead th {\n        text-align: right;\n    }\n</style>\n<table border=\"1\" class=\"dataframe\">\n  <thead>\n    <tr style=\"text-align: right;\">\n      <th></th>\n      <th>pre_result</th>\n      <th>year</th>\n      <th>model</th>\n      <th>odometer</th>\n      <th>manufacturer_acura</th>\n      <th>manufacturer_audi</th>\n      <th>manufacturer_bmw</th>\n      <th>manufacturer_buick</th>\n      <th>manufacturer_cadillac</th>\n      <th>manufacturer_chevrolet</th>\n      <th>...</th>\n      <th>paint_color_custom</th>\n      <th>paint_color_green</th>\n      <th>paint_color_grey</th>\n      <th>paint_color_orange</th>\n      <th>paint_color_purple</th>\n      <th>paint_color_red</th>\n      <th>paint_color_silver</th>\n      <th>paint_color_white</th>\n      <th>paint_color_yellow</th>\n      <th>paint_color_nan</th>\n    </tr>\n  </thead>\n  <tbody>\n    <tr>\n      <th>0</th>\n      <td>12441.7060</td>\n      <td>-1.185358</td>\n      <td>56</td>\n      <td>0.235155</td>\n      <td>0</td>\n      <td>1</td>\n      <td>0</td>\n      <td>0</td>\n      <td>0</td>\n      <td>0</td>\n      <td>...</td>\n      <td>1</td>\n      <td>0</td>\n      <td>0</td>\n      <td>0</td>\n      <td>0</td>\n      <td>0</td>\n      <td>0</td>\n      <td>0</td>\n      <td>0</td>\n      <td>0</td>\n    </tr>\n    <tr>\n      <th>1</th>\n      <td>23350.6020</td>\n      <td>1.468063</td>\n      <td>390</td>\n      <td>-0.878499</td>\n      <td>0</td>\n      <td>0</td>\n      <td>0</td>\n      <td>0</td>\n      <td>0</td>\n      <td>0</td>\n      <td>...</td>\n      <td>0</td>\n      <td>0</td>\n      <td>0</td>\n      <td>0</td>\n      <td>0</td>\n      <td>0</td>\n      <td>1</td>\n      <td>0</td>\n      <td>0</td>\n      <td>0</td>\n    </tr>\n    <tr>\n      <th>2</th>\n      <td>18809.9920</td>\n      <td>0.970546</td>\n      <td>498</td>\n      <td>-0.763114</td>\n      <td>0</td>\n      <td>0</td>\n      <td>0</td>\n      <td>0</td>\n      <td>0</td>\n      <td>0</td>\n      <td>...</td>\n      <td>0</td>\n      <td>0</td>\n      <td>0</td>\n      <td>0</td>\n      <td>0</td>\n      <td>0</td>\n      <td>0</td>\n      <td>1</td>\n      <td>0</td>\n      <td>0</td>\n    </tr>\n    <tr>\n      <th>3</th>\n      <td>13941.6045</td>\n      <td>-1.848714</td>\n      <td>459</td>\n      <td>0.398829</td>\n      <td>0</td>\n      <td>0</td>\n      <td>0</td>\n      <td>0</td>\n      <td>0</td>\n      <td>0</td>\n      <td>...</td>\n      <td>0</td>\n      <td>0</td>\n      <td>0</td>\n      <td>0</td>\n      <td>0</td>\n      <td>0</td>\n      <td>0</td>\n      <td>1</td>\n      <td>0</td>\n      <td>0</td>\n    </tr>\n    <tr>\n      <th>4</th>\n      <td>14629.3800</td>\n      <td>0.638869</td>\n      <td>389</td>\n      <td>-0.249030</td>\n      <td>0</td>\n      <td>0</td>\n      <td>0</td>\n      <td>0</td>\n      <td>0</td>\n      <td>0</td>\n      <td>...</td>\n      <td>0</td>\n      <td>0</td>\n      <td>0</td>\n      <td>0</td>\n      <td>0</td>\n      <td>0</td>\n      <td>0</td>\n      <td>0</td>\n      <td>0</td>\n      <td>0</td>\n    </tr>\n    <tr>\n      <th>...</th>\n      <td>...</td>\n      <td>...</td>\n      <td>...</td>\n      <td>...</td>\n      <td>...</td>\n      <td>...</td>\n      <td>...</td>\n      <td>...</td>\n      <td>...</td>\n      <td>...</td>\n      <td>...</td>\n      <td>...</td>\n      <td>...</td>\n      <td>...</td>\n      <td>...</td>\n      <td>...</td>\n      <td>...</td>\n      <td>...</td>\n      <td>...</td>\n      <td>...</td>\n      <td>...</td>\n    </tr>\n    <tr>\n      <th>97943</th>\n      <td>27774.4880</td>\n      <td>0.307191</td>\n      <td>472</td>\n      <td>-0.189717</td>\n      <td>0</td>\n      <td>0</td>\n      <td>0</td>\n      <td>0</td>\n      <td>0</td>\n      <td>1</td>\n      <td>...</td>\n      <td>0</td>\n      <td>0</td>\n      <td>0</td>\n      <td>0</td>\n      <td>0</td>\n      <td>0</td>\n      <td>0</td>\n      <td>0</td>\n      <td>0</td>\n      <td>0</td>\n    </tr>\n    <tr>\n      <th>97944</th>\n      <td>33022.3100</td>\n      <td>0.804708</td>\n      <td>224</td>\n      <td>-0.563015</td>\n      <td>0</td>\n      <td>0</td>\n      <td>0</td>\n      <td>0</td>\n      <td>0</td>\n      <td>0</td>\n      <td>...</td>\n      <td>0</td>\n      <td>0</td>\n      <td>0</td>\n      <td>0</td>\n      <td>0</td>\n      <td>0</td>\n      <td>0</td>\n      <td>1</td>\n      <td>0</td>\n      <td>0</td>\n    </tr>\n    <tr>\n      <th>97945</th>\n      <td>16556.2150</td>\n      <td>-0.024487</td>\n      <td>258</td>\n      <td>-0.226124</td>\n      <td>0</td>\n      <td>0</td>\n      <td>0</td>\n      <td>0</td>\n      <td>0</td>\n      <td>0</td>\n      <td>...</td>\n      <td>0</td>\n      <td>0</td>\n      <td>1</td>\n      <td>0</td>\n      <td>0</td>\n      <td>0</td>\n      <td>0</td>\n      <td>0</td>\n      <td>0</td>\n      <td>0</td>\n    </tr>\n    <tr>\n      <th>97946</th>\n      <td>19079.9060</td>\n      <td>-0.024487</td>\n      <td>479</td>\n      <td>0.296526</td>\n      <td>0</td>\n      <td>0</td>\n      <td>0</td>\n      <td>0</td>\n      <td>0</td>\n      <td>1</td>\n      <td>...</td>\n      <td>0</td>\n      <td>0</td>\n      <td>0</td>\n      <td>0</td>\n      <td>0</td>\n      <td>0</td>\n      <td>0</td>\n      <td>0</td>\n      <td>0</td>\n      <td>0</td>\n    </tr>\n    <tr>\n      <th>97947</th>\n      <td>27879.3650</td>\n      <td>1.136385</td>\n      <td>1</td>\n      <td>-0.788701</td>\n      <td>0</td>\n      <td>0</td>\n      <td>0</td>\n      <td>0</td>\n      <td>0</td>\n      <td>0</td>\n      <td>...</td>\n      <td>0</td>\n      <td>0</td>\n      <td>0</td>\n      <td>0</td>\n      <td>0</td>\n      <td>1</td>\n      <td>0</td>\n      <td>0</td>\n      <td>0</td>\n      <td>0</td>\n    </tr>\n  </tbody>\n</table>\n<p>97948 rows × 98 columns</p>\n</div>"
     },
     "execution_count": 24,
     "metadata": {},
     "output_type": "execute_result"
    }
   ],
   "source": [
    "X_train"
   ],
   "metadata": {
    "collapsed": false,
    "pycharm": {
     "name": "#%%\n"
    }
   }
  },
  {
   "cell_type": "code",
   "execution_count": 25,
   "outputs": [],
   "source": [
    "from keras.metrics import metrics\n",
    "\n",
    "xgb_params = {\n",
    "    'n_estimators':150,\n",
    "    'learning_rate':0.1,\n",
    "    'gamma':0,\n",
    "    'subsample':0.8,\n",
    "    'colsample_bytree':0.9,\n",
    "    'max_depth':8\n",
    "}\n",
    "\n",
    "lgbm_params ={\n",
    "    'feature_fraction':0.8,\n",
    "    'bagging_fraction':0.8,\n",
    "    'bagging_freq':2,\n",
    "    'num_leaves':32\n",
    "}\n",
    "def MAPE_metric(y_true, y_pred):\n",
    "    return np.mean(np.abs((y_true - y_pred) / y_true)) * 100\n",
    "def MAE_metric(y_true, y_pred):\n",
    "    return metrics.mean_absolute_error(y_true, y_pred)\n",
    "def Accuracy_metric(y_true, y_pred):\n",
    "    n = len(y_true)\n",
    "    mape = sum(np.abs((y_true - y_pred)/y_true))/n\n",
    "    alpha = pd.DataFrame(abs(y_true - y_pred)/y_true)\n",
    "    Accuracy = (alpha[alpha <= 0.05].count() /alpha.count())*0.8+0.2*(1-mape)\n",
    "    return np.float(Accuracy)"
   ],
   "metadata": {
    "collapsed": false,
    "pycharm": {
     "name": "#%%\n"
    }
   }
  },
  {
   "cell_type": "code",
   "execution_count": 26,
   "outputs": [],
   "source": [
    "import xgboost as xgb\n",
    "\n",
    "\n",
    "def train_xgb(x_train_f, y_train_f,x_test_f,y_test_f, params):\n",
    "    mdl = xgb.XGBRegressor(**params)\n",
    "    mdl.fit(x_train_f, y_train_f)\n",
    "    y_pred_test = mdl.predict(x_test_f)\n",
    "    y_pred_train_f = mdl.predict(x_train_f)\n",
    "    x_train_f['pre_result'] = y_pred_train_f\n",
    "    x_test_f['pre_result'] = y_pred_test\n",
    "    return MAPE_metric(y_test_f, y_pred_test), Accuracy_metric(y_test_f, y_pred_test)"
   ],
   "metadata": {
    "collapsed": false,
    "pycharm": {
     "name": "#%%\n"
    }
   }
  },
  {
   "cell_type": "code",
   "execution_count": 27,
   "outputs": [],
   "source": [
    "from lightgbm import LGBMRegressor\n",
    "\n",
    "\n",
    "def train_lgbm(x_train_f, y_train_f,x_test_f,y_test_f, params):\n",
    "    mdl = LGBMRegressor(**params)\n",
    "    mdl.fit(x_train_f, y_train_f)\n",
    "    y_pred_test = mdl.predict(x_test_f)\n",
    "    y_pred_train = mdl.predict(x_train_f)\n",
    "\n",
    "    x_train_f['pre_result'] = y_pred_train\n",
    "    x_test_f['pre_result'] = y_pred_test\n",
    "    return MAPE_metric(y_test_f, y_pred_test), Accuracy_metric(y_test_f, y_pred_test)"
   ],
   "metadata": {
    "collapsed": false,
    "pycharm": {
     "name": "#%%\n"
    }
   }
  },
  {
   "cell_type": "code",
   "execution_count": 28,
   "outputs": [],
   "source": [
    "def vizualize(x,y):\n",
    "    plt.plot(x,y)\n",
    "    plt.show()"
   ],
   "metadata": {
    "collapsed": false,
    "pycharm": {
     "name": "#%%\n"
    }
   }
  },
  {
   "cell_type": "code",
   "execution_count": 29,
   "outputs": [],
   "source": [
    "\n",
    "# global index\n",
    "# index = 1\n",
    "def use_XGB_LGBM_framework(x_train_f,y_train_f,x_test_f,y_test_f):\n",
    "    min_loss = np.inf\n",
    "    acc_res = []\n",
    "    max_acc = 0\n",
    "    loss = 1000000000000\n",
    "    # while loss < min_loss:\n",
    "    for index in range(1,30):\n",
    "        print(\"loss= \"+str(loss))\n",
    "        print(\"min_loss= \"+str(min_loss))\n",
    "        min_loss = loss\n",
    "        if index%2==1:\n",
    "            loss, acc = train_xgb(x_train_f, y_train_f,x_test_f,y_test_f, xgb_params)\n",
    "        else:\n",
    "            loss,acc = train_lgbm(x_train_f, y_train_f,x_test_f, y_test_f, lgbm_params)\n",
    "        acc_res.append(acc)\n",
    "    enum = range(1, len(acc_res)+1)\n",
    "    if acc > max_acc:\n",
    "        max_acc = acc\n",
    "    acc_res\n",
    "\n",
    "    return enum,acc_res,max_acc"
   ],
   "metadata": {
    "collapsed": false,
    "pycharm": {
     "name": "#%%\n"
    }
   }
  },
  {
   "cell_type": "code",
   "execution_count": 52,
   "outputs": [
    {
     "name": "stdout",
     "output_type": "stream",
     "text": [
      "loss= 1000000000000\n",
      "min_loss= inf\n"
     ]
    },
    {
     "name": "stderr",
     "output_type": "stream",
     "text": [
      "C:\\Study\\8_term\\Comp_vision\\L1\\venv\\lib\\site-packages\\ipykernel_launcher.py:27: DeprecationWarning: `np.float` is a deprecated alias for the builtin `float`. To silence this warning, use `float` by itself. Doing this will not modify any behavior and is safe. If you specifically wanted the numpy scalar type, use `np.float64` here.\n",
      "Deprecated in NumPy 1.20; for more details and guidance: https://numpy.org/devdocs/release/1.20.0-notes.html#deprecations\n"
     ]
    },
    {
     "name": "stdout",
     "output_type": "stream",
     "text": [
      "loss= 19.411910036817368\n",
      "min_loss= 1000000000000\n",
      "[LightGBM] [Warning] feature_fraction is set=0.8, colsample_bytree=1.0 will be ignored. Current value: feature_fraction=0.8\n",
      "[LightGBM] [Warning] bagging_fraction is set=0.8, subsample=1.0 will be ignored. Current value: bagging_fraction=0.8\n",
      "[LightGBM] [Warning] bagging_freq is set=2, subsample_freq=0 will be ignored. Current value: bagging_freq=2\n",
      "[LightGBM] [Warning] Found whitespace in feature_names, replace with underlines\n",
      "[LightGBM] [Warning] feature_fraction is set=0.8, colsample_bytree=1.0 will be ignored. Current value: feature_fraction=0.8\n",
      "[LightGBM] [Warning] bagging_fraction is set=0.8, subsample=1.0 will be ignored. Current value: bagging_fraction=0.8\n",
      "[LightGBM] [Warning] bagging_freq is set=2, subsample_freq=0 will be ignored. Current value: bagging_freq=2\n",
      "[LightGBM] [Info] Auto-choosing row-wise multi-threading, the overhead of testing was 0.002314 seconds.\n",
      "You can set `force_row_wise=true` to remove the overhead.\n",
      "And if memory is not enough, you can set `force_col_wise=true`.\n",
      "[LightGBM] [Info] Total Bins 982\n",
      "[LightGBM] [Info] Number of data points in the train set: 97948, number of used features: 89\n",
      "[LightGBM] [Info] Start training from score 18007.696931\n",
      "[LightGBM] [Warning] feature_fraction is set=0.8, colsample_bytree=1.0 will be ignored. Current value: feature_fraction=0.8\n",
      "[LightGBM] [Warning] bagging_fraction is set=0.8, subsample=1.0 will be ignored. Current value: bagging_fraction=0.8\n",
      "[LightGBM] [Warning] bagging_freq is set=2, subsample_freq=0 will be ignored. Current value: bagging_freq=2\n",
      "[LightGBM] [Warning] feature_fraction is set=0.8, colsample_bytree=1.0 will be ignored. Current value: feature_fraction=0.8\n",
      "[LightGBM] [Warning] bagging_fraction is set=0.8, subsample=1.0 will be ignored. Current value: bagging_fraction=0.8\n",
      "[LightGBM] [Warning] bagging_freq is set=2, subsample_freq=0 will be ignored. Current value: bagging_freq=2\n",
      "loss= 18.559292162546946\n",
      "min_loss= 19.411910036817368\n",
      "loss= 15.16496971415128\n",
      "min_loss= 18.559292162546946\n",
      "[LightGBM] [Warning] feature_fraction is set=0.8, colsample_bytree=1.0 will be ignored. Current value: feature_fraction=0.8\n",
      "[LightGBM] [Warning] bagging_fraction is set=0.8, subsample=1.0 will be ignored. Current value: bagging_fraction=0.8\n",
      "[LightGBM] [Warning] bagging_freq is set=2, subsample_freq=0 will be ignored. Current value: bagging_freq=2\n",
      "[LightGBM] [Warning] Found whitespace in feature_names, replace with underlines\n",
      "[LightGBM] [Warning] feature_fraction is set=0.8, colsample_bytree=1.0 will be ignored. Current value: feature_fraction=0.8\n",
      "[LightGBM] [Warning] bagging_fraction is set=0.8, subsample=1.0 will be ignored. Current value: bagging_fraction=0.8\n",
      "[LightGBM] [Warning] bagging_freq is set=2, subsample_freq=0 will be ignored. Current value: bagging_freq=2\n",
      "[LightGBM] [Info] Auto-choosing row-wise multi-threading, the overhead of testing was 0.002093 seconds.\n",
      "You can set `force_row_wise=true` to remove the overhead.\n",
      "And if memory is not enough, you can set `force_col_wise=true`.\n",
      "[LightGBM] [Info] Total Bins 982\n",
      "[LightGBM] [Info] Number of data points in the train set: 97948, number of used features: 89\n",
      "[LightGBM] [Info] Start training from score 18007.696931\n",
      "[LightGBM] [Warning] feature_fraction is set=0.8, colsample_bytree=1.0 will be ignored. Current value: feature_fraction=0.8\n",
      "[LightGBM] [Warning] bagging_fraction is set=0.8, subsample=1.0 will be ignored. Current value: bagging_fraction=0.8\n",
      "[LightGBM] [Warning] bagging_freq is set=2, subsample_freq=0 will be ignored. Current value: bagging_freq=2\n",
      "[LightGBM] [Warning] feature_fraction is set=0.8, colsample_bytree=1.0 will be ignored. Current value: feature_fraction=0.8\n",
      "[LightGBM] [Warning] bagging_fraction is set=0.8, subsample=1.0 will be ignored. Current value: bagging_fraction=0.8\n",
      "[LightGBM] [Warning] bagging_freq is set=2, subsample_freq=0 will be ignored. Current value: bagging_freq=2\n",
      "loss= 14.897624261593146\n",
      "min_loss= 15.16496971415128\n",
      "loss= 12.682161409818512\n",
      "min_loss= 14.897624261593146\n",
      "[LightGBM] [Warning] feature_fraction is set=0.8, colsample_bytree=1.0 will be ignored. Current value: feature_fraction=0.8\n",
      "[LightGBM] [Warning] bagging_fraction is set=0.8, subsample=1.0 will be ignored. Current value: bagging_fraction=0.8\n",
      "[LightGBM] [Warning] bagging_freq is set=2, subsample_freq=0 will be ignored. Current value: bagging_freq=2\n",
      "[LightGBM] [Warning] Found whitespace in feature_names, replace with underlines\n",
      "[LightGBM] [Warning] feature_fraction is set=0.8, colsample_bytree=1.0 will be ignored. Current value: feature_fraction=0.8\n",
      "[LightGBM] [Warning] bagging_fraction is set=0.8, subsample=1.0 will be ignored. Current value: bagging_fraction=0.8\n",
      "[LightGBM] [Warning] bagging_freq is set=2, subsample_freq=0 will be ignored. Current value: bagging_freq=2\n",
      "[LightGBM] [Info] Auto-choosing row-wise multi-threading, the overhead of testing was 0.002453 seconds.\n",
      "You can set `force_row_wise=true` to remove the overhead.\n",
      "And if memory is not enough, you can set `force_col_wise=true`.\n",
      "[LightGBM] [Info] Total Bins 982\n",
      "[LightGBM] [Info] Number of data points in the train set: 97948, number of used features: 89\n",
      "[LightGBM] [Info] Start training from score 18007.696931\n",
      "[LightGBM] [Warning] feature_fraction is set=0.8, colsample_bytree=1.0 will be ignored. Current value: feature_fraction=0.8\n",
      "[LightGBM] [Warning] bagging_fraction is set=0.8, subsample=1.0 will be ignored. Current value: bagging_fraction=0.8\n",
      "[LightGBM] [Warning] bagging_freq is set=2, subsample_freq=0 will be ignored. Current value: bagging_freq=2\n",
      "[LightGBM] [Warning] feature_fraction is set=0.8, colsample_bytree=1.0 will be ignored. Current value: feature_fraction=0.8\n",
      "[LightGBM] [Warning] bagging_fraction is set=0.8, subsample=1.0 will be ignored. Current value: bagging_fraction=0.8\n",
      "[LightGBM] [Warning] bagging_freq is set=2, subsample_freq=0 will be ignored. Current value: bagging_freq=2\n",
      "loss= 12.625908963969925\n",
      "min_loss= 12.682161409818512\n",
      "loss= 11.02276175559704\n",
      "min_loss= 12.625908963969925\n",
      "[LightGBM] [Warning] feature_fraction is set=0.8, colsample_bytree=1.0 will be ignored. Current value: feature_fraction=0.8\n",
      "[LightGBM] [Warning] bagging_fraction is set=0.8, subsample=1.0 will be ignored. Current value: bagging_fraction=0.8\n",
      "[LightGBM] [Warning] bagging_freq is set=2, subsample_freq=0 will be ignored. Current value: bagging_freq=2\n",
      "[LightGBM] [Warning] Found whitespace in feature_names, replace with underlines\n",
      "[LightGBM] [Warning] feature_fraction is set=0.8, colsample_bytree=1.0 will be ignored. Current value: feature_fraction=0.8\n",
      "[LightGBM] [Warning] bagging_fraction is set=0.8, subsample=1.0 will be ignored. Current value: bagging_fraction=0.8\n",
      "[LightGBM] [Warning] bagging_freq is set=2, subsample_freq=0 will be ignored. Current value: bagging_freq=2\n",
      "[LightGBM] [Info] Auto-choosing row-wise multi-threading, the overhead of testing was 0.001815 seconds.\n",
      "You can set `force_row_wise=true` to remove the overhead.\n",
      "And if memory is not enough, you can set `force_col_wise=true`.\n",
      "[LightGBM] [Info] Total Bins 982\n",
      "[LightGBM] [Info] Number of data points in the train set: 97948, number of used features: 89\n",
      "[LightGBM] [Info] Start training from score 18007.696931\n",
      "[LightGBM] [Warning] feature_fraction is set=0.8, colsample_bytree=1.0 will be ignored. Current value: feature_fraction=0.8\n",
      "[LightGBM] [Warning] bagging_fraction is set=0.8, subsample=1.0 will be ignored. Current value: bagging_fraction=0.8\n",
      "[LightGBM] [Warning] bagging_freq is set=2, subsample_freq=0 will be ignored. Current value: bagging_freq=2\n",
      "[LightGBM] [Warning] feature_fraction is set=0.8, colsample_bytree=1.0 will be ignored. Current value: feature_fraction=0.8\n",
      "[LightGBM] [Warning] bagging_fraction is set=0.8, subsample=1.0 will be ignored. Current value: bagging_fraction=0.8\n",
      "[LightGBM] [Warning] bagging_freq is set=2, subsample_freq=0 will be ignored. Current value: bagging_freq=2\n",
      "loss= 11.112094403440471\n",
      "min_loss= 11.02276175559704\n",
      "loss= 9.8020097705878\n",
      "min_loss= 11.112094403440471\n",
      "[LightGBM] [Warning] feature_fraction is set=0.8, colsample_bytree=1.0 will be ignored. Current value: feature_fraction=0.8\n",
      "[LightGBM] [Warning] bagging_fraction is set=0.8, subsample=1.0 will be ignored. Current value: bagging_fraction=0.8\n",
      "[LightGBM] [Warning] bagging_freq is set=2, subsample_freq=0 will be ignored. Current value: bagging_freq=2\n",
      "[LightGBM] [Warning] Found whitespace in feature_names, replace with underlines\n",
      "[LightGBM] [Warning] feature_fraction is set=0.8, colsample_bytree=1.0 will be ignored. Current value: feature_fraction=0.8\n",
      "[LightGBM] [Warning] bagging_fraction is set=0.8, subsample=1.0 will be ignored. Current value: bagging_fraction=0.8\n",
      "[LightGBM] [Warning] bagging_freq is set=2, subsample_freq=0 will be ignored. Current value: bagging_freq=2\n",
      "[LightGBM] [Info] Auto-choosing row-wise multi-threading, the overhead of testing was 0.001658 seconds.\n",
      "You can set `force_row_wise=true` to remove the overhead.\n",
      "And if memory is not enough, you can set `force_col_wise=true`.\n",
      "[LightGBM] [Info] Total Bins 982\n",
      "[LightGBM] [Info] Number of data points in the train set: 97948, number of used features: 89\n",
      "[LightGBM] [Info] Start training from score 18007.696931\n",
      "[LightGBM] [Warning] feature_fraction is set=0.8, colsample_bytree=1.0 will be ignored. Current value: feature_fraction=0.8\n",
      "[LightGBM] [Warning] bagging_fraction is set=0.8, subsample=1.0 will be ignored. Current value: bagging_fraction=0.8\n",
      "[LightGBM] [Warning] bagging_freq is set=2, subsample_freq=0 will be ignored. Current value: bagging_freq=2\n",
      "[LightGBM] [Warning] feature_fraction is set=0.8, colsample_bytree=1.0 will be ignored. Current value: feature_fraction=0.8\n",
      "[LightGBM] [Warning] bagging_fraction is set=0.8, subsample=1.0 will be ignored. Current value: bagging_fraction=0.8\n",
      "[LightGBM] [Warning] bagging_freq is set=2, subsample_freq=0 will be ignored. Current value: bagging_freq=2\n",
      "loss= 9.944124071839582\n",
      "min_loss= 9.8020097705878\n",
      "loss= 8.846828402162792\n",
      "min_loss= 9.944124071839582\n",
      "[LightGBM] [Warning] feature_fraction is set=0.8, colsample_bytree=1.0 will be ignored. Current value: feature_fraction=0.8\n",
      "[LightGBM] [Warning] bagging_fraction is set=0.8, subsample=1.0 will be ignored. Current value: bagging_fraction=0.8\n",
      "[LightGBM] [Warning] bagging_freq is set=2, subsample_freq=0 will be ignored. Current value: bagging_freq=2\n",
      "[LightGBM] [Warning] Found whitespace in feature_names, replace with underlines\n",
      "[LightGBM] [Warning] feature_fraction is set=0.8, colsample_bytree=1.0 will be ignored. Current value: feature_fraction=0.8\n",
      "[LightGBM] [Warning] bagging_fraction is set=0.8, subsample=1.0 will be ignored. Current value: bagging_fraction=0.8\n",
      "[LightGBM] [Warning] bagging_freq is set=2, subsample_freq=0 will be ignored. Current value: bagging_freq=2\n",
      "[LightGBM] [Info] Auto-choosing row-wise multi-threading, the overhead of testing was 0.002220 seconds.\n",
      "You can set `force_row_wise=true` to remove the overhead.\n",
      "And if memory is not enough, you can set `force_col_wise=true`.\n",
      "[LightGBM] [Info] Total Bins 982\n",
      "[LightGBM] [Info] Number of data points in the train set: 97948, number of used features: 89\n",
      "[LightGBM] [Info] Start training from score 18007.696931\n",
      "[LightGBM] [Warning] feature_fraction is set=0.8, colsample_bytree=1.0 will be ignored. Current value: feature_fraction=0.8\n",
      "[LightGBM] [Warning] bagging_fraction is set=0.8, subsample=1.0 will be ignored. Current value: bagging_fraction=0.8\n",
      "[LightGBM] [Warning] bagging_freq is set=2, subsample_freq=0 will be ignored. Current value: bagging_freq=2\n",
      "[LightGBM] [Warning] feature_fraction is set=0.8, colsample_bytree=1.0 will be ignored. Current value: feature_fraction=0.8\n",
      "[LightGBM] [Warning] bagging_fraction is set=0.8, subsample=1.0 will be ignored. Current value: bagging_fraction=0.8\n",
      "[LightGBM] [Warning] bagging_freq is set=2, subsample_freq=0 will be ignored. Current value: bagging_freq=2\n",
      "loss= 9.042198900172933\n",
      "min_loss= 8.846828402162792\n",
      "loss= 8.098227605505238\n",
      "min_loss= 9.042198900172933\n",
      "[LightGBM] [Warning] feature_fraction is set=0.8, colsample_bytree=1.0 will be ignored. Current value: feature_fraction=0.8\n",
      "[LightGBM] [Warning] bagging_fraction is set=0.8, subsample=1.0 will be ignored. Current value: bagging_fraction=0.8\n",
      "[LightGBM] [Warning] bagging_freq is set=2, subsample_freq=0 will be ignored. Current value: bagging_freq=2\n",
      "[LightGBM] [Warning] Found whitespace in feature_names, replace with underlines\n",
      "[LightGBM] [Warning] feature_fraction is set=0.8, colsample_bytree=1.0 will be ignored. Current value: feature_fraction=0.8\n",
      "[LightGBM] [Warning] bagging_fraction is set=0.8, subsample=1.0 will be ignored. Current value: bagging_fraction=0.8\n",
      "[LightGBM] [Warning] bagging_freq is set=2, subsample_freq=0 will be ignored. Current value: bagging_freq=2\n",
      "[LightGBM] [Info] Auto-choosing row-wise multi-threading, the overhead of testing was 0.002244 seconds.\n",
      "You can set `force_row_wise=true` to remove the overhead.\n",
      "And if memory is not enough, you can set `force_col_wise=true`.\n",
      "[LightGBM] [Info] Total Bins 982\n",
      "[LightGBM] [Info] Number of data points in the train set: 97948, number of used features: 89\n",
      "[LightGBM] [Info] Start training from score 18007.696931\n",
      "[LightGBM] [Warning] feature_fraction is set=0.8, colsample_bytree=1.0 will be ignored. Current value: feature_fraction=0.8\n",
      "[LightGBM] [Warning] bagging_fraction is set=0.8, subsample=1.0 will be ignored. Current value: bagging_fraction=0.8\n",
      "[LightGBM] [Warning] bagging_freq is set=2, subsample_freq=0 will be ignored. Current value: bagging_freq=2\n",
      "[LightGBM] [Warning] feature_fraction is set=0.8, colsample_bytree=1.0 will be ignored. Current value: feature_fraction=0.8\n",
      "[LightGBM] [Warning] bagging_fraction is set=0.8, subsample=1.0 will be ignored. Current value: bagging_fraction=0.8\n",
      "[LightGBM] [Warning] bagging_freq is set=2, subsample_freq=0 will be ignored. Current value: bagging_freq=2\n",
      "loss= 8.313854727420624\n",
      "min_loss= 8.098227605505238\n",
      "loss= 7.491151056803585\n",
      "min_loss= 8.313854727420624\n",
      "[LightGBM] [Warning] feature_fraction is set=0.8, colsample_bytree=1.0 will be ignored. Current value: feature_fraction=0.8\n",
      "[LightGBM] [Warning] bagging_fraction is set=0.8, subsample=1.0 will be ignored. Current value: bagging_fraction=0.8\n",
      "[LightGBM] [Warning] bagging_freq is set=2, subsample_freq=0 will be ignored. Current value: bagging_freq=2\n",
      "[LightGBM] [Warning] Found whitespace in feature_names, replace with underlines\n",
      "[LightGBM] [Warning] feature_fraction is set=0.8, colsample_bytree=1.0 will be ignored. Current value: feature_fraction=0.8\n",
      "[LightGBM] [Warning] bagging_fraction is set=0.8, subsample=1.0 will be ignored. Current value: bagging_fraction=0.8\n",
      "[LightGBM] [Warning] bagging_freq is set=2, subsample_freq=0 will be ignored. Current value: bagging_freq=2\n",
      "[LightGBM] [Info] Auto-choosing row-wise multi-threading, the overhead of testing was 0.001938 seconds.\n",
      "You can set `force_row_wise=true` to remove the overhead.\n",
      "And if memory is not enough, you can set `force_col_wise=true`.\n",
      "[LightGBM] [Info] Total Bins 982\n",
      "[LightGBM] [Info] Number of data points in the train set: 97948, number of used features: 89\n",
      "[LightGBM] [Info] Start training from score 18007.696931\n",
      "[LightGBM] [Warning] feature_fraction is set=0.8, colsample_bytree=1.0 will be ignored. Current value: feature_fraction=0.8\n",
      "[LightGBM] [Warning] bagging_fraction is set=0.8, subsample=1.0 will be ignored. Current value: bagging_fraction=0.8\n",
      "[LightGBM] [Warning] bagging_freq is set=2, subsample_freq=0 will be ignored. Current value: bagging_freq=2\n",
      "[LightGBM] [Warning] feature_fraction is set=0.8, colsample_bytree=1.0 will be ignored. Current value: feature_fraction=0.8\n",
      "[LightGBM] [Warning] bagging_fraction is set=0.8, subsample=1.0 will be ignored. Current value: bagging_fraction=0.8\n",
      "[LightGBM] [Warning] bagging_freq is set=2, subsample_freq=0 will be ignored. Current value: bagging_freq=2\n",
      "loss= 7.708240652861509\n",
      "min_loss= 7.491151056803585\n",
      "loss= 6.945380670145466\n",
      "min_loss= 7.708240652861509\n",
      "[LightGBM] [Warning] feature_fraction is set=0.8, colsample_bytree=1.0 will be ignored. Current value: feature_fraction=0.8\n",
      "[LightGBM] [Warning] bagging_fraction is set=0.8, subsample=1.0 will be ignored. Current value: bagging_fraction=0.8\n",
      "[LightGBM] [Warning] bagging_freq is set=2, subsample_freq=0 will be ignored. Current value: bagging_freq=2\n",
      "[LightGBM] [Warning] Found whitespace in feature_names, replace with underlines\n",
      "[LightGBM] [Warning] feature_fraction is set=0.8, colsample_bytree=1.0 will be ignored. Current value: feature_fraction=0.8\n",
      "[LightGBM] [Warning] bagging_fraction is set=0.8, subsample=1.0 will be ignored. Current value: bagging_fraction=0.8\n",
      "[LightGBM] [Warning] bagging_freq is set=2, subsample_freq=0 will be ignored. Current value: bagging_freq=2\n",
      "[LightGBM] [Info] Auto-choosing row-wise multi-threading, the overhead of testing was 0.002394 seconds.\n",
      "You can set `force_row_wise=true` to remove the overhead.\n",
      "And if memory is not enough, you can set `force_col_wise=true`.\n",
      "[LightGBM] [Info] Total Bins 982\n",
      "[LightGBM] [Info] Number of data points in the train set: 97948, number of used features: 89\n",
      "[LightGBM] [Info] Start training from score 18007.696931\n",
      "[LightGBM] [Warning] feature_fraction is set=0.8, colsample_bytree=1.0 will be ignored. Current value: feature_fraction=0.8\n",
      "[LightGBM] [Warning] bagging_fraction is set=0.8, subsample=1.0 will be ignored. Current value: bagging_fraction=0.8\n",
      "[LightGBM] [Warning] bagging_freq is set=2, subsample_freq=0 will be ignored. Current value: bagging_freq=2\n",
      "[LightGBM] [Warning] feature_fraction is set=0.8, colsample_bytree=1.0 will be ignored. Current value: feature_fraction=0.8\n",
      "[LightGBM] [Warning] bagging_fraction is set=0.8, subsample=1.0 will be ignored. Current value: bagging_fraction=0.8\n",
      "[LightGBM] [Warning] bagging_freq is set=2, subsample_freq=0 will be ignored. Current value: bagging_freq=2\n",
      "loss= 7.237102770757225\n",
      "min_loss= 6.945380670145466\n",
      "loss= 6.525701641422223\n",
      "min_loss= 7.237102770757225\n",
      "[LightGBM] [Warning] feature_fraction is set=0.8, colsample_bytree=1.0 will be ignored. Current value: feature_fraction=0.8\n",
      "[LightGBM] [Warning] bagging_fraction is set=0.8, subsample=1.0 will be ignored. Current value: bagging_fraction=0.8\n",
      "[LightGBM] [Warning] bagging_freq is set=2, subsample_freq=0 will be ignored. Current value: bagging_freq=2\n",
      "[LightGBM] [Warning] Found whitespace in feature_names, replace with underlines\n",
      "[LightGBM] [Warning] feature_fraction is set=0.8, colsample_bytree=1.0 will be ignored. Current value: feature_fraction=0.8\n",
      "[LightGBM] [Warning] bagging_fraction is set=0.8, subsample=1.0 will be ignored. Current value: bagging_fraction=0.8\n",
      "[LightGBM] [Warning] bagging_freq is set=2, subsample_freq=0 will be ignored. Current value: bagging_freq=2\n",
      "[LightGBM] [Info] Auto-choosing row-wise multi-threading, the overhead of testing was 0.002286 seconds.\n",
      "You can set `force_row_wise=true` to remove the overhead.\n",
      "And if memory is not enough, you can set `force_col_wise=true`.\n",
      "[LightGBM] [Info] Total Bins 982\n",
      "[LightGBM] [Info] Number of data points in the train set: 97948, number of used features: 89\n",
      "[LightGBM] [Info] Start training from score 18007.696931\n",
      "[LightGBM] [Warning] feature_fraction is set=0.8, colsample_bytree=1.0 will be ignored. Current value: feature_fraction=0.8\n",
      "[LightGBM] [Warning] bagging_fraction is set=0.8, subsample=1.0 will be ignored. Current value: bagging_fraction=0.8\n",
      "[LightGBM] [Warning] bagging_freq is set=2, subsample_freq=0 will be ignored. Current value: bagging_freq=2\n",
      "[LightGBM] [Warning] feature_fraction is set=0.8, colsample_bytree=1.0 will be ignored. Current value: feature_fraction=0.8\n",
      "[LightGBM] [Warning] bagging_fraction is set=0.8, subsample=1.0 will be ignored. Current value: bagging_fraction=0.8\n",
      "[LightGBM] [Warning] bagging_freq is set=2, subsample_freq=0 will be ignored. Current value: bagging_freq=2\n",
      "loss= 6.788769096799248\n",
      "min_loss= 6.525701641422223\n",
      "loss= 6.126262991081242\n",
      "min_loss= 6.788769096799248\n",
      "[LightGBM] [Warning] feature_fraction is set=0.8, colsample_bytree=1.0 will be ignored. Current value: feature_fraction=0.8\n",
      "[LightGBM] [Warning] bagging_fraction is set=0.8, subsample=1.0 will be ignored. Current value: bagging_fraction=0.8\n",
      "[LightGBM] [Warning] bagging_freq is set=2, subsample_freq=0 will be ignored. Current value: bagging_freq=2\n",
      "[LightGBM] [Warning] Found whitespace in feature_names, replace with underlines\n",
      "[LightGBM] [Warning] feature_fraction is set=0.8, colsample_bytree=1.0 will be ignored. Current value: feature_fraction=0.8\n",
      "[LightGBM] [Warning] bagging_fraction is set=0.8, subsample=1.0 will be ignored. Current value: bagging_fraction=0.8\n",
      "[LightGBM] [Warning] bagging_freq is set=2, subsample_freq=0 will be ignored. Current value: bagging_freq=2\n",
      "[LightGBM] [Info] Auto-choosing row-wise multi-threading, the overhead of testing was 0.002225 seconds.\n",
      "You can set `force_row_wise=true` to remove the overhead.\n",
      "And if memory is not enough, you can set `force_col_wise=true`.\n",
      "[LightGBM] [Info] Total Bins 982\n",
      "[LightGBM] [Info] Number of data points in the train set: 97948, number of used features: 89\n",
      "[LightGBM] [Info] Start training from score 18007.696931\n",
      "[LightGBM] [Warning] feature_fraction is set=0.8, colsample_bytree=1.0 will be ignored. Current value: feature_fraction=0.8\n",
      "[LightGBM] [Warning] bagging_fraction is set=0.8, subsample=1.0 will be ignored. Current value: bagging_fraction=0.8\n",
      "[LightGBM] [Warning] bagging_freq is set=2, subsample_freq=0 will be ignored. Current value: bagging_freq=2\n",
      "[LightGBM] [Warning] feature_fraction is set=0.8, colsample_bytree=1.0 will be ignored. Current value: feature_fraction=0.8\n",
      "[LightGBM] [Warning] bagging_fraction is set=0.8, subsample=1.0 will be ignored. Current value: bagging_fraction=0.8\n",
      "[LightGBM] [Warning] bagging_freq is set=2, subsample_freq=0 will be ignored. Current value: bagging_freq=2\n",
      "loss= 6.425063128384889\n",
      "min_loss= 6.126262991081242\n",
      "loss= 5.800082702908547\n",
      "min_loss= 6.425063128384889\n",
      "[LightGBM] [Warning] feature_fraction is set=0.8, colsample_bytree=1.0 will be ignored. Current value: feature_fraction=0.8\n",
      "[LightGBM] [Warning] bagging_fraction is set=0.8, subsample=1.0 will be ignored. Current value: bagging_fraction=0.8\n",
      "[LightGBM] [Warning] bagging_freq is set=2, subsample_freq=0 will be ignored. Current value: bagging_freq=2\n",
      "[LightGBM] [Warning] Found whitespace in feature_names, replace with underlines\n",
      "[LightGBM] [Warning] feature_fraction is set=0.8, colsample_bytree=1.0 will be ignored. Current value: feature_fraction=0.8\n",
      "[LightGBM] [Warning] bagging_fraction is set=0.8, subsample=1.0 will be ignored. Current value: bagging_fraction=0.8\n",
      "[LightGBM] [Warning] bagging_freq is set=2, subsample_freq=0 will be ignored. Current value: bagging_freq=2\n",
      "[LightGBM] [Info] Auto-choosing row-wise multi-threading, the overhead of testing was 0.002257 seconds.\n",
      "You can set `force_row_wise=true` to remove the overhead.\n",
      "And if memory is not enough, you can set `force_col_wise=true`.\n",
      "[LightGBM] [Info] Total Bins 982\n",
      "[LightGBM] [Info] Number of data points in the train set: 97948, number of used features: 89\n",
      "[LightGBM] [Info] Start training from score 18007.696931\n",
      "[LightGBM] [Warning] feature_fraction is set=0.8, colsample_bytree=1.0 will be ignored. Current value: feature_fraction=0.8\n",
      "[LightGBM] [Warning] bagging_fraction is set=0.8, subsample=1.0 will be ignored. Current value: bagging_fraction=0.8\n",
      "[LightGBM] [Warning] bagging_freq is set=2, subsample_freq=0 will be ignored. Current value: bagging_freq=2\n",
      "[LightGBM] [Warning] feature_fraction is set=0.8, colsample_bytree=1.0 will be ignored. Current value: feature_fraction=0.8\n",
      "[LightGBM] [Warning] bagging_fraction is set=0.8, subsample=1.0 will be ignored. Current value: bagging_fraction=0.8\n",
      "[LightGBM] [Warning] bagging_freq is set=2, subsample_freq=0 will be ignored. Current value: bagging_freq=2\n",
      "loss= 6.128558708184363\n",
      "min_loss= 5.800082702908547\n",
      "loss= 5.5123744540335515\n",
      "min_loss= 6.128558708184363\n",
      "[LightGBM] [Warning] feature_fraction is set=0.8, colsample_bytree=1.0 will be ignored. Current value: feature_fraction=0.8\n",
      "[LightGBM] [Warning] bagging_fraction is set=0.8, subsample=1.0 will be ignored. Current value: bagging_fraction=0.8\n",
      "[LightGBM] [Warning] bagging_freq is set=2, subsample_freq=0 will be ignored. Current value: bagging_freq=2\n",
      "[LightGBM] [Warning] Found whitespace in feature_names, replace with underlines\n",
      "[LightGBM] [Warning] feature_fraction is set=0.8, colsample_bytree=1.0 will be ignored. Current value: feature_fraction=0.8\n",
      "[LightGBM] [Warning] bagging_fraction is set=0.8, subsample=1.0 will be ignored. Current value: bagging_fraction=0.8\n",
      "[LightGBM] [Warning] bagging_freq is set=2, subsample_freq=0 will be ignored. Current value: bagging_freq=2\n",
      "[LightGBM] [Info] Auto-choosing row-wise multi-threading, the overhead of testing was 0.002289 seconds.\n",
      "You can set `force_row_wise=true` to remove the overhead.\n",
      "And if memory is not enough, you can set `force_col_wise=true`.\n",
      "[LightGBM] [Info] Total Bins 982\n",
      "[LightGBM] [Info] Number of data points in the train set: 97948, number of used features: 89\n",
      "[LightGBM] [Info] Start training from score 18007.696931\n",
      "[LightGBM] [Warning] feature_fraction is set=0.8, colsample_bytree=1.0 will be ignored. Current value: feature_fraction=0.8\n",
      "[LightGBM] [Warning] bagging_fraction is set=0.8, subsample=1.0 will be ignored. Current value: bagging_fraction=0.8\n",
      "[LightGBM] [Warning] bagging_freq is set=2, subsample_freq=0 will be ignored. Current value: bagging_freq=2\n",
      "[LightGBM] [Warning] feature_fraction is set=0.8, colsample_bytree=1.0 will be ignored. Current value: feature_fraction=0.8\n",
      "[LightGBM] [Warning] bagging_fraction is set=0.8, subsample=1.0 will be ignored. Current value: bagging_fraction=0.8\n",
      "[LightGBM] [Warning] bagging_freq is set=2, subsample_freq=0 will be ignored. Current value: bagging_freq=2\n",
      "loss= 5.848927070918424\n",
      "min_loss= 5.5123744540335515\n",
      "loss= 5.267447650263059\n",
      "min_loss= 5.848927070918424\n",
      "[LightGBM] [Warning] feature_fraction is set=0.8, colsample_bytree=1.0 will be ignored. Current value: feature_fraction=0.8\n",
      "[LightGBM] [Warning] bagging_fraction is set=0.8, subsample=1.0 will be ignored. Current value: bagging_fraction=0.8\n",
      "[LightGBM] [Warning] bagging_freq is set=2, subsample_freq=0 will be ignored. Current value: bagging_freq=2\n",
      "[LightGBM] [Warning] Found whitespace in feature_names, replace with underlines\n",
      "[LightGBM] [Warning] feature_fraction is set=0.8, colsample_bytree=1.0 will be ignored. Current value: feature_fraction=0.8\n",
      "[LightGBM] [Warning] bagging_fraction is set=0.8, subsample=1.0 will be ignored. Current value: bagging_fraction=0.8\n",
      "[LightGBM] [Warning] bagging_freq is set=2, subsample_freq=0 will be ignored. Current value: bagging_freq=2\n",
      "[LightGBM] [Info] Auto-choosing row-wise multi-threading, the overhead of testing was 0.002352 seconds.\n",
      "You can set `force_row_wise=true` to remove the overhead.\n",
      "And if memory is not enough, you can set `force_col_wise=true`.\n",
      "[LightGBM] [Info] Total Bins 982\n",
      "[LightGBM] [Info] Number of data points in the train set: 97948, number of used features: 89\n",
      "[LightGBM] [Info] Start training from score 18007.696931\n",
      "[LightGBM] [Warning] feature_fraction is set=0.8, colsample_bytree=1.0 will be ignored. Current value: feature_fraction=0.8\n",
      "[LightGBM] [Warning] bagging_fraction is set=0.8, subsample=1.0 will be ignored. Current value: bagging_fraction=0.8\n",
      "[LightGBM] [Warning] bagging_freq is set=2, subsample_freq=0 will be ignored. Current value: bagging_freq=2\n",
      "[LightGBM] [Warning] feature_fraction is set=0.8, colsample_bytree=1.0 will be ignored. Current value: feature_fraction=0.8\n",
      "[LightGBM] [Warning] bagging_fraction is set=0.8, subsample=1.0 will be ignored. Current value: bagging_fraction=0.8\n",
      "[LightGBM] [Warning] bagging_freq is set=2, subsample_freq=0 will be ignored. Current value: bagging_freq=2\n",
      "loss= 5.6312398439811915\n",
      "min_loss= 5.267447650263059\n"
     ]
    },
    {
     "data": {
      "text/plain": "<Figure size 640x480 with 1 Axes>",
      "image/png": "[encoded data removed]"
     },
     "metadata": {},
     "output_type": "display_data"
    }
   ],
   "source": [
    "enum1,acc_res1,max_acc1 = use_XGB_LGBM_framework(X_train,y_train,X_test,y_test)\n",
    "vizualize(enum1,acc_res1)"
   ],
   "metadata": {
    "collapsed": false,
    "pycharm": {
     "name": "#%%\n"
    }
   }
  },
  {
   "cell_type": "code",
   "execution_count": 31,
   "outputs": [],
   "source": [
    "global single_results\n",
    "single_results = pd.DataFrame(columns=['r2'])\n",
    "\n",
    "global complex_results\n",
    "complex_results = pd.DataFrame(columns=['r2'])\n"
   ],
   "metadata": {
    "collapsed": false,
    "pycharm": {
     "name": "#%%\n"
    }
   }
  },
  {
   "cell_type": "code",
   "execution_count": 32,
   "outputs": [],
   "source": [
    "def train_model(concrete_model, x_train, y_train_f, x_test, y_test_f):\n",
    "    concrete_model.fit(x_train, y_train_f)\n",
    "    pred_train = concrete_model.predict(x_train)\n",
    "    pred_test = concrete_model.predict(x_test)\n",
    "    global single_results\n",
    "    single_results = single_results.append(\n",
    "        pd.DataFrame({'r2': [Accuracy_metric(y_test_f, pred_test)]}, index=[str(type(concrete_model).__name__)]))\n",
    "    return pred_train, pred_test\n",
    "\n",
    "def train_model_add_preds(concrete_model, x_train, y_train_f, x_test, y_test_f):\n",
    "    pred_train, pred_test = train_model(concrete_model, x_train, y_train_f, x_test, y_test_f)\n",
    "    x_train.insert(0, 'pre_result', pred_train)\n",
    "    x_test.insert(0, 'pre_result', pred_test)\n"
   ],
   "metadata": {
    "collapsed": false,
    "pycharm": {
     "name": "#%%\n"
    }
   }
  },
  {
   "cell_type": "code",
   "execution_count": 33,
   "outputs": [],
   "source": [
    "from sklearn.linear_model import LinearRegression\n",
    "from sklearn.ensemble import RandomForestRegressor\n",
    "import lightgbm as lgb\n",
    "linear = LinearRegression()\n",
    "rf = RandomForestRegressor()\n",
    "xgb_1 = xgb.XGBRegressor(**xgb_params)\n",
    "lgbm_1 = lgb.LGBMRegressor(**lgbm_params)"
   ],
   "metadata": {
    "collapsed": false,
    "pycharm": {
     "name": "#%%\n"
    }
   }
  },
  {
   "cell_type": "code",
   "execution_count": 34,
   "outputs": [
    {
     "data": {
      "text/plain": "(24488,)"
     },
     "execution_count": 34,
     "metadata": {},
     "output_type": "execute_result"
    }
   ],
   "source": [
    "X_train_single = df_for_1_model.drop(columns=['price'], axis=1)\n",
    "y_train_single = df_for_1_model['price']\n",
    "X_train_single, X_test_single, y_train_single, y_test_single = split(X_train_single, y_train_single, train_size=0.8, random_state=18)\n",
    "\n",
    "\n",
    "y_test_single.shape"
   ],
   "metadata": {
    "collapsed": false,
    "pycharm": {
     "name": "#%%\n"
    }
   }
  },
  {
   "cell_type": "code",
   "execution_count": 35,
   "outputs": [
    {
     "name": "stderr",
     "output_type": "stream",
     "text": [
      "C:\\Study\\8_term\\Comp_vision\\L1\\venv\\lib\\site-packages\\ipykernel_launcher.py:27: DeprecationWarning: `np.float` is a deprecated alias for the builtin `float`. To silence this warning, use `float` by itself. Doing this will not modify any behavior and is safe. If you specifically wanted the numpy scalar type, use `np.float64` here.\n",
      "Deprecated in NumPy 1.20; for more details and guidance: https://numpy.org/devdocs/release/1.20.0-notes.html#deprecations\n",
      "C:\\Study\\8_term\\Comp_vision\\L1\\venv\\lib\\site-packages\\ipykernel_launcher.py:27: DeprecationWarning: `np.float` is a deprecated alias for the builtin `float`. To silence this warning, use `float` by itself. Doing this will not modify any behavior and is safe. If you specifically wanted the numpy scalar type, use `np.float64` here.\n",
      "Deprecated in NumPy 1.20; for more details and guidance: https://numpy.org/devdocs/release/1.20.0-notes.html#deprecations\n"
     ]
    },
    {
     "name": "stdout",
     "output_type": "stream",
     "text": [
      "[LightGBM] [Warning] feature_fraction is set=0.8, colsample_bytree=1.0 will be ignored. Current value: feature_fraction=0.8\n",
      "[LightGBM] [Warning] bagging_fraction is set=0.8, subsample=1.0 will be ignored. Current value: bagging_fraction=0.8\n",
      "[LightGBM] [Warning] bagging_freq is set=2, subsample_freq=0 will be ignored. Current value: bagging_freq=2\n",
      "[LightGBM] [Warning] Found whitespace in feature_names, replace with underlines\n",
      "[LightGBM] [Warning] feature_fraction is set=0.8, colsample_bytree=1.0 will be ignored. Current value: feature_fraction=0.8\n",
      "[LightGBM] [Warning] bagging_fraction is set=0.8, subsample=1.0 will be ignored. Current value: bagging_fraction=0.8\n",
      "[LightGBM] [Warning] bagging_freq is set=2, subsample_freq=0 will be ignored. Current value: bagging_freq=2\n",
      "[LightGBM] [Info] Auto-choosing row-wise multi-threading, the overhead of testing was 0.001653 seconds.\n",
      "You can set `force_row_wise=true` to remove the overhead.\n",
      "And if memory is not enough, you can set `force_col_wise=true`.\n",
      "[LightGBM] [Info] Total Bins 727\n",
      "[LightGBM] [Info] Number of data points in the train set: 97948, number of used features: 88\n",
      "[LightGBM] [Info] Start training from score 18007.696931\n",
      "[LightGBM] [Warning] feature_fraction is set=0.8, colsample_bytree=1.0 will be ignored. Current value: feature_fraction=0.8\n",
      "[LightGBM] [Warning] bagging_fraction is set=0.8, subsample=1.0 will be ignored. Current value: bagging_fraction=0.8\n",
      "[LightGBM] [Warning] bagging_freq is set=2, subsample_freq=0 will be ignored. Current value: bagging_freq=2\n",
      "[LightGBM] [Warning] feature_fraction is set=0.8, colsample_bytree=1.0 will be ignored. Current value: feature_fraction=0.8\n",
      "[LightGBM] [Warning] bagging_fraction is set=0.8, subsample=1.0 will be ignored. Current value: bagging_fraction=0.8\n",
      "[LightGBM] [Warning] bagging_freq is set=2, subsample_freq=0 will be ignored. Current value: bagging_freq=2\n"
     ]
    }
   ],
   "source": [
    "models = [linear,rf,xgb_1,lgbm_1]\n",
    "for m in models:\n",
    "    train_model(m, X_train_single, y_train_single, X_test_single, y_test_single)"
   ],
   "metadata": {
    "collapsed": false,
    "pycharm": {
     "name": "#%%\n"
    }
   }
  },
  {
   "cell_type": "code",
   "execution_count": 43,
   "outputs": [],
   "source": [
    "single_results = single_results.append(pd.DataFrame({'r2': [r2_score(y_train, y_pred_train)]}, index=['ResNet']))"
   ],
   "metadata": {
    "collapsed": false,
    "pycharm": {
     "name": "#%%\n"
    }
   }
  },
  {
   "cell_type": "code",
   "execution_count": 46,
   "outputs": [
    {
     "data": {
      "text/plain": "                             r2\nLinearRegression       0.199300\nRandomForestRegressor  0.587182\nXGBRegressor           0.411218\nLGBMRegressor          0.337794\nResNet                 0.592491",
      "text/html": "<div>\n<style scoped>\n    .dataframe tbody tr th:only-of-type {\n        vertical-align: middle;\n    }\n\n    .dataframe tbody tr th {\n        vertical-align: top;\n    }\n\n    .dataframe thead th {\n        text-align: right;\n    }\n</style>\n<table border=\"1\" class=\"dataframe\">\n  <thead>\n    <tr style=\"text-align: right;\">\n      <th></th>\n      <th>r2</th>\n    </tr>\n  </thead>\n  <tbody>\n    <tr>\n      <th>LinearRegression</th>\n      <td>0.199300</td>\n    </tr>\n    <tr>\n      <th>RandomForestRegressor</th>\n      <td>0.587182</td>\n    </tr>\n    <tr>\n      <th>XGBRegressor</th>\n      <td>0.411218</td>\n    </tr>\n    <tr>\n      <th>LGBMRegressor</th>\n      <td>0.337794</td>\n    </tr>\n    <tr>\n      <th>ResNet</th>\n      <td>0.592491</td>\n    </tr>\n  </tbody>\n</table>\n</div>"
     },
     "execution_count": 46,
     "metadata": {},
     "output_type": "execute_result"
    }
   ],
   "source": [
    "single_results"
   ],
   "metadata": {
    "collapsed": false,
    "pycharm": {
     "name": "#%%\n"
    }
   }
  },
  {
   "cell_type": "code",
   "execution_count": 37,
   "outputs": [
    {
     "data": {
      "text/plain": "['lgbm_1.joblib']"
     },
     "execution_count": 37,
     "metadata": {},
     "output_type": "execute_result"
    }
   ],
   "source": [
    "import joblib\n",
    "joblib.dump(linear, \"linear.joblib\")\n",
    "joblib.dump(rf, \"rf.joblib\")\n",
    "joblib.dump(xgb_1, \"xgb_1.joblib\")\n",
    "joblib.dump(lgbm_1, \"lgbm_1.joblib\")"
   ],
   "metadata": {
    "collapsed": false,
    "pycharm": {
     "name": "#%%\n"
    }
   }
  },
  {
   "cell_type": "code",
   "execution_count": 38,
   "outputs": [],
   "source": [
    "global complex_results\n",
    "complex_results = pd.DataFrame(columns=['r2'])"
   ],
   "metadata": {
    "collapsed": false,
    "pycharm": {
     "name": "#%%\n"
    }
   }
  },
  {
   "cell_type": "code",
   "execution_count": 39,
   "outputs": [
    {
     "name": "stderr",
     "output_type": "stream",
     "text": [
      "C:\\Study\\8_term\\Comp_vision\\L1\\venv\\lib\\site-packages\\ipykernel_launcher.py:27: DeprecationWarning: `np.float` is a deprecated alias for the builtin `float`. To silence this warning, use `float` by itself. Doing this will not modify any behavior and is safe. If you specifically wanted the numpy scalar type, use `np.float64` here.\n",
      "Deprecated in NumPy 1.20; for more details and guidance: https://numpy.org/devdocs/release/1.20.0-notes.html#deprecations\n"
     ]
    },
    {
     "name": "stdout",
     "output_type": "stream",
     "text": [
      "loss= 1000000000000\n",
      "min_loss= inf\n",
      "loss= 18.99442289673498\n",
      "min_loss= 1000000000000\n",
      "[LightGBM] [Warning] feature_fraction is set=0.8, colsample_bytree=1.0 will be ignored. Current value: feature_fraction=0.8\n",
      "[LightGBM] [Warning] bagging_fraction is set=0.8, subsample=1.0 will be ignored. Current value: bagging_fraction=0.8\n",
      "[LightGBM] [Warning] bagging_freq is set=2, subsample_freq=0 will be ignored. Current value: bagging_freq=2\n",
      "[LightGBM] [Warning] Found whitespace in feature_names, replace with underlines\n",
      "[LightGBM] [Warning] feature_fraction is set=0.8, colsample_bytree=1.0 will be ignored. Current value: feature_fraction=0.8\n",
      "[LightGBM] [Warning] bagging_fraction is set=0.8, subsample=1.0 will be ignored. Current value: bagging_fraction=0.8\n",
      "[LightGBM] [Warning] bagging_freq is set=2, subsample_freq=0 will be ignored. Current value: bagging_freq=2\n",
      "[LightGBM] [Info] Auto-choosing row-wise multi-threading, the overhead of testing was 0.001614 seconds.\n",
      "You can set `force_row_wise=true` to remove the overhead.\n",
      "And if memory is not enough, you can set `force_col_wise=true`.\n",
      "[LightGBM] [Info] Total Bins 982\n",
      "[LightGBM] [Info] Number of data points in the train set: 97948, number of used features: 89\n",
      "[LightGBM] [Info] Start training from score 18007.696931\n",
      "[LightGBM] [Warning] feature_fraction is set=0.8, colsample_bytree=1.0 will be ignored. Current value: feature_fraction=0.8\n",
      "[LightGBM] [Warning] bagging_fraction is set=0.8, subsample=1.0 will be ignored. Current value: bagging_fraction=0.8\n",
      "[LightGBM] [Warning] bagging_freq is set=2, subsample_freq=0 will be ignored. Current value: bagging_freq=2\n",
      "[LightGBM] [Warning] feature_fraction is set=0.8, colsample_bytree=1.0 will be ignored. Current value: feature_fraction=0.8\n",
      "[LightGBM] [Warning] bagging_fraction is set=0.8, subsample=1.0 will be ignored. Current value: bagging_fraction=0.8\n",
      "[LightGBM] [Warning] bagging_freq is set=2, subsample_freq=0 will be ignored. Current value: bagging_freq=2\n",
      "loss= 18.00801422554409\n",
      "min_loss= 18.99442289673498\n",
      "loss= 14.941469219289633\n",
      "min_loss= 18.00801422554409\n",
      "[LightGBM] [Warning] feature_fraction is set=0.8, colsample_bytree=1.0 will be ignored. Current value: feature_fraction=0.8\n",
      "[LightGBM] [Warning] bagging_fraction is set=0.8, subsample=1.0 will be ignored. Current value: bagging_fraction=0.8\n",
      "[LightGBM] [Warning] bagging_freq is set=2, subsample_freq=0 will be ignored. Current value: bagging_freq=2\n",
      "[LightGBM] [Warning] Found whitespace in feature_names, replace with underlines\n",
      "[LightGBM] [Warning] feature_fraction is set=0.8, colsample_bytree=1.0 will be ignored. Current value: feature_fraction=0.8\n",
      "[LightGBM] [Warning] bagging_fraction is set=0.8, subsample=1.0 will be ignored. Current value: bagging_fraction=0.8\n",
      "[LightGBM] [Warning] bagging_freq is set=2, subsample_freq=0 will be ignored. Current value: bagging_freq=2\n",
      "[LightGBM] [Info] Auto-choosing row-wise multi-threading, the overhead of testing was 0.001787 seconds.\n",
      "You can set `force_row_wise=true` to remove the overhead.\n",
      "And if memory is not enough, you can set `force_col_wise=true`.\n",
      "[LightGBM] [Info] Total Bins 982\n",
      "[LightGBM] [Info] Number of data points in the train set: 97948, number of used features: 89\n",
      "[LightGBM] [Info] Start training from score 18007.696931\n",
      "[LightGBM] [Warning] feature_fraction is set=0.8, colsample_bytree=1.0 will be ignored. Current value: feature_fraction=0.8\n",
      "[LightGBM] [Warning] bagging_fraction is set=0.8, subsample=1.0 will be ignored. Current value: bagging_fraction=0.8\n",
      "[LightGBM] [Warning] bagging_freq is set=2, subsample_freq=0 will be ignored. Current value: bagging_freq=2\n",
      "[LightGBM] [Warning] feature_fraction is set=0.8, colsample_bytree=1.0 will be ignored. Current value: feature_fraction=0.8\n",
      "[LightGBM] [Warning] bagging_fraction is set=0.8, subsample=1.0 will be ignored. Current value: bagging_fraction=0.8\n",
      "[LightGBM] [Warning] bagging_freq is set=2, subsample_freq=0 will be ignored. Current value: bagging_freq=2\n",
      "loss= 14.686563159872614\n",
      "min_loss= 14.941469219289633\n",
      "loss= 12.573760913921381\n",
      "min_loss= 14.686563159872614\n",
      "[LightGBM] [Warning] feature_fraction is set=0.8, colsample_bytree=1.0 will be ignored. Current value: feature_fraction=0.8\n",
      "[LightGBM] [Warning] bagging_fraction is set=0.8, subsample=1.0 will be ignored. Current value: bagging_fraction=0.8\n",
      "[LightGBM] [Warning] bagging_freq is set=2, subsample_freq=0 will be ignored. Current value: bagging_freq=2\n",
      "[LightGBM] [Warning] Found whitespace in feature_names, replace with underlines\n",
      "[LightGBM] [Warning] feature_fraction is set=0.8, colsample_bytree=1.0 will be ignored. Current value: feature_fraction=0.8\n",
      "[LightGBM] [Warning] bagging_fraction is set=0.8, subsample=1.0 will be ignored. Current value: bagging_fraction=0.8\n",
      "[LightGBM] [Warning] bagging_freq is set=2, subsample_freq=0 will be ignored. Current value: bagging_freq=2\n",
      "[LightGBM] [Info] Auto-choosing row-wise multi-threading, the overhead of testing was 0.002238 seconds.\n",
      "You can set `force_row_wise=true` to remove the overhead.\n",
      "And if memory is not enough, you can set `force_col_wise=true`.\n",
      "[LightGBM] [Info] Total Bins 982\n",
      "[LightGBM] [Info] Number of data points in the train set: 97948, number of used features: 89\n",
      "[LightGBM] [Info] Start training from score 18007.696931\n",
      "[LightGBM] [Warning] feature_fraction is set=0.8, colsample_bytree=1.0 will be ignored. Current value: feature_fraction=0.8\n",
      "[LightGBM] [Warning] bagging_fraction is set=0.8, subsample=1.0 will be ignored. Current value: bagging_fraction=0.8\n",
      "[LightGBM] [Warning] bagging_freq is set=2, subsample_freq=0 will be ignored. Current value: bagging_freq=2\n",
      "[LightGBM] [Warning] feature_fraction is set=0.8, colsample_bytree=1.0 will be ignored. Current value: feature_fraction=0.8\n",
      "[LightGBM] [Warning] bagging_fraction is set=0.8, subsample=1.0 will be ignored. Current value: bagging_fraction=0.8\n",
      "[LightGBM] [Warning] bagging_freq is set=2, subsample_freq=0 will be ignored. Current value: bagging_freq=2\n",
      "loss= 12.474816122590843\n",
      "min_loss= 12.573760913921381\n",
      "loss= 10.887413228633774\n",
      "min_loss= 12.474816122590843\n",
      "[LightGBM] [Warning] feature_fraction is set=0.8, colsample_bytree=1.0 will be ignored. Current value: feature_fraction=0.8\n",
      "[LightGBM] [Warning] bagging_fraction is set=0.8, subsample=1.0 will be ignored. Current value: bagging_fraction=0.8\n",
      "[LightGBM] [Warning] bagging_freq is set=2, subsample_freq=0 will be ignored. Current value: bagging_freq=2\n",
      "[LightGBM] [Warning] Found whitespace in feature_names, replace with underlines\n",
      "[LightGBM] [Warning] feature_fraction is set=0.8, colsample_bytree=1.0 will be ignored. Current value: feature_fraction=0.8\n",
      "[LightGBM] [Warning] bagging_fraction is set=0.8, subsample=1.0 will be ignored. Current value: bagging_fraction=0.8\n",
      "[LightGBM] [Warning] bagging_freq is set=2, subsample_freq=0 will be ignored. Current value: bagging_freq=2\n",
      "[LightGBM] [Info] Auto-choosing row-wise multi-threading, the overhead of testing was 0.002645 seconds.\n",
      "You can set `force_row_wise=true` to remove the overhead.\n",
      "And if memory is not enough, you can set `force_col_wise=true`.\n",
      "[LightGBM] [Info] Total Bins 982\n",
      "[LightGBM] [Info] Number of data points in the train set: 97948, number of used features: 89\n",
      "[LightGBM] [Info] Start training from score 18007.696931\n",
      "[LightGBM] [Warning] feature_fraction is set=0.8, colsample_bytree=1.0 will be ignored. Current value: feature_fraction=0.8\n",
      "[LightGBM] [Warning] bagging_fraction is set=0.8, subsample=1.0 will be ignored. Current value: bagging_fraction=0.8\n",
      "[LightGBM] [Warning] bagging_freq is set=2, subsample_freq=0 will be ignored. Current value: bagging_freq=2\n",
      "[LightGBM] [Warning] feature_fraction is set=0.8, colsample_bytree=1.0 will be ignored. Current value: feature_fraction=0.8\n",
      "[LightGBM] [Warning] bagging_fraction is set=0.8, subsample=1.0 will be ignored. Current value: bagging_fraction=0.8\n",
      "[LightGBM] [Warning] bagging_freq is set=2, subsample_freq=0 will be ignored. Current value: bagging_freq=2\n",
      "loss= 10.923844672134685\n",
      "min_loss= 10.887413228633774\n",
      "loss= 9.616130524414904\n",
      "min_loss= 10.923844672134685\n",
      "[LightGBM] [Warning] feature_fraction is set=0.8, colsample_bytree=1.0 will be ignored. Current value: feature_fraction=0.8\n",
      "[LightGBM] [Warning] bagging_fraction is set=0.8, subsample=1.0 will be ignored. Current value: bagging_fraction=0.8\n",
      "[LightGBM] [Warning] bagging_freq is set=2, subsample_freq=0 will be ignored. Current value: bagging_freq=2\n",
      "[LightGBM] [Warning] Found whitespace in feature_names, replace with underlines\n",
      "[LightGBM] [Warning] feature_fraction is set=0.8, colsample_bytree=1.0 will be ignored. Current value: feature_fraction=0.8\n",
      "[LightGBM] [Warning] bagging_fraction is set=0.8, subsample=1.0 will be ignored. Current value: bagging_fraction=0.8\n",
      "[LightGBM] [Warning] bagging_freq is set=2, subsample_freq=0 will be ignored. Current value: bagging_freq=2\n",
      "[LightGBM] [Info] Auto-choosing row-wise multi-threading, the overhead of testing was 0.002560 seconds.\n",
      "You can set `force_row_wise=true` to remove the overhead.\n",
      "And if memory is not enough, you can set `force_col_wise=true`.\n",
      "[LightGBM] [Info] Total Bins 982\n",
      "[LightGBM] [Info] Number of data points in the train set: 97948, number of used features: 89\n",
      "[LightGBM] [Info] Start training from score 18007.696931\n",
      "[LightGBM] [Warning] feature_fraction is set=0.8, colsample_bytree=1.0 will be ignored. Current value: feature_fraction=0.8\n",
      "[LightGBM] [Warning] bagging_fraction is set=0.8, subsample=1.0 will be ignored. Current value: bagging_fraction=0.8\n",
      "[LightGBM] [Warning] bagging_freq is set=2, subsample_freq=0 will be ignored. Current value: bagging_freq=2\n",
      "[LightGBM] [Warning] feature_fraction is set=0.8, colsample_bytree=1.0 will be ignored. Current value: feature_fraction=0.8\n",
      "[LightGBM] [Warning] bagging_fraction is set=0.8, subsample=1.0 will be ignored. Current value: bagging_fraction=0.8\n",
      "[LightGBM] [Warning] bagging_freq is set=2, subsample_freq=0 will be ignored. Current value: bagging_freq=2\n",
      "loss= 9.727225564497822\n",
      "min_loss= 9.616130524414904\n",
      "loss= 8.649389962729561\n",
      "min_loss= 9.727225564497822\n",
      "[LightGBM] [Warning] feature_fraction is set=0.8, colsample_bytree=1.0 will be ignored. Current value: feature_fraction=0.8\n",
      "[LightGBM] [Warning] bagging_fraction is set=0.8, subsample=1.0 will be ignored. Current value: bagging_fraction=0.8\n",
      "[LightGBM] [Warning] bagging_freq is set=2, subsample_freq=0 will be ignored. Current value: bagging_freq=2\n",
      "[LightGBM] [Warning] Found whitespace in feature_names, replace with underlines\n",
      "[LightGBM] [Warning] feature_fraction is set=0.8, colsample_bytree=1.0 will be ignored. Current value: feature_fraction=0.8\n",
      "[LightGBM] [Warning] bagging_fraction is set=0.8, subsample=1.0 will be ignored. Current value: bagging_fraction=0.8\n",
      "[LightGBM] [Warning] bagging_freq is set=2, subsample_freq=0 will be ignored. Current value: bagging_freq=2\n",
      "[LightGBM] [Info] Auto-choosing row-wise multi-threading, the overhead of testing was 0.001917 seconds.\n",
      "You can set `force_row_wise=true` to remove the overhead.\n",
      "And if memory is not enough, you can set `force_col_wise=true`.\n",
      "[LightGBM] [Info] Total Bins 982\n",
      "[LightGBM] [Info] Number of data points in the train set: 97948, number of used features: 89\n",
      "[LightGBM] [Info] Start training from score 18007.696931\n",
      "[LightGBM] [Warning] feature_fraction is set=0.8, colsample_bytree=1.0 will be ignored. Current value: feature_fraction=0.8\n",
      "[LightGBM] [Warning] bagging_fraction is set=0.8, subsample=1.0 will be ignored. Current value: bagging_fraction=0.8\n",
      "[LightGBM] [Warning] bagging_freq is set=2, subsample_freq=0 will be ignored. Current value: bagging_freq=2\n",
      "[LightGBM] [Warning] feature_fraction is set=0.8, colsample_bytree=1.0 will be ignored. Current value: feature_fraction=0.8\n",
      "[LightGBM] [Warning] bagging_fraction is set=0.8, subsample=1.0 will be ignored. Current value: bagging_fraction=0.8\n",
      "[LightGBM] [Warning] bagging_freq is set=2, subsample_freq=0 will be ignored. Current value: bagging_freq=2\n",
      "loss= 8.80187092352719\n",
      "min_loss= 8.649389962729561\n",
      "loss= 7.863538444456373\n",
      "min_loss= 8.80187092352719\n",
      "[LightGBM] [Warning] feature_fraction is set=0.8, colsample_bytree=1.0 will be ignored. Current value: feature_fraction=0.8\n",
      "[LightGBM] [Warning] bagging_fraction is set=0.8, subsample=1.0 will be ignored. Current value: bagging_fraction=0.8\n",
      "[LightGBM] [Warning] bagging_freq is set=2, subsample_freq=0 will be ignored. Current value: bagging_freq=2\n",
      "[LightGBM] [Warning] Found whitespace in feature_names, replace with underlines\n",
      "[LightGBM] [Warning] feature_fraction is set=0.8, colsample_bytree=1.0 will be ignored. Current value: feature_fraction=0.8\n",
      "[LightGBM] [Warning] bagging_fraction is set=0.8, subsample=1.0 will be ignored. Current value: bagging_fraction=0.8\n",
      "[LightGBM] [Warning] bagging_freq is set=2, subsample_freq=0 will be ignored. Current value: bagging_freq=2\n",
      "[LightGBM] [Info] Auto-choosing row-wise multi-threading, the overhead of testing was 0.002074 seconds.\n",
      "You can set `force_row_wise=true` to remove the overhead.\n",
      "And if memory is not enough, you can set `force_col_wise=true`.\n",
      "[LightGBM] [Info] Total Bins 982\n",
      "[LightGBM] [Info] Number of data points in the train set: 97948, number of used features: 89\n",
      "[LightGBM] [Info] Start training from score 18007.696931\n",
      "[LightGBM] [Warning] feature_fraction is set=0.8, colsample_bytree=1.0 will be ignored. Current value: feature_fraction=0.8\n",
      "[LightGBM] [Warning] bagging_fraction is set=0.8, subsample=1.0 will be ignored. Current value: bagging_fraction=0.8\n",
      "[LightGBM] [Warning] bagging_freq is set=2, subsample_freq=0 will be ignored. Current value: bagging_freq=2\n",
      "[LightGBM] [Warning] feature_fraction is set=0.8, colsample_bytree=1.0 will be ignored. Current value: feature_fraction=0.8\n",
      "[LightGBM] [Warning] bagging_fraction is set=0.8, subsample=1.0 will be ignored. Current value: bagging_fraction=0.8\n",
      "[LightGBM] [Warning] bagging_freq is set=2, subsample_freq=0 will be ignored. Current value: bagging_freq=2\n",
      "loss= 8.024636571660524\n",
      "min_loss= 7.863538444456373\n",
      "loss= 7.178535547243857\n",
      "min_loss= 8.024636571660524\n",
      "[LightGBM] [Warning] feature_fraction is set=0.8, colsample_bytree=1.0 will be ignored. Current value: feature_fraction=0.8\n",
      "[LightGBM] [Warning] bagging_fraction is set=0.8, subsample=1.0 will be ignored. Current value: bagging_fraction=0.8\n",
      "[LightGBM] [Warning] bagging_freq is set=2, subsample_freq=0 will be ignored. Current value: bagging_freq=2\n",
      "[LightGBM] [Warning] Found whitespace in feature_names, replace with underlines\n",
      "[LightGBM] [Warning] feature_fraction is set=0.8, colsample_bytree=1.0 will be ignored. Current value: feature_fraction=0.8\n",
      "[LightGBM] [Warning] bagging_fraction is set=0.8, subsample=1.0 will be ignored. Current value: bagging_fraction=0.8\n",
      "[LightGBM] [Warning] bagging_freq is set=2, subsample_freq=0 will be ignored. Current value: bagging_freq=2\n",
      "[LightGBM] [Info] Auto-choosing row-wise multi-threading, the overhead of testing was 0.002359 seconds.\n",
      "You can set `force_row_wise=true` to remove the overhead.\n",
      "And if memory is not enough, you can set `force_col_wise=true`.\n",
      "[LightGBM] [Info] Total Bins 982\n",
      "[LightGBM] [Info] Number of data points in the train set: 97948, number of used features: 89\n",
      "[LightGBM] [Info] Start training from score 18007.696931\n",
      "[LightGBM] [Warning] feature_fraction is set=0.8, colsample_bytree=1.0 will be ignored. Current value: feature_fraction=0.8\n",
      "[LightGBM] [Warning] bagging_fraction is set=0.8, subsample=1.0 will be ignored. Current value: bagging_fraction=0.8\n",
      "[LightGBM] [Warning] bagging_freq is set=2, subsample_freq=0 will be ignored. Current value: bagging_freq=2\n",
      "[LightGBM] [Warning] feature_fraction is set=0.8, colsample_bytree=1.0 will be ignored. Current value: feature_fraction=0.8\n",
      "[LightGBM] [Warning] bagging_fraction is set=0.8, subsample=1.0 will be ignored. Current value: bagging_fraction=0.8\n",
      "[LightGBM] [Warning] bagging_freq is set=2, subsample_freq=0 will be ignored. Current value: bagging_freq=2\n",
      "loss= 7.323628733576847\n",
      "min_loss= 7.178535547243857\n",
      "loss= 6.548536602401253\n",
      "min_loss= 7.323628733576847\n",
      "[LightGBM] [Warning] feature_fraction is set=0.8, colsample_bytree=1.0 will be ignored. Current value: feature_fraction=0.8\n",
      "[LightGBM] [Warning] bagging_fraction is set=0.8, subsample=1.0 will be ignored. Current value: bagging_fraction=0.8\n",
      "[LightGBM] [Warning] bagging_freq is set=2, subsample_freq=0 will be ignored. Current value: bagging_freq=2\n",
      "[LightGBM] [Warning] Found whitespace in feature_names, replace with underlines\n",
      "[LightGBM] [Warning] feature_fraction is set=0.8, colsample_bytree=1.0 will be ignored. Current value: feature_fraction=0.8\n",
      "[LightGBM] [Warning] bagging_fraction is set=0.8, subsample=1.0 will be ignored. Current value: bagging_fraction=0.8\n",
      "[LightGBM] [Warning] bagging_freq is set=2, subsample_freq=0 will be ignored. Current value: bagging_freq=2\n",
      "[LightGBM] [Info] Auto-choosing row-wise multi-threading, the overhead of testing was 0.002526 seconds.\n",
      "You can set `force_row_wise=true` to remove the overhead.\n",
      "And if memory is not enough, you can set `force_col_wise=true`.\n",
      "[LightGBM] [Info] Total Bins 982\n",
      "[LightGBM] [Info] Number of data points in the train set: 97948, number of used features: 89\n",
      "[LightGBM] [Info] Start training from score 18007.696931\n",
      "[LightGBM] [Warning] feature_fraction is set=0.8, colsample_bytree=1.0 will be ignored. Current value: feature_fraction=0.8\n",
      "[LightGBM] [Warning] bagging_fraction is set=0.8, subsample=1.0 will be ignored. Current value: bagging_fraction=0.8\n",
      "[LightGBM] [Warning] bagging_freq is set=2, subsample_freq=0 will be ignored. Current value: bagging_freq=2\n",
      "[LightGBM] [Warning] feature_fraction is set=0.8, colsample_bytree=1.0 will be ignored. Current value: feature_fraction=0.8\n",
      "[LightGBM] [Warning] bagging_fraction is set=0.8, subsample=1.0 will be ignored. Current value: bagging_fraction=0.8\n",
      "[LightGBM] [Warning] bagging_freq is set=2, subsample_freq=0 will be ignored. Current value: bagging_freq=2\n",
      "loss= 6.723933899941592\n",
      "min_loss= 6.548536602401253\n",
      "loss= 6.023482787311815\n",
      "min_loss= 6.723933899941592\n",
      "[LightGBM] [Warning] feature_fraction is set=0.8, colsample_bytree=1.0 will be ignored. Current value: feature_fraction=0.8\n",
      "[LightGBM] [Warning] bagging_fraction is set=0.8, subsample=1.0 will be ignored. Current value: bagging_fraction=0.8\n",
      "[LightGBM] [Warning] bagging_freq is set=2, subsample_freq=0 will be ignored. Current value: bagging_freq=2\n",
      "[LightGBM] [Warning] Found whitespace in feature_names, replace with underlines\n",
      "[LightGBM] [Warning] feature_fraction is set=0.8, colsample_bytree=1.0 will be ignored. Current value: feature_fraction=0.8\n",
      "[LightGBM] [Warning] bagging_fraction is set=0.8, subsample=1.0 will be ignored. Current value: bagging_fraction=0.8\n",
      "[LightGBM] [Warning] bagging_freq is set=2, subsample_freq=0 will be ignored. Current value: bagging_freq=2\n",
      "[LightGBM] [Info] Auto-choosing row-wise multi-threading, the overhead of testing was 0.002251 seconds.\n",
      "You can set `force_row_wise=true` to remove the overhead.\n",
      "And if memory is not enough, you can set `force_col_wise=true`.\n",
      "[LightGBM] [Info] Total Bins 982\n",
      "[LightGBM] [Info] Number of data points in the train set: 97948, number of used features: 89\n",
      "[LightGBM] [Info] Start training from score 18007.696931\n",
      "[LightGBM] [Warning] feature_fraction is set=0.8, colsample_bytree=1.0 will be ignored. Current value: feature_fraction=0.8\n",
      "[LightGBM] [Warning] bagging_fraction is set=0.8, subsample=1.0 will be ignored. Current value: bagging_fraction=0.8\n",
      "[LightGBM] [Warning] bagging_freq is set=2, subsample_freq=0 will be ignored. Current value: bagging_freq=2\n",
      "[LightGBM] [Warning] feature_fraction is set=0.8, colsample_bytree=1.0 will be ignored. Current value: feature_fraction=0.8\n",
      "[LightGBM] [Warning] bagging_fraction is set=0.8, subsample=1.0 will be ignored. Current value: bagging_fraction=0.8\n",
      "[LightGBM] [Warning] bagging_freq is set=2, subsample_freq=0 will be ignored. Current value: bagging_freq=2\n",
      "loss= 6.199792220849714\n",
      "min_loss= 6.023482787311815\n",
      "loss= 5.5386661785216935\n",
      "min_loss= 6.199792220849714\n",
      "[LightGBM] [Warning] feature_fraction is set=0.8, colsample_bytree=1.0 will be ignored. Current value: feature_fraction=0.8\n",
      "[LightGBM] [Warning] bagging_fraction is set=0.8, subsample=1.0 will be ignored. Current value: bagging_fraction=0.8\n",
      "[LightGBM] [Warning] bagging_freq is set=2, subsample_freq=0 will be ignored. Current value: bagging_freq=2\n",
      "[LightGBM] [Warning] Found whitespace in feature_names, replace with underlines\n",
      "[LightGBM] [Warning] feature_fraction is set=0.8, colsample_bytree=1.0 will be ignored. Current value: feature_fraction=0.8\n",
      "[LightGBM] [Warning] bagging_fraction is set=0.8, subsample=1.0 will be ignored. Current value: bagging_fraction=0.8\n",
      "[LightGBM] [Warning] bagging_freq is set=2, subsample_freq=0 will be ignored. Current value: bagging_freq=2\n",
      "[LightGBM] [Info] Auto-choosing row-wise multi-threading, the overhead of testing was 0.002240 seconds.\n",
      "You can set `force_row_wise=true` to remove the overhead.\n",
      "And if memory is not enough, you can set `force_col_wise=true`.\n",
      "[LightGBM] [Info] Total Bins 982\n",
      "[LightGBM] [Info] Number of data points in the train set: 97948, number of used features: 89\n",
      "[LightGBM] [Info] Start training from score 18007.696931\n",
      "[LightGBM] [Warning] feature_fraction is set=0.8, colsample_bytree=1.0 will be ignored. Current value: feature_fraction=0.8\n",
      "[LightGBM] [Warning] bagging_fraction is set=0.8, subsample=1.0 will be ignored. Current value: bagging_fraction=0.8\n",
      "[LightGBM] [Warning] bagging_freq is set=2, subsample_freq=0 will be ignored. Current value: bagging_freq=2\n",
      "[LightGBM] [Warning] feature_fraction is set=0.8, colsample_bytree=1.0 will be ignored. Current value: feature_fraction=0.8\n",
      "[LightGBM] [Warning] bagging_fraction is set=0.8, subsample=1.0 will be ignored. Current value: bagging_fraction=0.8\n",
      "[LightGBM] [Warning] bagging_freq is set=2, subsample_freq=0 will be ignored. Current value: bagging_freq=2\n",
      "loss= 5.777173012561491\n",
      "min_loss= 5.5386661785216935\n",
      "loss= 5.181826709353075\n",
      "min_loss= 5.777173012561491\n",
      "[LightGBM] [Warning] feature_fraction is set=0.8, colsample_bytree=1.0 will be ignored. Current value: feature_fraction=0.8\n",
      "[LightGBM] [Warning] bagging_fraction is set=0.8, subsample=1.0 will be ignored. Current value: bagging_fraction=0.8\n",
      "[LightGBM] [Warning] bagging_freq is set=2, subsample_freq=0 will be ignored. Current value: bagging_freq=2\n",
      "[LightGBM] [Warning] Found whitespace in feature_names, replace with underlines\n",
      "[LightGBM] [Warning] feature_fraction is set=0.8, colsample_bytree=1.0 will be ignored. Current value: feature_fraction=0.8\n",
      "[LightGBM] [Warning] bagging_fraction is set=0.8, subsample=1.0 will be ignored. Current value: bagging_fraction=0.8\n",
      "[LightGBM] [Warning] bagging_freq is set=2, subsample_freq=0 will be ignored. Current value: bagging_freq=2\n",
      "[LightGBM] [Info] Auto-choosing row-wise multi-threading, the overhead of testing was 0.001906 seconds.\n",
      "You can set `force_row_wise=true` to remove the overhead.\n",
      "And if memory is not enough, you can set `force_col_wise=true`.\n",
      "[LightGBM] [Info] Total Bins 982\n",
      "[LightGBM] [Info] Number of data points in the train set: 97948, number of used features: 89\n",
      "[LightGBM] [Info] Start training from score 18007.696931\n",
      "[LightGBM] [Warning] feature_fraction is set=0.8, colsample_bytree=1.0 will be ignored. Current value: feature_fraction=0.8\n",
      "[LightGBM] [Warning] bagging_fraction is set=0.8, subsample=1.0 will be ignored. Current value: bagging_fraction=0.8\n",
      "[LightGBM] [Warning] bagging_freq is set=2, subsample_freq=0 will be ignored. Current value: bagging_freq=2\n",
      "[LightGBM] [Warning] feature_fraction is set=0.8, colsample_bytree=1.0 will be ignored. Current value: feature_fraction=0.8\n",
      "[LightGBM] [Warning] bagging_fraction is set=0.8, subsample=1.0 will be ignored. Current value: bagging_fraction=0.8\n",
      "[LightGBM] [Warning] bagging_freq is set=2, subsample_freq=0 will be ignored. Current value: bagging_freq=2\n",
      "loss= 5.443465742661802\n",
      "min_loss= 5.181826709353075\n",
      "loss= 4.833826034231962\n",
      "min_loss= 5.443465742661802\n",
      "[LightGBM] [Warning] feature_fraction is set=0.8, colsample_bytree=1.0 will be ignored. Current value: feature_fraction=0.8\n",
      "[LightGBM] [Warning] bagging_fraction is set=0.8, subsample=1.0 will be ignored. Current value: bagging_fraction=0.8\n",
      "[LightGBM] [Warning] bagging_freq is set=2, subsample_freq=0 will be ignored. Current value: bagging_freq=2\n",
      "[LightGBM] [Warning] Found whitespace in feature_names, replace with underlines\n",
      "[LightGBM] [Warning] feature_fraction is set=0.8, colsample_bytree=1.0 will be ignored. Current value: feature_fraction=0.8\n",
      "[LightGBM] [Warning] bagging_fraction is set=0.8, subsample=1.0 will be ignored. Current value: bagging_fraction=0.8\n",
      "[LightGBM] [Warning] bagging_freq is set=2, subsample_freq=0 will be ignored. Current value: bagging_freq=2\n",
      "[LightGBM] [Info] Auto-choosing row-wise multi-threading, the overhead of testing was 0.002226 seconds.\n",
      "You can set `force_row_wise=true` to remove the overhead.\n",
      "And if memory is not enough, you can set `force_col_wise=true`.\n",
      "[LightGBM] [Info] Total Bins 982\n",
      "[LightGBM] [Info] Number of data points in the train set: 97948, number of used features: 89\n",
      "[LightGBM] [Info] Start training from score 18007.696931\n",
      "[LightGBM] [Warning] feature_fraction is set=0.8, colsample_bytree=1.0 will be ignored. Current value: feature_fraction=0.8\n",
      "[LightGBM] [Warning] bagging_fraction is set=0.8, subsample=1.0 will be ignored. Current value: bagging_fraction=0.8\n",
      "[LightGBM] [Warning] bagging_freq is set=2, subsample_freq=0 will be ignored. Current value: bagging_freq=2\n",
      "[LightGBM] [Warning] feature_fraction is set=0.8, colsample_bytree=1.0 will be ignored. Current value: feature_fraction=0.8\n",
      "[LightGBM] [Warning] bagging_fraction is set=0.8, subsample=1.0 will be ignored. Current value: bagging_fraction=0.8\n",
      "[LightGBM] [Warning] bagging_freq is set=2, subsample_freq=0 will be ignored. Current value: bagging_freq=2\n",
      "loss= 5.136815381012546\n",
      "min_loss= 4.833826034231962\n",
      "loss= 4.556633714934407\n",
      "min_loss= 5.136815381012546\n",
      "[LightGBM] [Warning] feature_fraction is set=0.8, colsample_bytree=1.0 will be ignored. Current value: feature_fraction=0.8\n",
      "[LightGBM] [Warning] bagging_fraction is set=0.8, subsample=1.0 will be ignored. Current value: bagging_fraction=0.8\n",
      "[LightGBM] [Warning] bagging_freq is set=2, subsample_freq=0 will be ignored. Current value: bagging_freq=2\n",
      "[LightGBM] [Warning] Found whitespace in feature_names, replace with underlines\n",
      "[LightGBM] [Warning] feature_fraction is set=0.8, colsample_bytree=1.0 will be ignored. Current value: feature_fraction=0.8\n",
      "[LightGBM] [Warning] bagging_fraction is set=0.8, subsample=1.0 will be ignored. Current value: bagging_fraction=0.8\n",
      "[LightGBM] [Warning] bagging_freq is set=2, subsample_freq=0 will be ignored. Current value: bagging_freq=2\n",
      "[LightGBM] [Info] Auto-choosing row-wise multi-threading, the overhead of testing was 0.001846 seconds.\n",
      "You can set `force_row_wise=true` to remove the overhead.\n",
      "And if memory is not enough, you can set `force_col_wise=true`.\n",
      "[LightGBM] [Info] Total Bins 982\n",
      "[LightGBM] [Info] Number of data points in the train set: 97948, number of used features: 89\n",
      "[LightGBM] [Info] Start training from score 18007.696931\n",
      "[LightGBM] [Warning] feature_fraction is set=0.8, colsample_bytree=1.0 will be ignored. Current value: feature_fraction=0.8\n",
      "[LightGBM] [Warning] bagging_fraction is set=0.8, subsample=1.0 will be ignored. Current value: bagging_fraction=0.8\n",
      "[LightGBM] [Warning] bagging_freq is set=2, subsample_freq=0 will be ignored. Current value: bagging_freq=2\n",
      "[LightGBM] [Warning] feature_fraction is set=0.8, colsample_bytree=1.0 will be ignored. Current value: feature_fraction=0.8\n",
      "[LightGBM] [Warning] bagging_fraction is set=0.8, subsample=1.0 will be ignored. Current value: bagging_fraction=0.8\n",
      "[LightGBM] [Warning] bagging_freq is set=2, subsample_freq=0 will be ignored. Current value: bagging_freq=2\n",
      "loss= 4.85257409228527\n",
      "min_loss= 4.556633714934407\n"
     ]
    },
    {
     "name": "stderr",
     "output_type": "stream",
     "text": [
      "C:\\Study\\8_term\\Comp_vision\\L1\\venv\\lib\\site-packages\\ipykernel_launcher.py:27: DeprecationWarning: `np.float` is a deprecated alias for the builtin `float`. To silence this warning, use `float` by itself. Doing this will not modify any behavior and is safe. If you specifically wanted the numpy scalar type, use `np.float64` here.\n",
      "Deprecated in NumPy 1.20; for more details and guidance: https://numpy.org/devdocs/release/1.20.0-notes.html#deprecations\n"
     ]
    },
    {
     "name": "stdout",
     "output_type": "stream",
     "text": [
      "loss= 1000000000000\n",
      "min_loss= inf\n",
      "loss= 4.022253388755889\n",
      "min_loss= 1000000000000\n",
      "[LightGBM] [Warning] feature_fraction is set=0.8, colsample_bytree=1.0 will be ignored. Current value: feature_fraction=0.8\n",
      "[LightGBM] [Warning] bagging_fraction is set=0.8, subsample=1.0 will be ignored. Current value: bagging_fraction=0.8\n",
      "[LightGBM] [Warning] bagging_freq is set=2, subsample_freq=0 will be ignored. Current value: bagging_freq=2\n",
      "[LightGBM] [Warning] Found whitespace in feature_names, replace with underlines\n",
      "[LightGBM] [Warning] feature_fraction is set=0.8, colsample_bytree=1.0 will be ignored. Current value: feature_fraction=0.8\n",
      "[LightGBM] [Warning] bagging_fraction is set=0.8, subsample=1.0 will be ignored. Current value: bagging_fraction=0.8\n",
      "[LightGBM] [Warning] bagging_freq is set=2, subsample_freq=0 will be ignored. Current value: bagging_freq=2\n",
      "[LightGBM] [Info] Auto-choosing row-wise multi-threading, the overhead of testing was 0.002454 seconds.\n",
      "You can set `force_row_wise=true` to remove the overhead.\n",
      "And if memory is not enough, you can set `force_col_wise=true`.\n",
      "[LightGBM] [Info] Total Bins 982\n",
      "[LightGBM] [Info] Number of data points in the train set: 97948, number of used features: 89\n",
      "[LightGBM] [Info] Start training from score 18007.696931\n",
      "[LightGBM] [Warning] feature_fraction is set=0.8, colsample_bytree=1.0 will be ignored. Current value: feature_fraction=0.8\n",
      "[LightGBM] [Warning] bagging_fraction is set=0.8, subsample=1.0 will be ignored. Current value: bagging_fraction=0.8\n",
      "[LightGBM] [Warning] bagging_freq is set=2, subsample_freq=0 will be ignored. Current value: bagging_freq=2\n",
      "[LightGBM] [Warning] feature_fraction is set=0.8, colsample_bytree=1.0 will be ignored. Current value: feature_fraction=0.8\n",
      "[LightGBM] [Warning] bagging_fraction is set=0.8, subsample=1.0 will be ignored. Current value: bagging_fraction=0.8\n",
      "[LightGBM] [Warning] bagging_freq is set=2, subsample_freq=0 will be ignored. Current value: bagging_freq=2\n",
      "loss= 4.223661504897294\n",
      "min_loss= 4.022253388755889\n",
      "loss= 3.5548147081353907\n",
      "min_loss= 4.223661504897294\n",
      "[LightGBM] [Warning] feature_fraction is set=0.8, colsample_bytree=1.0 will be ignored. Current value: feature_fraction=0.8\n",
      "[LightGBM] [Warning] bagging_fraction is set=0.8, subsample=1.0 will be ignored. Current value: bagging_fraction=0.8\n",
      "[LightGBM] [Warning] bagging_freq is set=2, subsample_freq=0 will be ignored. Current value: bagging_freq=2\n",
      "[LightGBM] [Warning] Found whitespace in feature_names, replace with underlines\n",
      "[LightGBM] [Warning] feature_fraction is set=0.8, colsample_bytree=1.0 will be ignored. Current value: feature_fraction=0.8\n",
      "[LightGBM] [Warning] bagging_fraction is set=0.8, subsample=1.0 will be ignored. Current value: bagging_fraction=0.8\n",
      "[LightGBM] [Warning] bagging_freq is set=2, subsample_freq=0 will be ignored. Current value: bagging_freq=2\n",
      "[LightGBM] [Info] Auto-choosing row-wise multi-threading, the overhead of testing was 0.001971 seconds.\n",
      "You can set `force_row_wise=true` to remove the overhead.\n",
      "And if memory is not enough, you can set `force_col_wise=true`.\n",
      "[LightGBM] [Info] Total Bins 982\n",
      "[LightGBM] [Info] Number of data points in the train set: 97948, number of used features: 89\n",
      "[LightGBM] [Info] Start training from score 18007.696931\n",
      "[LightGBM] [Warning] feature_fraction is set=0.8, colsample_bytree=1.0 will be ignored. Current value: feature_fraction=0.8\n",
      "[LightGBM] [Warning] bagging_fraction is set=0.8, subsample=1.0 will be ignored. Current value: bagging_fraction=0.8\n",
      "[LightGBM] [Warning] bagging_freq is set=2, subsample_freq=0 will be ignored. Current value: bagging_freq=2\n",
      "[LightGBM] [Warning] feature_fraction is set=0.8, colsample_bytree=1.0 will be ignored. Current value: feature_fraction=0.8\n",
      "[LightGBM] [Warning] bagging_fraction is set=0.8, subsample=1.0 will be ignored. Current value: bagging_fraction=0.8\n",
      "[LightGBM] [Warning] bagging_freq is set=2, subsample_freq=0 will be ignored. Current value: bagging_freq=2\n",
      "loss= 3.865243669731843\n",
      "min_loss= 3.5548147081353907\n",
      "loss= 3.2978637569930775\n",
      "min_loss= 3.865243669731843\n",
      "[LightGBM] [Warning] feature_fraction is set=0.8, colsample_bytree=1.0 will be ignored. Current value: feature_fraction=0.8\n",
      "[LightGBM] [Warning] bagging_fraction is set=0.8, subsample=1.0 will be ignored. Current value: bagging_fraction=0.8\n",
      "[LightGBM] [Warning] bagging_freq is set=2, subsample_freq=0 will be ignored. Current value: bagging_freq=2\n",
      "[LightGBM] [Warning] Found whitespace in feature_names, replace with underlines\n",
      "[LightGBM] [Warning] feature_fraction is set=0.8, colsample_bytree=1.0 will be ignored. Current value: feature_fraction=0.8\n",
      "[LightGBM] [Warning] bagging_fraction is set=0.8, subsample=1.0 will be ignored. Current value: bagging_fraction=0.8\n",
      "[LightGBM] [Warning] bagging_freq is set=2, subsample_freq=0 will be ignored. Current value: bagging_freq=2\n",
      "[LightGBM] [Info] Auto-choosing row-wise multi-threading, the overhead of testing was 0.002340 seconds.\n",
      "You can set `force_row_wise=true` to remove the overhead.\n",
      "And if memory is not enough, you can set `force_col_wise=true`.\n",
      "[LightGBM] [Info] Total Bins 982\n",
      "[LightGBM] [Info] Number of data points in the train set: 97948, number of used features: 89\n",
      "[LightGBM] [Info] Start training from score 18007.696931\n",
      "[LightGBM] [Warning] feature_fraction is set=0.8, colsample_bytree=1.0 will be ignored. Current value: feature_fraction=0.8\n",
      "[LightGBM] [Warning] bagging_fraction is set=0.8, subsample=1.0 will be ignored. Current value: bagging_fraction=0.8\n",
      "[LightGBM] [Warning] bagging_freq is set=2, subsample_freq=0 will be ignored. Current value: bagging_freq=2\n",
      "[LightGBM] [Warning] feature_fraction is set=0.8, colsample_bytree=1.0 will be ignored. Current value: feature_fraction=0.8\n",
      "[LightGBM] [Warning] bagging_fraction is set=0.8, subsample=1.0 will be ignored. Current value: bagging_fraction=0.8\n",
      "[LightGBM] [Warning] bagging_freq is set=2, subsample_freq=0 will be ignored. Current value: bagging_freq=2\n",
      "loss= 3.6385475812514843\n",
      "min_loss= 3.2978637569930775\n",
      "loss= 3.0974468265806823\n",
      "min_loss= 3.6385475812514843\n",
      "[LightGBM] [Warning] feature_fraction is set=0.8, colsample_bytree=1.0 will be ignored. Current value: feature_fraction=0.8\n",
      "[LightGBM] [Warning] bagging_fraction is set=0.8, subsample=1.0 will be ignored. Current value: bagging_fraction=0.8\n",
      "[LightGBM] [Warning] bagging_freq is set=2, subsample_freq=0 will be ignored. Current value: bagging_freq=2\n",
      "[LightGBM] [Warning] Found whitespace in feature_names, replace with underlines\n",
      "[LightGBM] [Warning] feature_fraction is set=0.8, colsample_bytree=1.0 will be ignored. Current value: feature_fraction=0.8\n",
      "[LightGBM] [Warning] bagging_fraction is set=0.8, subsample=1.0 will be ignored. Current value: bagging_fraction=0.8\n",
      "[LightGBM] [Warning] bagging_freq is set=2, subsample_freq=0 will be ignored. Current value: bagging_freq=2\n",
      "[LightGBM] [Info] Auto-choosing row-wise multi-threading, the overhead of testing was 0.002193 seconds.\n",
      "You can set `force_row_wise=true` to remove the overhead.\n",
      "And if memory is not enough, you can set `force_col_wise=true`.\n",
      "[LightGBM] [Info] Total Bins 982\n",
      "[LightGBM] [Info] Number of data points in the train set: 97948, number of used features: 89\n",
      "[LightGBM] [Info] Start training from score 18007.696931\n",
      "[LightGBM] [Warning] feature_fraction is set=0.8, colsample_bytree=1.0 will be ignored. Current value: feature_fraction=0.8\n",
      "[LightGBM] [Warning] bagging_fraction is set=0.8, subsample=1.0 will be ignored. Current value: bagging_fraction=0.8\n",
      "[LightGBM] [Warning] bagging_freq is set=2, subsample_freq=0 will be ignored. Current value: bagging_freq=2\n",
      "[LightGBM] [Warning] feature_fraction is set=0.8, colsample_bytree=1.0 will be ignored. Current value: feature_fraction=0.8\n",
      "[LightGBM] [Warning] bagging_fraction is set=0.8, subsample=1.0 will be ignored. Current value: bagging_fraction=0.8\n",
      "[LightGBM] [Warning] bagging_freq is set=2, subsample_freq=0 will be ignored. Current value: bagging_freq=2\n",
      "loss= 3.4609910504589543\n",
      "min_loss= 3.0974468265806823\n",
      "loss= 2.961970780858456\n",
      "min_loss= 3.4609910504589543\n",
      "[LightGBM] [Warning] feature_fraction is set=0.8, colsample_bytree=1.0 will be ignored. Current value: feature_fraction=0.8\n",
      "[LightGBM] [Warning] bagging_fraction is set=0.8, subsample=1.0 will be ignored. Current value: bagging_fraction=0.8\n",
      "[LightGBM] [Warning] bagging_freq is set=2, subsample_freq=0 will be ignored. Current value: bagging_freq=2\n",
      "[LightGBM] [Warning] Found whitespace in feature_names, replace with underlines\n",
      "[LightGBM] [Warning] feature_fraction is set=0.8, colsample_bytree=1.0 will be ignored. Current value: feature_fraction=0.8\n",
      "[LightGBM] [Warning] bagging_fraction is set=0.8, subsample=1.0 will be ignored. Current value: bagging_fraction=0.8\n",
      "[LightGBM] [Warning] bagging_freq is set=2, subsample_freq=0 will be ignored. Current value: bagging_freq=2\n",
      "[LightGBM] [Info] Auto-choosing row-wise multi-threading, the overhead of testing was 0.002368 seconds.\n",
      "You can set `force_row_wise=true` to remove the overhead.\n",
      "And if memory is not enough, you can set `force_col_wise=true`.\n",
      "[LightGBM] [Info] Total Bins 982\n",
      "[LightGBM] [Info] Number of data points in the train set: 97948, number of used features: 89\n",
      "[LightGBM] [Info] Start training from score 18007.696931\n",
      "[LightGBM] [Warning] feature_fraction is set=0.8, colsample_bytree=1.0 will be ignored. Current value: feature_fraction=0.8\n",
      "[LightGBM] [Warning] bagging_fraction is set=0.8, subsample=1.0 will be ignored. Current value: bagging_fraction=0.8\n",
      "[LightGBM] [Warning] bagging_freq is set=2, subsample_freq=0 will be ignored. Current value: bagging_freq=2\n",
      "[LightGBM] [Warning] feature_fraction is set=0.8, colsample_bytree=1.0 will be ignored. Current value: feature_fraction=0.8\n",
      "[LightGBM] [Warning] bagging_fraction is set=0.8, subsample=1.0 will be ignored. Current value: bagging_fraction=0.8\n",
      "[LightGBM] [Warning] bagging_freq is set=2, subsample_freq=0 will be ignored. Current value: bagging_freq=2\n",
      "loss= 3.355929015980484\n",
      "min_loss= 2.961970780858456\n",
      "loss= 2.856890372906888\n",
      "min_loss= 3.355929015980484\n",
      "[LightGBM] [Warning] feature_fraction is set=0.8, colsample_bytree=1.0 will be ignored. Current value: feature_fraction=0.8\n",
      "[LightGBM] [Warning] bagging_fraction is set=0.8, subsample=1.0 will be ignored. Current value: bagging_fraction=0.8\n",
      "[LightGBM] [Warning] bagging_freq is set=2, subsample_freq=0 will be ignored. Current value: bagging_freq=2\n",
      "[LightGBM] [Warning] Found whitespace in feature_names, replace with underlines\n",
      "[LightGBM] [Warning] feature_fraction is set=0.8, colsample_bytree=1.0 will be ignored. Current value: feature_fraction=0.8\n",
      "[LightGBM] [Warning] bagging_fraction is set=0.8, subsample=1.0 will be ignored. Current value: bagging_fraction=0.8\n",
      "[LightGBM] [Warning] bagging_freq is set=2, subsample_freq=0 will be ignored. Current value: bagging_freq=2\n",
      "[LightGBM] [Info] Auto-choosing row-wise multi-threading, the overhead of testing was 0.001858 seconds.\n",
      "You can set `force_row_wise=true` to remove the overhead.\n",
      "And if memory is not enough, you can set `force_col_wise=true`.\n",
      "[LightGBM] [Info] Total Bins 982\n",
      "[LightGBM] [Info] Number of data points in the train set: 97948, number of used features: 89\n",
      "[LightGBM] [Info] Start training from score 18007.696931\n",
      "[LightGBM] [Warning] feature_fraction is set=0.8, colsample_bytree=1.0 will be ignored. Current value: feature_fraction=0.8\n",
      "[LightGBM] [Warning] bagging_fraction is set=0.8, subsample=1.0 will be ignored. Current value: bagging_fraction=0.8\n",
      "[LightGBM] [Warning] bagging_freq is set=2, subsample_freq=0 will be ignored. Current value: bagging_freq=2\n",
      "[LightGBM] [Warning] feature_fraction is set=0.8, colsample_bytree=1.0 will be ignored. Current value: feature_fraction=0.8\n",
      "[LightGBM] [Warning] bagging_fraction is set=0.8, subsample=1.0 will be ignored. Current value: bagging_fraction=0.8\n",
      "[LightGBM] [Warning] bagging_freq is set=2, subsample_freq=0 will be ignored. Current value: bagging_freq=2\n",
      "loss= 3.2567639508665644\n",
      "min_loss= 2.856890372906888\n",
      "loss= 2.739195370965562\n",
      "min_loss= 3.2567639508665644\n",
      "[LightGBM] [Warning] feature_fraction is set=0.8, colsample_bytree=1.0 will be ignored. Current value: feature_fraction=0.8\n",
      "[LightGBM] [Warning] bagging_fraction is set=0.8, subsample=1.0 will be ignored. Current value: bagging_fraction=0.8\n",
      "[LightGBM] [Warning] bagging_freq is set=2, subsample_freq=0 will be ignored. Current value: bagging_freq=2\n",
      "[LightGBM] [Warning] Found whitespace in feature_names, replace with underlines\n",
      "[LightGBM] [Warning] feature_fraction is set=0.8, colsample_bytree=1.0 will be ignored. Current value: feature_fraction=0.8\n",
      "[LightGBM] [Warning] bagging_fraction is set=0.8, subsample=1.0 will be ignored. Current value: bagging_fraction=0.8\n",
      "[LightGBM] [Warning] bagging_freq is set=2, subsample_freq=0 will be ignored. Current value: bagging_freq=2\n",
      "[LightGBM] [Info] Auto-choosing row-wise multi-threading, the overhead of testing was 0.002477 seconds.\n",
      "You can set `force_row_wise=true` to remove the overhead.\n",
      "And if memory is not enough, you can set `force_col_wise=true`.\n",
      "[LightGBM] [Info] Total Bins 982\n",
      "[LightGBM] [Info] Number of data points in the train set: 97948, number of used features: 89\n",
      "[LightGBM] [Info] Start training from score 18007.696931\n",
      "[LightGBM] [Warning] feature_fraction is set=0.8, colsample_bytree=1.0 will be ignored. Current value: feature_fraction=0.8\n",
      "[LightGBM] [Warning] bagging_fraction is set=0.8, subsample=1.0 will be ignored. Current value: bagging_fraction=0.8\n",
      "[LightGBM] [Warning] bagging_freq is set=2, subsample_freq=0 will be ignored. Current value: bagging_freq=2\n",
      "[LightGBM] [Warning] feature_fraction is set=0.8, colsample_bytree=1.0 will be ignored. Current value: feature_fraction=0.8\n",
      "[LightGBM] [Warning] bagging_fraction is set=0.8, subsample=1.0 will be ignored. Current value: bagging_fraction=0.8\n",
      "[LightGBM] [Warning] bagging_freq is set=2, subsample_freq=0 will be ignored. Current value: bagging_freq=2\n",
      "loss= 3.17954149877082\n",
      "min_loss= 2.739195370965562\n",
      "loss= 2.6743796524599377\n",
      "min_loss= 3.17954149877082\n",
      "[LightGBM] [Warning] feature_fraction is set=0.8, colsample_bytree=1.0 will be ignored. Current value: feature_fraction=0.8\n",
      "[LightGBM] [Warning] bagging_fraction is set=0.8, subsample=1.0 will be ignored. Current value: bagging_fraction=0.8\n",
      "[LightGBM] [Warning] bagging_freq is set=2, subsample_freq=0 will be ignored. Current value: bagging_freq=2\n",
      "[LightGBM] [Warning] Found whitespace in feature_names, replace with underlines\n",
      "[LightGBM] [Warning] feature_fraction is set=0.8, colsample_bytree=1.0 will be ignored. Current value: feature_fraction=0.8\n",
      "[LightGBM] [Warning] bagging_fraction is set=0.8, subsample=1.0 will be ignored. Current value: bagging_fraction=0.8\n",
      "[LightGBM] [Warning] bagging_freq is set=2, subsample_freq=0 will be ignored. Current value: bagging_freq=2\n",
      "[LightGBM] [Info] Auto-choosing row-wise multi-threading, the overhead of testing was 0.002170 seconds.\n",
      "You can set `force_row_wise=true` to remove the overhead.\n",
      "And if memory is not enough, you can set `force_col_wise=true`.\n",
      "[LightGBM] [Info] Total Bins 982\n",
      "[LightGBM] [Info] Number of data points in the train set: 97948, number of used features: 89\n",
      "[LightGBM] [Info] Start training from score 18007.696931\n",
      "[LightGBM] [Warning] feature_fraction is set=0.8, colsample_bytree=1.0 will be ignored. Current value: feature_fraction=0.8\n",
      "[LightGBM] [Warning] bagging_fraction is set=0.8, subsample=1.0 will be ignored. Current value: bagging_fraction=0.8\n",
      "[LightGBM] [Warning] bagging_freq is set=2, subsample_freq=0 will be ignored. Current value: bagging_freq=2\n",
      "[LightGBM] [Warning] feature_fraction is set=0.8, colsample_bytree=1.0 will be ignored. Current value: feature_fraction=0.8\n",
      "[LightGBM] [Warning] bagging_fraction is set=0.8, subsample=1.0 will be ignored. Current value: bagging_fraction=0.8\n",
      "[LightGBM] [Warning] bagging_freq is set=2, subsample_freq=0 will be ignored. Current value: bagging_freq=2\n",
      "loss= 3.1128182333070376\n",
      "min_loss= 2.6743796524599377\n",
      "loss= 2.6223552084522583\n",
      "min_loss= 3.1128182333070376\n",
      "[LightGBM] [Warning] feature_fraction is set=0.8, colsample_bytree=1.0 will be ignored. Current value: feature_fraction=0.8\n",
      "[LightGBM] [Warning] bagging_fraction is set=0.8, subsample=1.0 will be ignored. Current value: bagging_fraction=0.8\n",
      "[LightGBM] [Warning] bagging_freq is set=2, subsample_freq=0 will be ignored. Current value: bagging_freq=2\n",
      "[LightGBM] [Warning] Found whitespace in feature_names, replace with underlines\n",
      "[LightGBM] [Warning] feature_fraction is set=0.8, colsample_bytree=1.0 will be ignored. Current value: feature_fraction=0.8\n",
      "[LightGBM] [Warning] bagging_fraction is set=0.8, subsample=1.0 will be ignored. Current value: bagging_fraction=0.8\n",
      "[LightGBM] [Warning] bagging_freq is set=2, subsample_freq=0 will be ignored. Current value: bagging_freq=2\n",
      "[LightGBM] [Info] Auto-choosing row-wise multi-threading, the overhead of testing was 0.001913 seconds.\n",
      "You can set `force_row_wise=true` to remove the overhead.\n",
      "And if memory is not enough, you can set `force_col_wise=true`.\n",
      "[LightGBM] [Info] Total Bins 982\n",
      "[LightGBM] [Info] Number of data points in the train set: 97948, number of used features: 89\n",
      "[LightGBM] [Info] Start training from score 18007.696931\n",
      "[LightGBM] [Warning] feature_fraction is set=0.8, colsample_bytree=1.0 will be ignored. Current value: feature_fraction=0.8\n",
      "[LightGBM] [Warning] bagging_fraction is set=0.8, subsample=1.0 will be ignored. Current value: bagging_fraction=0.8\n",
      "[LightGBM] [Warning] bagging_freq is set=2, subsample_freq=0 will be ignored. Current value: bagging_freq=2\n",
      "[LightGBM] [Warning] feature_fraction is set=0.8, colsample_bytree=1.0 will be ignored. Current value: feature_fraction=0.8\n",
      "[LightGBM] [Warning] bagging_fraction is set=0.8, subsample=1.0 will be ignored. Current value: bagging_fraction=0.8\n",
      "[LightGBM] [Warning] bagging_freq is set=2, subsample_freq=0 will be ignored. Current value: bagging_freq=2\n",
      "loss= 3.055155431765634\n",
      "min_loss= 2.6223552084522583\n",
      "loss= 2.5510858844649884\n",
      "min_loss= 3.055155431765634\n",
      "[LightGBM] [Warning] feature_fraction is set=0.8, colsample_bytree=1.0 will be ignored. Current value: feature_fraction=0.8\n",
      "[LightGBM] [Warning] bagging_fraction is set=0.8, subsample=1.0 will be ignored. Current value: bagging_fraction=0.8\n",
      "[LightGBM] [Warning] bagging_freq is set=2, subsample_freq=0 will be ignored. Current value: bagging_freq=2\n",
      "[LightGBM] [Warning] Found whitespace in feature_names, replace with underlines\n",
      "[LightGBM] [Warning] feature_fraction is set=0.8, colsample_bytree=1.0 will be ignored. Current value: feature_fraction=0.8\n",
      "[LightGBM] [Warning] bagging_fraction is set=0.8, subsample=1.0 will be ignored. Current value: bagging_fraction=0.8\n",
      "[LightGBM] [Warning] bagging_freq is set=2, subsample_freq=0 will be ignored. Current value: bagging_freq=2\n",
      "[LightGBM] [Info] Auto-choosing row-wise multi-threading, the overhead of testing was 0.001794 seconds.\n",
      "You can set `force_row_wise=true` to remove the overhead.\n",
      "And if memory is not enough, you can set `force_col_wise=true`.\n",
      "[LightGBM] [Info] Total Bins 982\n",
      "[LightGBM] [Info] Number of data points in the train set: 97948, number of used features: 89\n",
      "[LightGBM] [Info] Start training from score 18007.696931\n",
      "[LightGBM] [Warning] feature_fraction is set=0.8, colsample_bytree=1.0 will be ignored. Current value: feature_fraction=0.8\n",
      "[LightGBM] [Warning] bagging_fraction is set=0.8, subsample=1.0 will be ignored. Current value: bagging_fraction=0.8\n",
      "[LightGBM] [Warning] bagging_freq is set=2, subsample_freq=0 will be ignored. Current value: bagging_freq=2\n",
      "[LightGBM] [Warning] feature_fraction is set=0.8, colsample_bytree=1.0 will be ignored. Current value: feature_fraction=0.8\n",
      "[LightGBM] [Warning] bagging_fraction is set=0.8, subsample=1.0 will be ignored. Current value: bagging_fraction=0.8\n",
      "[LightGBM] [Warning] bagging_freq is set=2, subsample_freq=0 will be ignored. Current value: bagging_freq=2\n",
      "loss= 2.9664327669726798\n",
      "min_loss= 2.5510858844649884\n",
      "loss= 2.504012141859428\n",
      "min_loss= 2.9664327669726798\n",
      "[LightGBM] [Warning] feature_fraction is set=0.8, colsample_bytree=1.0 will be ignored. Current value: feature_fraction=0.8\n",
      "[LightGBM] [Warning] bagging_fraction is set=0.8, subsample=1.0 will be ignored. Current value: bagging_fraction=0.8\n",
      "[LightGBM] [Warning] bagging_freq is set=2, subsample_freq=0 will be ignored. Current value: bagging_freq=2\n",
      "[LightGBM] [Warning] Found whitespace in feature_names, replace with underlines\n",
      "[LightGBM] [Warning] feature_fraction is set=0.8, colsample_bytree=1.0 will be ignored. Current value: feature_fraction=0.8\n",
      "[LightGBM] [Warning] bagging_fraction is set=0.8, subsample=1.0 will be ignored. Current value: bagging_fraction=0.8\n",
      "[LightGBM] [Warning] bagging_freq is set=2, subsample_freq=0 will be ignored. Current value: bagging_freq=2\n",
      "[LightGBM] [Info] Auto-choosing row-wise multi-threading, the overhead of testing was 0.002384 seconds.\n",
      "You can set `force_row_wise=true` to remove the overhead.\n",
      "And if memory is not enough, you can set `force_col_wise=true`.\n",
      "[LightGBM] [Info] Total Bins 982\n",
      "[LightGBM] [Info] Number of data points in the train set: 97948, number of used features: 89\n",
      "[LightGBM] [Info] Start training from score 18007.696931\n",
      "[LightGBM] [Warning] feature_fraction is set=0.8, colsample_bytree=1.0 will be ignored. Current value: feature_fraction=0.8\n",
      "[LightGBM] [Warning] bagging_fraction is set=0.8, subsample=1.0 will be ignored. Current value: bagging_fraction=0.8\n",
      "[LightGBM] [Warning] bagging_freq is set=2, subsample_freq=0 will be ignored. Current value: bagging_freq=2\n",
      "[LightGBM] [Warning] feature_fraction is set=0.8, colsample_bytree=1.0 will be ignored. Current value: feature_fraction=0.8\n",
      "[LightGBM] [Warning] bagging_fraction is set=0.8, subsample=1.0 will be ignored. Current value: bagging_fraction=0.8\n",
      "[LightGBM] [Warning] bagging_freq is set=2, subsample_freq=0 will be ignored. Current value: bagging_freq=2\n",
      "loss= 2.9549951752077037\n",
      "min_loss= 2.504012141859428\n",
      "loss= 2.4571114121448083\n",
      "min_loss= 2.9549951752077037\n",
      "[LightGBM] [Warning] feature_fraction is set=0.8, colsample_bytree=1.0 will be ignored. Current value: feature_fraction=0.8\n",
      "[LightGBM] [Warning] bagging_fraction is set=0.8, subsample=1.0 will be ignored. Current value: bagging_fraction=0.8\n",
      "[LightGBM] [Warning] bagging_freq is set=2, subsample_freq=0 will be ignored. Current value: bagging_freq=2\n",
      "[LightGBM] [Warning] Found whitespace in feature_names, replace with underlines\n",
      "[LightGBM] [Warning] feature_fraction is set=0.8, colsample_bytree=1.0 will be ignored. Current value: feature_fraction=0.8\n",
      "[LightGBM] [Warning] bagging_fraction is set=0.8, subsample=1.0 will be ignored. Current value: bagging_fraction=0.8\n",
      "[LightGBM] [Warning] bagging_freq is set=2, subsample_freq=0 will be ignored. Current value: bagging_freq=2\n",
      "[LightGBM] [Info] Auto-choosing row-wise multi-threading, the overhead of testing was 0.002048 seconds.\n",
      "You can set `force_row_wise=true` to remove the overhead.\n",
      "And if memory is not enough, you can set `force_col_wise=true`.\n",
      "[LightGBM] [Info] Total Bins 982\n",
      "[LightGBM] [Info] Number of data points in the train set: 97948, number of used features: 89\n",
      "[LightGBM] [Info] Start training from score 18007.696931\n",
      "[LightGBM] [Warning] feature_fraction is set=0.8, colsample_bytree=1.0 will be ignored. Current value: feature_fraction=0.8\n",
      "[LightGBM] [Warning] bagging_fraction is set=0.8, subsample=1.0 will be ignored. Current value: bagging_fraction=0.8\n",
      "[LightGBM] [Warning] bagging_freq is set=2, subsample_freq=0 will be ignored. Current value: bagging_freq=2\n",
      "[LightGBM] [Warning] feature_fraction is set=0.8, colsample_bytree=1.0 will be ignored. Current value: feature_fraction=0.8\n",
      "[LightGBM] [Warning] bagging_fraction is set=0.8, subsample=1.0 will be ignored. Current value: bagging_fraction=0.8\n",
      "[LightGBM] [Warning] bagging_freq is set=2, subsample_freq=0 will be ignored. Current value: bagging_freq=2\n",
      "loss= 2.9155836709292595\n",
      "min_loss= 2.4571114121448083\n",
      "loss= 2.431841603105239\n",
      "min_loss= 2.9155836709292595\n",
      "[LightGBM] [Warning] feature_fraction is set=0.8, colsample_bytree=1.0 will be ignored. Current value: feature_fraction=0.8\n",
      "[LightGBM] [Warning] bagging_fraction is set=0.8, subsample=1.0 will be ignored. Current value: bagging_fraction=0.8\n",
      "[LightGBM] [Warning] bagging_freq is set=2, subsample_freq=0 will be ignored. Current value: bagging_freq=2\n",
      "[LightGBM] [Warning] Found whitespace in feature_names, replace with underlines\n",
      "[LightGBM] [Warning] feature_fraction is set=0.8, colsample_bytree=1.0 will be ignored. Current value: feature_fraction=0.8\n",
      "[LightGBM] [Warning] bagging_fraction is set=0.8, subsample=1.0 will be ignored. Current value: bagging_fraction=0.8\n",
      "[LightGBM] [Warning] bagging_freq is set=2, subsample_freq=0 will be ignored. Current value: bagging_freq=2\n",
      "[LightGBM] [Info] Auto-choosing row-wise multi-threading, the overhead of testing was 0.002137 seconds.\n",
      "You can set `force_row_wise=true` to remove the overhead.\n",
      "And if memory is not enough, you can set `force_col_wise=true`.\n",
      "[LightGBM] [Info] Total Bins 982\n",
      "[LightGBM] [Info] Number of data points in the train set: 97948, number of used features: 89\n",
      "[LightGBM] [Info] Start training from score 18007.696931\n",
      "[LightGBM] [Warning] feature_fraction is set=0.8, colsample_bytree=1.0 will be ignored. Current value: feature_fraction=0.8\n",
      "[LightGBM] [Warning] bagging_fraction is set=0.8, subsample=1.0 will be ignored. Current value: bagging_fraction=0.8\n",
      "[LightGBM] [Warning] bagging_freq is set=2, subsample_freq=0 will be ignored. Current value: bagging_freq=2\n",
      "[LightGBM] [Warning] feature_fraction is set=0.8, colsample_bytree=1.0 will be ignored. Current value: feature_fraction=0.8\n",
      "[LightGBM] [Warning] bagging_fraction is set=0.8, subsample=1.0 will be ignored. Current value: bagging_fraction=0.8\n",
      "[LightGBM] [Warning] bagging_freq is set=2, subsample_freq=0 will be ignored. Current value: bagging_freq=2\n",
      "loss= 2.8901674674599844\n",
      "min_loss= 2.431841603105239\n",
      "loss= 2.4012939156611868\n",
      "min_loss= 2.8901674674599844\n",
      "[LightGBM] [Warning] feature_fraction is set=0.8, colsample_bytree=1.0 will be ignored. Current value: feature_fraction=0.8\n",
      "[LightGBM] [Warning] bagging_fraction is set=0.8, subsample=1.0 will be ignored. Current value: bagging_fraction=0.8\n",
      "[LightGBM] [Warning] bagging_freq is set=2, subsample_freq=0 will be ignored. Current value: bagging_freq=2\n",
      "[LightGBM] [Warning] Found whitespace in feature_names, replace with underlines\n",
      "[LightGBM] [Warning] feature_fraction is set=0.8, colsample_bytree=1.0 will be ignored. Current value: feature_fraction=0.8\n",
      "[LightGBM] [Warning] bagging_fraction is set=0.8, subsample=1.0 will be ignored. Current value: bagging_fraction=0.8\n",
      "[LightGBM] [Warning] bagging_freq is set=2, subsample_freq=0 will be ignored. Current value: bagging_freq=2\n",
      "[LightGBM] [Info] Auto-choosing row-wise multi-threading, the overhead of testing was 0.001812 seconds.\n",
      "You can set `force_row_wise=true` to remove the overhead.\n",
      "And if memory is not enough, you can set `force_col_wise=true`.\n",
      "[LightGBM] [Info] Total Bins 982\n",
      "[LightGBM] [Info] Number of data points in the train set: 97948, number of used features: 89\n",
      "[LightGBM] [Info] Start training from score 18007.696931\n",
      "[LightGBM] [Warning] feature_fraction is set=0.8, colsample_bytree=1.0 will be ignored. Current value: feature_fraction=0.8\n",
      "[LightGBM] [Warning] bagging_fraction is set=0.8, subsample=1.0 will be ignored. Current value: bagging_fraction=0.8\n",
      "[LightGBM] [Warning] bagging_freq is set=2, subsample_freq=0 will be ignored. Current value: bagging_freq=2\n",
      "[LightGBM] [Warning] feature_fraction is set=0.8, colsample_bytree=1.0 will be ignored. Current value: feature_fraction=0.8\n",
      "[LightGBM] [Warning] bagging_fraction is set=0.8, subsample=1.0 will be ignored. Current value: bagging_fraction=0.8\n",
      "[LightGBM] [Warning] bagging_freq is set=2, subsample_freq=0 will be ignored. Current value: bagging_freq=2\n",
      "loss= 2.8907489950988627\n",
      "min_loss= 2.4012939156611868\n",
      "loss= 1000000000000\n",
      "min_loss= inf\n",
      "loss= 15.283363014566598\n",
      "min_loss= 1000000000000\n",
      "[LightGBM] [Warning] feature_fraction is set=0.8, colsample_bytree=1.0 will be ignored. Current value: feature_fraction=0.8\n",
      "[LightGBM] [Warning] bagging_fraction is set=0.8, subsample=1.0 will be ignored. Current value: bagging_fraction=0.8\n",
      "[LightGBM] [Warning] bagging_freq is set=2, subsample_freq=0 will be ignored. Current value: bagging_freq=2\n",
      "[LightGBM] [Warning] Found whitespace in feature_names, replace with underlines\n",
      "[LightGBM] [Warning] feature_fraction is set=0.8, colsample_bytree=1.0 will be ignored. Current value: feature_fraction=0.8\n",
      "[LightGBM] [Warning] bagging_fraction is set=0.8, subsample=1.0 will be ignored. Current value: bagging_fraction=0.8\n",
      "[LightGBM] [Warning] bagging_freq is set=2, subsample_freq=0 will be ignored. Current value: bagging_freq=2\n",
      "[LightGBM] [Info] Auto-choosing row-wise multi-threading, the overhead of testing was 0.002337 seconds.\n",
      "You can set `force_row_wise=true` to remove the overhead.\n",
      "And if memory is not enough, you can set `force_col_wise=true`.\n",
      "[LightGBM] [Info] Total Bins 982\n",
      "[LightGBM] [Info] Number of data points in the train set: 97948, number of used features: 89\n",
      "[LightGBM] [Info] Start training from score 18007.696931\n",
      "[LightGBM] [Warning] feature_fraction is set=0.8, colsample_bytree=1.0 will be ignored. Current value: feature_fraction=0.8\n",
      "[LightGBM] [Warning] bagging_fraction is set=0.8, subsample=1.0 will be ignored. Current value: bagging_fraction=0.8\n",
      "[LightGBM] [Warning] bagging_freq is set=2, subsample_freq=0 will be ignored. Current value: bagging_freq=2\n",
      "[LightGBM] [Warning] feature_fraction is set=0.8, colsample_bytree=1.0 will be ignored. Current value: feature_fraction=0.8\n",
      "[LightGBM] [Warning] bagging_fraction is set=0.8, subsample=1.0 will be ignored. Current value: bagging_fraction=0.8\n",
      "[LightGBM] [Warning] bagging_freq is set=2, subsample_freq=0 will be ignored. Current value: bagging_freq=2\n",
      "loss= 14.910219026505969\n",
      "min_loss= 15.283363014566598\n",
      "loss= 12.65408604765562\n",
      "min_loss= 14.910219026505969\n",
      "[LightGBM] [Warning] feature_fraction is set=0.8, colsample_bytree=1.0 will be ignored. Current value: feature_fraction=0.8\n",
      "[LightGBM] [Warning] bagging_fraction is set=0.8, subsample=1.0 will be ignored. Current value: bagging_fraction=0.8\n",
      "[LightGBM] [Warning] bagging_freq is set=2, subsample_freq=0 will be ignored. Current value: bagging_freq=2\n",
      "[LightGBM] [Warning] Found whitespace in feature_names, replace with underlines\n",
      "[LightGBM] [Warning] feature_fraction is set=0.8, colsample_bytree=1.0 will be ignored. Current value: feature_fraction=0.8\n",
      "[LightGBM] [Warning] bagging_fraction is set=0.8, subsample=1.0 will be ignored. Current value: bagging_fraction=0.8\n",
      "[LightGBM] [Warning] bagging_freq is set=2, subsample_freq=0 will be ignored. Current value: bagging_freq=2\n",
      "[LightGBM] [Info] Auto-choosing row-wise multi-threading, the overhead of testing was 0.001618 seconds.\n",
      "You can set `force_row_wise=true` to remove the overhead.\n",
      "And if memory is not enough, you can set `force_col_wise=true`.\n",
      "[LightGBM] [Info] Total Bins 982\n",
      "[LightGBM] [Info] Number of data points in the train set: 97948, number of used features: 89\n",
      "[LightGBM] [Info] Start training from score 18007.696931\n",
      "[LightGBM] [Warning] feature_fraction is set=0.8, colsample_bytree=1.0 will be ignored. Current value: feature_fraction=0.8\n",
      "[LightGBM] [Warning] bagging_fraction is set=0.8, subsample=1.0 will be ignored. Current value: bagging_fraction=0.8\n",
      "[LightGBM] [Warning] bagging_freq is set=2, subsample_freq=0 will be ignored. Current value: bagging_freq=2\n",
      "[LightGBM] [Warning] feature_fraction is set=0.8, colsample_bytree=1.0 will be ignored. Current value: feature_fraction=0.8\n",
      "[LightGBM] [Warning] bagging_fraction is set=0.8, subsample=1.0 will be ignored. Current value: bagging_fraction=0.8\n",
      "[LightGBM] [Warning] bagging_freq is set=2, subsample_freq=0 will be ignored. Current value: bagging_freq=2\n",
      "loss= 12.531190965031394\n",
      "min_loss= 12.65408604765562\n",
      "loss= 10.88767144656041\n",
      "min_loss= 12.531190965031394\n",
      "[LightGBM] [Warning] feature_fraction is set=0.8, colsample_bytree=1.0 will be ignored. Current value: feature_fraction=0.8\n",
      "[LightGBM] [Warning] bagging_fraction is set=0.8, subsample=1.0 will be ignored. Current value: bagging_fraction=0.8\n",
      "[LightGBM] [Warning] bagging_freq is set=2, subsample_freq=0 will be ignored. Current value: bagging_freq=2\n",
      "[LightGBM] [Warning] Found whitespace in feature_names, replace with underlines\n",
      "[LightGBM] [Warning] feature_fraction is set=0.8, colsample_bytree=1.0 will be ignored. Current value: feature_fraction=0.8\n",
      "[LightGBM] [Warning] bagging_fraction is set=0.8, subsample=1.0 will be ignored. Current value: bagging_fraction=0.8\n",
      "[LightGBM] [Warning] bagging_freq is set=2, subsample_freq=0 will be ignored. Current value: bagging_freq=2\n",
      "[LightGBM] [Info] Auto-choosing row-wise multi-threading, the overhead of testing was 0.002070 seconds.\n",
      "You can set `force_row_wise=true` to remove the overhead.\n",
      "And if memory is not enough, you can set `force_col_wise=true`.\n",
      "[LightGBM] [Info] Total Bins 982\n",
      "[LightGBM] [Info] Number of data points in the train set: 97948, number of used features: 89\n",
      "[LightGBM] [Info] Start training from score 18007.696931\n",
      "[LightGBM] [Warning] feature_fraction is set=0.8, colsample_bytree=1.0 will be ignored. Current value: feature_fraction=0.8\n",
      "[LightGBM] [Warning] bagging_fraction is set=0.8, subsample=1.0 will be ignored. Current value: bagging_fraction=0.8\n",
      "[LightGBM] [Warning] bagging_freq is set=2, subsample_freq=0 will be ignored. Current value: bagging_freq=2\n",
      "[LightGBM] [Warning] feature_fraction is set=0.8, colsample_bytree=1.0 will be ignored. Current value: feature_fraction=0.8\n",
      "[LightGBM] [Warning] bagging_fraction is set=0.8, subsample=1.0 will be ignored. Current value: bagging_fraction=0.8\n",
      "[LightGBM] [Warning] bagging_freq is set=2, subsample_freq=0 will be ignored. Current value: bagging_freq=2\n",
      "loss= 10.891061864227316\n",
      "min_loss= 10.88767144656041\n",
      "loss= 9.589349665296629\n",
      "min_loss= 10.891061864227316\n",
      "[LightGBM] [Warning] feature_fraction is set=0.8, colsample_bytree=1.0 will be ignored. Current value: feature_fraction=0.8\n",
      "[LightGBM] [Warning] bagging_fraction is set=0.8, subsample=1.0 will be ignored. Current value: bagging_fraction=0.8\n",
      "[LightGBM] [Warning] bagging_freq is set=2, subsample_freq=0 will be ignored. Current value: bagging_freq=2\n",
      "[LightGBM] [Warning] Found whitespace in feature_names, replace with underlines\n",
      "[LightGBM] [Warning] feature_fraction is set=0.8, colsample_bytree=1.0 will be ignored. Current value: feature_fraction=0.8\n",
      "[LightGBM] [Warning] bagging_fraction is set=0.8, subsample=1.0 will be ignored. Current value: bagging_fraction=0.8\n",
      "[LightGBM] [Warning] bagging_freq is set=2, subsample_freq=0 will be ignored. Current value: bagging_freq=2\n",
      "[LightGBM] [Info] Auto-choosing row-wise multi-threading, the overhead of testing was 0.002344 seconds.\n",
      "You can set `force_row_wise=true` to remove the overhead.\n",
      "And if memory is not enough, you can set `force_col_wise=true`.\n",
      "[LightGBM] [Info] Total Bins 982\n",
      "[LightGBM] [Info] Number of data points in the train set: 97948, number of used features: 89\n",
      "[LightGBM] [Info] Start training from score 18007.696931\n",
      "[LightGBM] [Warning] feature_fraction is set=0.8, colsample_bytree=1.0 will be ignored. Current value: feature_fraction=0.8\n",
      "[LightGBM] [Warning] bagging_fraction is set=0.8, subsample=1.0 will be ignored. Current value: bagging_fraction=0.8\n",
      "[LightGBM] [Warning] bagging_freq is set=2, subsample_freq=0 will be ignored. Current value: bagging_freq=2\n",
      "[LightGBM] [Warning] feature_fraction is set=0.8, colsample_bytree=1.0 will be ignored. Current value: feature_fraction=0.8\n",
      "[LightGBM] [Warning] bagging_fraction is set=0.8, subsample=1.0 will be ignored. Current value: bagging_fraction=0.8\n",
      "[LightGBM] [Warning] bagging_freq is set=2, subsample_freq=0 will be ignored. Current value: bagging_freq=2\n",
      "loss= 9.673439833900257\n",
      "min_loss= 9.589349665296629\n",
      "loss= 8.576231631947593\n",
      "min_loss= 9.673439833900257\n",
      "[LightGBM] [Warning] feature_fraction is set=0.8, colsample_bytree=1.0 will be ignored. Current value: feature_fraction=0.8\n",
      "[LightGBM] [Warning] bagging_fraction is set=0.8, subsample=1.0 will be ignored. Current value: bagging_fraction=0.8\n",
      "[LightGBM] [Warning] bagging_freq is set=2, subsample_freq=0 will be ignored. Current value: bagging_freq=2\n",
      "[LightGBM] [Warning] Found whitespace in feature_names, replace with underlines\n",
      "[LightGBM] [Warning] feature_fraction is set=0.8, colsample_bytree=1.0 will be ignored. Current value: feature_fraction=0.8\n",
      "[LightGBM] [Warning] bagging_fraction is set=0.8, subsample=1.0 will be ignored. Current value: bagging_fraction=0.8\n",
      "[LightGBM] [Warning] bagging_freq is set=2, subsample_freq=0 will be ignored. Current value: bagging_freq=2\n",
      "[LightGBM] [Info] Auto-choosing row-wise multi-threading, the overhead of testing was 0.002283 seconds.\n",
      "You can set `force_row_wise=true` to remove the overhead.\n",
      "And if memory is not enough, you can set `force_col_wise=true`.\n",
      "[LightGBM] [Info] Total Bins 982\n",
      "[LightGBM] [Info] Number of data points in the train set: 97948, number of used features: 89\n",
      "[LightGBM] [Info] Start training from score 18007.696931\n",
      "[LightGBM] [Warning] feature_fraction is set=0.8, colsample_bytree=1.0 will be ignored. Current value: feature_fraction=0.8\n",
      "[LightGBM] [Warning] bagging_fraction is set=0.8, subsample=1.0 will be ignored. Current value: bagging_fraction=0.8\n",
      "[LightGBM] [Warning] bagging_freq is set=2, subsample_freq=0 will be ignored. Current value: bagging_freq=2\n",
      "[LightGBM] [Warning] feature_fraction is set=0.8, colsample_bytree=1.0 will be ignored. Current value: feature_fraction=0.8\n",
      "[LightGBM] [Warning] bagging_fraction is set=0.8, subsample=1.0 will be ignored. Current value: bagging_fraction=0.8\n",
      "[LightGBM] [Warning] bagging_freq is set=2, subsample_freq=0 will be ignored. Current value: bagging_freq=2\n",
      "loss= 8.698077018627714\n",
      "min_loss= 8.576231631947593\n",
      "loss= 7.700278119535213\n",
      "min_loss= 8.698077018627714\n",
      "[LightGBM] [Warning] feature_fraction is set=0.8, colsample_bytree=1.0 will be ignored. Current value: feature_fraction=0.8\n",
      "[LightGBM] [Warning] bagging_fraction is set=0.8, subsample=1.0 will be ignored. Current value: bagging_fraction=0.8\n",
      "[LightGBM] [Warning] bagging_freq is set=2, subsample_freq=0 will be ignored. Current value: bagging_freq=2\n",
      "[LightGBM] [Warning] Found whitespace in feature_names, replace with underlines\n",
      "[LightGBM] [Warning] feature_fraction is set=0.8, colsample_bytree=1.0 will be ignored. Current value: feature_fraction=0.8\n",
      "[LightGBM] [Warning] bagging_fraction is set=0.8, subsample=1.0 will be ignored. Current value: bagging_fraction=0.8\n",
      "[LightGBM] [Warning] bagging_freq is set=2, subsample_freq=0 will be ignored. Current value: bagging_freq=2\n",
      "[LightGBM] [Info] Auto-choosing row-wise multi-threading, the overhead of testing was 0.001450 seconds.\n",
      "You can set `force_row_wise=true` to remove the overhead.\n",
      "And if memory is not enough, you can set `force_col_wise=true`.\n",
      "[LightGBM] [Info] Total Bins 982\n",
      "[LightGBM] [Info] Number of data points in the train set: 97948, number of used features: 89\n",
      "[LightGBM] [Info] Start training from score 18007.696931\n",
      "[LightGBM] [Warning] feature_fraction is set=0.8, colsample_bytree=1.0 will be ignored. Current value: feature_fraction=0.8\n",
      "[LightGBM] [Warning] bagging_fraction is set=0.8, subsample=1.0 will be ignored. Current value: bagging_fraction=0.8\n",
      "[LightGBM] [Warning] bagging_freq is set=2, subsample_freq=0 will be ignored. Current value: bagging_freq=2\n",
      "[LightGBM] [Warning] feature_fraction is set=0.8, colsample_bytree=1.0 will be ignored. Current value: feature_fraction=0.8\n",
      "[LightGBM] [Warning] bagging_fraction is set=0.8, subsample=1.0 will be ignored. Current value: bagging_fraction=0.8\n",
      "[LightGBM] [Warning] bagging_freq is set=2, subsample_freq=0 will be ignored. Current value: bagging_freq=2\n",
      "loss= 7.8253429236951995\n",
      "min_loss= 7.700278119535213\n",
      "loss= 6.9842727859580345\n",
      "min_loss= 7.8253429236951995\n",
      "[LightGBM] [Warning] feature_fraction is set=0.8, colsample_bytree=1.0 will be ignored. Current value: feature_fraction=0.8\n",
      "[LightGBM] [Warning] bagging_fraction is set=0.8, subsample=1.0 will be ignored. Current value: bagging_fraction=0.8\n",
      "[LightGBM] [Warning] bagging_freq is set=2, subsample_freq=0 will be ignored. Current value: bagging_freq=2\n",
      "[LightGBM] [Warning] Found whitespace in feature_names, replace with underlines\n",
      "[LightGBM] [Warning] feature_fraction is set=0.8, colsample_bytree=1.0 will be ignored. Current value: feature_fraction=0.8\n",
      "[LightGBM] [Warning] bagging_fraction is set=0.8, subsample=1.0 will be ignored. Current value: bagging_fraction=0.8\n",
      "[LightGBM] [Warning] bagging_freq is set=2, subsample_freq=0 will be ignored. Current value: bagging_freq=2\n",
      "[LightGBM] [Info] Auto-choosing row-wise multi-threading, the overhead of testing was 0.001919 seconds.\n",
      "You can set `force_row_wise=true` to remove the overhead.\n",
      "And if memory is not enough, you can set `force_col_wise=true`.\n",
      "[LightGBM] [Info] Total Bins 982\n",
      "[LightGBM] [Info] Number of data points in the train set: 97948, number of used features: 89\n",
      "[LightGBM] [Info] Start training from score 18007.696931\n",
      "[LightGBM] [Warning] feature_fraction is set=0.8, colsample_bytree=1.0 will be ignored. Current value: feature_fraction=0.8\n",
      "[LightGBM] [Warning] bagging_fraction is set=0.8, subsample=1.0 will be ignored. Current value: bagging_fraction=0.8\n",
      "[LightGBM] [Warning] bagging_freq is set=2, subsample_freq=0 will be ignored. Current value: bagging_freq=2\n",
      "[LightGBM] [Warning] feature_fraction is set=0.8, colsample_bytree=1.0 will be ignored. Current value: feature_fraction=0.8\n",
      "[LightGBM] [Warning] bagging_fraction is set=0.8, subsample=1.0 will be ignored. Current value: bagging_fraction=0.8\n",
      "[LightGBM] [Warning] bagging_freq is set=2, subsample_freq=0 will be ignored. Current value: bagging_freq=2\n",
      "loss= 7.142639711018213\n",
      "min_loss= 6.9842727859580345\n",
      "loss= 6.3845055581728305\n",
      "min_loss= 7.142639711018213\n",
      "[LightGBM] [Warning] feature_fraction is set=0.8, colsample_bytree=1.0 will be ignored. Current value: feature_fraction=0.8\n",
      "[LightGBM] [Warning] bagging_fraction is set=0.8, subsample=1.0 will be ignored. Current value: bagging_fraction=0.8\n",
      "[LightGBM] [Warning] bagging_freq is set=2, subsample_freq=0 will be ignored. Current value: bagging_freq=2\n",
      "[LightGBM] [Warning] Found whitespace in feature_names, replace with underlines\n",
      "[LightGBM] [Warning] feature_fraction is set=0.8, colsample_bytree=1.0 will be ignored. Current value: feature_fraction=0.8\n",
      "[LightGBM] [Warning] bagging_fraction is set=0.8, subsample=1.0 will be ignored. Current value: bagging_fraction=0.8\n",
      "[LightGBM] [Warning] bagging_freq is set=2, subsample_freq=0 will be ignored. Current value: bagging_freq=2\n",
      "[LightGBM] [Info] Auto-choosing row-wise multi-threading, the overhead of testing was 0.002368 seconds.\n",
      "You can set `force_row_wise=true` to remove the overhead.\n",
      "And if memory is not enough, you can set `force_col_wise=true`.\n",
      "[LightGBM] [Info] Total Bins 982\n",
      "[LightGBM] [Info] Number of data points in the train set: 97948, number of used features: 89\n",
      "[LightGBM] [Info] Start training from score 18007.696931\n",
      "[LightGBM] [Warning] feature_fraction is set=0.8, colsample_bytree=1.0 will be ignored. Current value: feature_fraction=0.8\n",
      "[LightGBM] [Warning] bagging_fraction is set=0.8, subsample=1.0 will be ignored. Current value: bagging_fraction=0.8\n",
      "[LightGBM] [Warning] bagging_freq is set=2, subsample_freq=0 will be ignored. Current value: bagging_freq=2\n",
      "[LightGBM] [Warning] feature_fraction is set=0.8, colsample_bytree=1.0 will be ignored. Current value: feature_fraction=0.8\n",
      "[LightGBM] [Warning] bagging_fraction is set=0.8, subsample=1.0 will be ignored. Current value: bagging_fraction=0.8\n",
      "[LightGBM] [Warning] bagging_freq is set=2, subsample_freq=0 will be ignored. Current value: bagging_freq=2\n",
      "loss= 6.515721634702951\n",
      "min_loss= 6.3845055581728305\n",
      "loss= 5.835970509286194\n",
      "min_loss= 6.515721634702951\n",
      "[LightGBM] [Warning] feature_fraction is set=0.8, colsample_bytree=1.0 will be ignored. Current value: feature_fraction=0.8\n",
      "[LightGBM] [Warning] bagging_fraction is set=0.8, subsample=1.0 will be ignored. Current value: bagging_fraction=0.8\n",
      "[LightGBM] [Warning] bagging_freq is set=2, subsample_freq=0 will be ignored. Current value: bagging_freq=2\n",
      "[LightGBM] [Warning] Found whitespace in feature_names, replace with underlines\n",
      "[LightGBM] [Warning] feature_fraction is set=0.8, colsample_bytree=1.0 will be ignored. Current value: feature_fraction=0.8\n",
      "[LightGBM] [Warning] bagging_fraction is set=0.8, subsample=1.0 will be ignored. Current value: bagging_fraction=0.8\n",
      "[LightGBM] [Warning] bagging_freq is set=2, subsample_freq=0 will be ignored. Current value: bagging_freq=2\n",
      "[LightGBM] [Info] Auto-choosing row-wise multi-threading, the overhead of testing was 0.002250 seconds.\n",
      "You can set `force_row_wise=true` to remove the overhead.\n",
      "And if memory is not enough, you can set `force_col_wise=true`.\n",
      "[LightGBM] [Info] Total Bins 982\n",
      "[LightGBM] [Info] Number of data points in the train set: 97948, number of used features: 89\n",
      "[LightGBM] [Info] Start training from score 18007.696931\n",
      "[LightGBM] [Warning] feature_fraction is set=0.8, colsample_bytree=1.0 will be ignored. Current value: feature_fraction=0.8\n",
      "[LightGBM] [Warning] bagging_fraction is set=0.8, subsample=1.0 will be ignored. Current value: bagging_fraction=0.8\n",
      "[LightGBM] [Warning] bagging_freq is set=2, subsample_freq=0 will be ignored. Current value: bagging_freq=2\n",
      "[LightGBM] [Warning] feature_fraction is set=0.8, colsample_bytree=1.0 will be ignored. Current value: feature_fraction=0.8\n",
      "[LightGBM] [Warning] bagging_fraction is set=0.8, subsample=1.0 will be ignored. Current value: bagging_fraction=0.8\n",
      "[LightGBM] [Warning] bagging_freq is set=2, subsample_freq=0 will be ignored. Current value: bagging_freq=2\n",
      "loss= 6.026228202768253\n",
      "min_loss= 5.835970509286194\n",
      "loss= 5.41120199646439\n",
      "min_loss= 6.026228202768253\n",
      "[LightGBM] [Warning] feature_fraction is set=0.8, colsample_bytree=1.0 will be ignored. Current value: feature_fraction=0.8\n",
      "[LightGBM] [Warning] bagging_fraction is set=0.8, subsample=1.0 will be ignored. Current value: bagging_fraction=0.8\n",
      "[LightGBM] [Warning] bagging_freq is set=2, subsample_freq=0 will be ignored. Current value: bagging_freq=2\n",
      "[LightGBM] [Warning] Found whitespace in feature_names, replace with underlines\n",
      "[LightGBM] [Warning] feature_fraction is set=0.8, colsample_bytree=1.0 will be ignored. Current value: feature_fraction=0.8\n",
      "[LightGBM] [Warning] bagging_fraction is set=0.8, subsample=1.0 will be ignored. Current value: bagging_fraction=0.8\n",
      "[LightGBM] [Warning] bagging_freq is set=2, subsample_freq=0 will be ignored. Current value: bagging_freq=2\n",
      "[LightGBM] [Info] Auto-choosing row-wise multi-threading, the overhead of testing was 0.002234 seconds.\n",
      "You can set `force_row_wise=true` to remove the overhead.\n",
      "And if memory is not enough, you can set `force_col_wise=true`.\n",
      "[LightGBM] [Info] Total Bins 982\n",
      "[LightGBM] [Info] Number of data points in the train set: 97948, number of used features: 89\n",
      "[LightGBM] [Info] Start training from score 18007.696931\n",
      "[LightGBM] [Warning] feature_fraction is set=0.8, colsample_bytree=1.0 will be ignored. Current value: feature_fraction=0.8\n",
      "[LightGBM] [Warning] bagging_fraction is set=0.8, subsample=1.0 will be ignored. Current value: bagging_fraction=0.8\n",
      "[LightGBM] [Warning] bagging_freq is set=2, subsample_freq=0 will be ignored. Current value: bagging_freq=2\n",
      "[LightGBM] [Warning] feature_fraction is set=0.8, colsample_bytree=1.0 will be ignored. Current value: feature_fraction=0.8\n",
      "[LightGBM] [Warning] bagging_fraction is set=0.8, subsample=1.0 will be ignored. Current value: bagging_fraction=0.8\n",
      "[LightGBM] [Warning] bagging_freq is set=2, subsample_freq=0 will be ignored. Current value: bagging_freq=2\n",
      "loss= 5.646656891631388\n",
      "min_loss= 5.41120199646439\n",
      "loss= 5.030145182887302\n",
      "min_loss= 5.646656891631388\n",
      "[LightGBM] [Warning] feature_fraction is set=0.8, colsample_bytree=1.0 will be ignored. Current value: feature_fraction=0.8\n",
      "[LightGBM] [Warning] bagging_fraction is set=0.8, subsample=1.0 will be ignored. Current value: bagging_fraction=0.8\n",
      "[LightGBM] [Warning] bagging_freq is set=2, subsample_freq=0 will be ignored. Current value: bagging_freq=2\n",
      "[LightGBM] [Warning] Found whitespace in feature_names, replace with underlines\n",
      "[LightGBM] [Warning] feature_fraction is set=0.8, colsample_bytree=1.0 will be ignored. Current value: feature_fraction=0.8\n",
      "[LightGBM] [Warning] bagging_fraction is set=0.8, subsample=1.0 will be ignored. Current value: bagging_fraction=0.8\n",
      "[LightGBM] [Warning] bagging_freq is set=2, subsample_freq=0 will be ignored. Current value: bagging_freq=2\n",
      "[LightGBM] [Info] Auto-choosing row-wise multi-threading, the overhead of testing was 0.002273 seconds.\n",
      "You can set `force_row_wise=true` to remove the overhead.\n",
      "And if memory is not enough, you can set `force_col_wise=true`.\n",
      "[LightGBM] [Info] Total Bins 982\n",
      "[LightGBM] [Info] Number of data points in the train set: 97948, number of used features: 89\n",
      "[LightGBM] [Info] Start training from score 18007.696931\n",
      "[LightGBM] [Warning] feature_fraction is set=0.8, colsample_bytree=1.0 will be ignored. Current value: feature_fraction=0.8\n",
      "[LightGBM] [Warning] bagging_fraction is set=0.8, subsample=1.0 will be ignored. Current value: bagging_fraction=0.8\n",
      "[LightGBM] [Warning] bagging_freq is set=2, subsample_freq=0 will be ignored. Current value: bagging_freq=2\n",
      "[LightGBM] [Warning] feature_fraction is set=0.8, colsample_bytree=1.0 will be ignored. Current value: feature_fraction=0.8\n",
      "[LightGBM] [Warning] bagging_fraction is set=0.8, subsample=1.0 will be ignored. Current value: bagging_fraction=0.8\n",
      "[LightGBM] [Warning] bagging_freq is set=2, subsample_freq=0 will be ignored. Current value: bagging_freq=2\n",
      "loss= 5.301890273794172\n",
      "min_loss= 5.030145182887302\n",
      "loss= 4.694697676667035\n",
      "min_loss= 5.301890273794172\n",
      "[LightGBM] [Warning] feature_fraction is set=0.8, colsample_bytree=1.0 will be ignored. Current value: feature_fraction=0.8\n",
      "[LightGBM] [Warning] bagging_fraction is set=0.8, subsample=1.0 will be ignored. Current value: bagging_fraction=0.8\n",
      "[LightGBM] [Warning] bagging_freq is set=2, subsample_freq=0 will be ignored. Current value: bagging_freq=2\n",
      "[LightGBM] [Warning] Found whitespace in feature_names, replace with underlines\n",
      "[LightGBM] [Warning] feature_fraction is set=0.8, colsample_bytree=1.0 will be ignored. Current value: feature_fraction=0.8\n",
      "[LightGBM] [Warning] bagging_fraction is set=0.8, subsample=1.0 will be ignored. Current value: bagging_fraction=0.8\n",
      "[LightGBM] [Warning] bagging_freq is set=2, subsample_freq=0 will be ignored. Current value: bagging_freq=2\n",
      "[LightGBM] [Info] Auto-choosing row-wise multi-threading, the overhead of testing was 0.001894 seconds.\n",
      "You can set `force_row_wise=true` to remove the overhead.\n",
      "And if memory is not enough, you can set `force_col_wise=true`.\n",
      "[LightGBM] [Info] Total Bins 982\n",
      "[LightGBM] [Info] Number of data points in the train set: 97948, number of used features: 89\n",
      "[LightGBM] [Info] Start training from score 18007.696931\n",
      "[LightGBM] [Warning] feature_fraction is set=0.8, colsample_bytree=1.0 will be ignored. Current value: feature_fraction=0.8\n",
      "[LightGBM] [Warning] bagging_fraction is set=0.8, subsample=1.0 will be ignored. Current value: bagging_fraction=0.8\n",
      "[LightGBM] [Warning] bagging_freq is set=2, subsample_freq=0 will be ignored. Current value: bagging_freq=2\n",
      "[LightGBM] [Warning] feature_fraction is set=0.8, colsample_bytree=1.0 will be ignored. Current value: feature_fraction=0.8\n",
      "[LightGBM] [Warning] bagging_fraction is set=0.8, subsample=1.0 will be ignored. Current value: bagging_fraction=0.8\n",
      "[LightGBM] [Warning] bagging_freq is set=2, subsample_freq=0 will be ignored. Current value: bagging_freq=2\n",
      "loss= 4.991127668334787\n",
      "min_loss= 4.694697676667035\n",
      "loss= 4.406541217428691\n",
      "min_loss= 4.991127668334787\n",
      "[LightGBM] [Warning] feature_fraction is set=0.8, colsample_bytree=1.0 will be ignored. Current value: feature_fraction=0.8\n",
      "[LightGBM] [Warning] bagging_fraction is set=0.8, subsample=1.0 will be ignored. Current value: bagging_fraction=0.8\n",
      "[LightGBM] [Warning] bagging_freq is set=2, subsample_freq=0 will be ignored. Current value: bagging_freq=2\n",
      "[LightGBM] [Warning] Found whitespace in feature_names, replace with underlines\n",
      "[LightGBM] [Warning] feature_fraction is set=0.8, colsample_bytree=1.0 will be ignored. Current value: feature_fraction=0.8\n",
      "[LightGBM] [Warning] bagging_fraction is set=0.8, subsample=1.0 will be ignored. Current value: bagging_fraction=0.8\n",
      "[LightGBM] [Warning] bagging_freq is set=2, subsample_freq=0 will be ignored. Current value: bagging_freq=2\n",
      "[LightGBM] [Info] Auto-choosing row-wise multi-threading, the overhead of testing was 0.002312 seconds.\n",
      "You can set `force_row_wise=true` to remove the overhead.\n",
      "And if memory is not enough, you can set `force_col_wise=true`.\n",
      "[LightGBM] [Info] Total Bins 982\n",
      "[LightGBM] [Info] Number of data points in the train set: 97948, number of used features: 89\n",
      "[LightGBM] [Info] Start training from score 18007.696931\n",
      "[LightGBM] [Warning] feature_fraction is set=0.8, colsample_bytree=1.0 will be ignored. Current value: feature_fraction=0.8\n",
      "[LightGBM] [Warning] bagging_fraction is set=0.8, subsample=1.0 will be ignored. Current value: bagging_fraction=0.8\n",
      "[LightGBM] [Warning] bagging_freq is set=2, subsample_freq=0 will be ignored. Current value: bagging_freq=2\n",
      "[LightGBM] [Warning] feature_fraction is set=0.8, colsample_bytree=1.0 will be ignored. Current value: feature_fraction=0.8\n",
      "[LightGBM] [Warning] bagging_fraction is set=0.8, subsample=1.0 will be ignored. Current value: bagging_fraction=0.8\n",
      "[LightGBM] [Warning] bagging_freq is set=2, subsample_freq=0 will be ignored. Current value: bagging_freq=2\n",
      "loss= 4.741572823408699\n",
      "min_loss= 4.406541217428691\n",
      "loss= 4.185186249304289\n",
      "min_loss= 4.741572823408699\n",
      "[LightGBM] [Warning] feature_fraction is set=0.8, colsample_bytree=1.0 will be ignored. Current value: feature_fraction=0.8\n",
      "[LightGBM] [Warning] bagging_fraction is set=0.8, subsample=1.0 will be ignored. Current value: bagging_fraction=0.8\n",
      "[LightGBM] [Warning] bagging_freq is set=2, subsample_freq=0 will be ignored. Current value: bagging_freq=2\n",
      "[LightGBM] [Warning] Found whitespace in feature_names, replace with underlines\n",
      "[LightGBM] [Warning] feature_fraction is set=0.8, colsample_bytree=1.0 will be ignored. Current value: feature_fraction=0.8\n",
      "[LightGBM] [Warning] bagging_fraction is set=0.8, subsample=1.0 will be ignored. Current value: bagging_fraction=0.8\n",
      "[LightGBM] [Warning] bagging_freq is set=2, subsample_freq=0 will be ignored. Current value: bagging_freq=2\n",
      "[LightGBM] [Info] Auto-choosing row-wise multi-threading, the overhead of testing was 0.002192 seconds.\n",
      "You can set `force_row_wise=true` to remove the overhead.\n",
      "And if memory is not enough, you can set `force_col_wise=true`.\n",
      "[LightGBM] [Info] Total Bins 982\n",
      "[LightGBM] [Info] Number of data points in the train set: 97948, number of used features: 89\n",
      "[LightGBM] [Info] Start training from score 18007.696931\n",
      "[LightGBM] [Warning] feature_fraction is set=0.8, colsample_bytree=1.0 will be ignored. Current value: feature_fraction=0.8\n",
      "[LightGBM] [Warning] bagging_fraction is set=0.8, subsample=1.0 will be ignored. Current value: bagging_fraction=0.8\n",
      "[LightGBM] [Warning] bagging_freq is set=2, subsample_freq=0 will be ignored. Current value: bagging_freq=2\n",
      "[LightGBM] [Warning] feature_fraction is set=0.8, colsample_bytree=1.0 will be ignored. Current value: feature_fraction=0.8\n",
      "[LightGBM] [Warning] bagging_fraction is set=0.8, subsample=1.0 will be ignored. Current value: bagging_fraction=0.8\n",
      "[LightGBM] [Warning] bagging_freq is set=2, subsample_freq=0 will be ignored. Current value: bagging_freq=2\n",
      "loss= 4.511729195074169\n",
      "min_loss= 4.185186249304289\n",
      "[LightGBM] [Warning] feature_fraction is set=0.8, colsample_bytree=1.0 will be ignored. Current value: feature_fraction=0.8\n",
      "[LightGBM] [Warning] bagging_fraction is set=0.8, subsample=1.0 will be ignored. Current value: bagging_fraction=0.8\n",
      "[LightGBM] [Warning] bagging_freq is set=2, subsample_freq=0 will be ignored. Current value: bagging_freq=2\n",
      "[LightGBM] [Warning] Found whitespace in feature_names, replace with underlines\n",
      "[LightGBM] [Warning] feature_fraction is set=0.8, colsample_bytree=1.0 will be ignored. Current value: feature_fraction=0.8\n",
      "[LightGBM] [Warning] bagging_fraction is set=0.8, subsample=1.0 will be ignored. Current value: bagging_fraction=0.8\n",
      "[LightGBM] [Warning] bagging_freq is set=2, subsample_freq=0 will be ignored. Current value: bagging_freq=2\n",
      "[LightGBM] [Info] Auto-choosing row-wise multi-threading, the overhead of testing was 0.001987 seconds.\n",
      "You can set `force_row_wise=true` to remove the overhead.\n",
      "And if memory is not enough, you can set `force_col_wise=true`.\n",
      "[LightGBM] [Info] Total Bins 727\n",
      "[LightGBM] [Info] Number of data points in the train set: 97948, number of used features: 88\n",
      "[LightGBM] [Info] Start training from score 18007.696931\n",
      "[LightGBM] [Warning] feature_fraction is set=0.8, colsample_bytree=1.0 will be ignored. Current value: feature_fraction=0.8\n",
      "[LightGBM] [Warning] bagging_fraction is set=0.8, subsample=1.0 will be ignored. Current value: bagging_fraction=0.8\n",
      "[LightGBM] [Warning] bagging_freq is set=2, subsample_freq=0 will be ignored. Current value: bagging_freq=2\n",
      "[LightGBM] [Warning] feature_fraction is set=0.8, colsample_bytree=1.0 will be ignored. Current value: feature_fraction=0.8\n",
      "[LightGBM] [Warning] bagging_fraction is set=0.8, subsample=1.0 will be ignored. Current value: bagging_fraction=0.8\n",
      "[LightGBM] [Warning] bagging_freq is set=2, subsample_freq=0 will be ignored. Current value: bagging_freq=2\n",
      "loss= 1000000000000\n",
      "min_loss= inf\n",
      "loss= 18.74523390310071\n",
      "min_loss= 1000000000000\n",
      "[LightGBM] [Warning] feature_fraction is set=0.8, colsample_bytree=1.0 will be ignored. Current value: feature_fraction=0.8\n",
      "[LightGBM] [Warning] bagging_fraction is set=0.8, subsample=1.0 will be ignored. Current value: bagging_fraction=0.8\n",
      "[LightGBM] [Warning] bagging_freq is set=2, subsample_freq=0 will be ignored. Current value: bagging_freq=2\n",
      "[LightGBM] [Warning] Found whitespace in feature_names, replace with underlines\n",
      "[LightGBM] [Warning] feature_fraction is set=0.8, colsample_bytree=1.0 will be ignored. Current value: feature_fraction=0.8\n",
      "[LightGBM] [Warning] bagging_fraction is set=0.8, subsample=1.0 will be ignored. Current value: bagging_fraction=0.8\n",
      "[LightGBM] [Warning] bagging_freq is set=2, subsample_freq=0 will be ignored. Current value: bagging_freq=2\n",
      "[LightGBM] [Info] Auto-choosing row-wise multi-threading, the overhead of testing was 0.002060 seconds.\n",
      "You can set `force_row_wise=true` to remove the overhead.\n",
      "And if memory is not enough, you can set `force_col_wise=true`.\n",
      "[LightGBM] [Info] Total Bins 982\n",
      "[LightGBM] [Info] Number of data points in the train set: 97948, number of used features: 89\n",
      "[LightGBM] [Info] Start training from score 18007.696931\n",
      "[LightGBM] [Warning] feature_fraction is set=0.8, colsample_bytree=1.0 will be ignored. Current value: feature_fraction=0.8\n",
      "[LightGBM] [Warning] bagging_fraction is set=0.8, subsample=1.0 will be ignored. Current value: bagging_fraction=0.8\n",
      "[LightGBM] [Warning] bagging_freq is set=2, subsample_freq=0 will be ignored. Current value: bagging_freq=2\n",
      "[LightGBM] [Warning] feature_fraction is set=0.8, colsample_bytree=1.0 will be ignored. Current value: feature_fraction=0.8\n",
      "[LightGBM] [Warning] bagging_fraction is set=0.8, subsample=1.0 will be ignored. Current value: bagging_fraction=0.8\n",
      "[LightGBM] [Warning] bagging_freq is set=2, subsample_freq=0 will be ignored. Current value: bagging_freq=2\n",
      "loss= 17.8652187619488\n",
      "min_loss= 18.74523390310071\n",
      "loss= 14.8086211365171\n",
      "min_loss= 17.8652187619488\n",
      "[LightGBM] [Warning] feature_fraction is set=0.8, colsample_bytree=1.0 will be ignored. Current value: feature_fraction=0.8\n",
      "[LightGBM] [Warning] bagging_fraction is set=0.8, subsample=1.0 will be ignored. Current value: bagging_fraction=0.8\n",
      "[LightGBM] [Warning] bagging_freq is set=2, subsample_freq=0 will be ignored. Current value: bagging_freq=2\n",
      "[LightGBM] [Warning] Found whitespace in feature_names, replace with underlines\n",
      "[LightGBM] [Warning] feature_fraction is set=0.8, colsample_bytree=1.0 will be ignored. Current value: feature_fraction=0.8\n",
      "[LightGBM] [Warning] bagging_fraction is set=0.8, subsample=1.0 will be ignored. Current value: bagging_fraction=0.8\n",
      "[LightGBM] [Warning] bagging_freq is set=2, subsample_freq=0 will be ignored. Current value: bagging_freq=2\n",
      "[LightGBM] [Info] Auto-choosing row-wise multi-threading, the overhead of testing was 0.001977 seconds.\n",
      "You can set `force_row_wise=true` to remove the overhead.\n",
      "And if memory is not enough, you can set `force_col_wise=true`.\n",
      "[LightGBM] [Info] Total Bins 982\n",
      "[LightGBM] [Info] Number of data points in the train set: 97948, number of used features: 89\n",
      "[LightGBM] [Info] Start training from score 18007.696931\n",
      "[LightGBM] [Warning] feature_fraction is set=0.8, colsample_bytree=1.0 will be ignored. Current value: feature_fraction=0.8\n",
      "[LightGBM] [Warning] bagging_fraction is set=0.8, subsample=1.0 will be ignored. Current value: bagging_fraction=0.8\n",
      "[LightGBM] [Warning] bagging_freq is set=2, subsample_freq=0 will be ignored. Current value: bagging_freq=2\n",
      "[LightGBM] [Warning] feature_fraction is set=0.8, colsample_bytree=1.0 will be ignored. Current value: feature_fraction=0.8\n",
      "[LightGBM] [Warning] bagging_fraction is set=0.8, subsample=1.0 will be ignored. Current value: bagging_fraction=0.8\n",
      "[LightGBM] [Warning] bagging_freq is set=2, subsample_freq=0 will be ignored. Current value: bagging_freq=2\n",
      "loss= 14.530318381462537\n",
      "min_loss= 14.8086211365171\n",
      "loss= 12.4438002805998\n",
      "min_loss= 14.530318381462537\n",
      "[LightGBM] [Warning] feature_fraction is set=0.8, colsample_bytree=1.0 will be ignored. Current value: feature_fraction=0.8\n",
      "[LightGBM] [Warning] bagging_fraction is set=0.8, subsample=1.0 will be ignored. Current value: bagging_fraction=0.8\n",
      "[LightGBM] [Warning] bagging_freq is set=2, subsample_freq=0 will be ignored. Current value: bagging_freq=2\n",
      "[LightGBM] [Warning] Found whitespace in feature_names, replace with underlines\n",
      "[LightGBM] [Warning] feature_fraction is set=0.8, colsample_bytree=1.0 will be ignored. Current value: feature_fraction=0.8\n",
      "[LightGBM] [Warning] bagging_fraction is set=0.8, subsample=1.0 will be ignored. Current value: bagging_fraction=0.8\n",
      "[LightGBM] [Warning] bagging_freq is set=2, subsample_freq=0 will be ignored. Current value: bagging_freq=2\n",
      "[LightGBM] [Info] Auto-choosing row-wise multi-threading, the overhead of testing was 0.002059 seconds.\n",
      "You can set `force_row_wise=true` to remove the overhead.\n",
      "And if memory is not enough, you can set `force_col_wise=true`.\n",
      "[LightGBM] [Info] Total Bins 982\n",
      "[LightGBM] [Info] Number of data points in the train set: 97948, number of used features: 89\n",
      "[LightGBM] [Info] Start training from score 18007.696931\n",
      "[LightGBM] [Warning] feature_fraction is set=0.8, colsample_bytree=1.0 will be ignored. Current value: feature_fraction=0.8\n",
      "[LightGBM] [Warning] bagging_fraction is set=0.8, subsample=1.0 will be ignored. Current value: bagging_fraction=0.8\n",
      "[LightGBM] [Warning] bagging_freq is set=2, subsample_freq=0 will be ignored. Current value: bagging_freq=2\n",
      "[LightGBM] [Warning] feature_fraction is set=0.8, colsample_bytree=1.0 will be ignored. Current value: feature_fraction=0.8\n",
      "[LightGBM] [Warning] bagging_fraction is set=0.8, subsample=1.0 will be ignored. Current value: bagging_fraction=0.8\n",
      "[LightGBM] [Warning] bagging_freq is set=2, subsample_freq=0 will be ignored. Current value: bagging_freq=2\n",
      "loss= 12.351635706541368\n",
      "min_loss= 12.4438002805998\n",
      "loss= 10.730887737694328\n",
      "min_loss= 12.351635706541368\n",
      "[LightGBM] [Warning] feature_fraction is set=0.8, colsample_bytree=1.0 will be ignored. Current value: feature_fraction=0.8\n",
      "[LightGBM] [Warning] bagging_fraction is set=0.8, subsample=1.0 will be ignored. Current value: bagging_fraction=0.8\n",
      "[LightGBM] [Warning] bagging_freq is set=2, subsample_freq=0 will be ignored. Current value: bagging_freq=2\n",
      "[LightGBM] [Warning] Found whitespace in feature_names, replace with underlines\n",
      "[LightGBM] [Warning] feature_fraction is set=0.8, colsample_bytree=1.0 will be ignored. Current value: feature_fraction=0.8\n",
      "[LightGBM] [Warning] bagging_fraction is set=0.8, subsample=1.0 will be ignored. Current value: bagging_fraction=0.8\n",
      "[LightGBM] [Warning] bagging_freq is set=2, subsample_freq=0 will be ignored. Current value: bagging_freq=2\n",
      "[LightGBM] [Info] Auto-choosing row-wise multi-threading, the overhead of testing was 0.002263 seconds.\n",
      "You can set `force_row_wise=true` to remove the overhead.\n",
      "And if memory is not enough, you can set `force_col_wise=true`.\n",
      "[LightGBM] [Info] Total Bins 982\n",
      "[LightGBM] [Info] Number of data points in the train set: 97948, number of used features: 89\n",
      "[LightGBM] [Info] Start training from score 18007.696931\n",
      "[LightGBM] [Warning] feature_fraction is set=0.8, colsample_bytree=1.0 will be ignored. Current value: feature_fraction=0.8\n",
      "[LightGBM] [Warning] bagging_fraction is set=0.8, subsample=1.0 will be ignored. Current value: bagging_fraction=0.8\n",
      "[LightGBM] [Warning] bagging_freq is set=2, subsample_freq=0 will be ignored. Current value: bagging_freq=2\n",
      "[LightGBM] [Warning] feature_fraction is set=0.8, colsample_bytree=1.0 will be ignored. Current value: feature_fraction=0.8\n",
      "[LightGBM] [Warning] bagging_fraction is set=0.8, subsample=1.0 will be ignored. Current value: bagging_fraction=0.8\n",
      "[LightGBM] [Warning] bagging_freq is set=2, subsample_freq=0 will be ignored. Current value: bagging_freq=2\n",
      "loss= 10.78444305224208\n",
      "min_loss= 10.730887737694328\n",
      "loss= 9.450485402586462\n",
      "min_loss= 10.78444305224208\n",
      "[LightGBM] [Warning] feature_fraction is set=0.8, colsample_bytree=1.0 will be ignored. Current value: feature_fraction=0.8\n",
      "[LightGBM] [Warning] bagging_fraction is set=0.8, subsample=1.0 will be ignored. Current value: bagging_fraction=0.8\n",
      "[LightGBM] [Warning] bagging_freq is set=2, subsample_freq=0 will be ignored. Current value: bagging_freq=2\n",
      "[LightGBM] [Warning] Found whitespace in feature_names, replace with underlines\n",
      "[LightGBM] [Warning] feature_fraction is set=0.8, colsample_bytree=1.0 will be ignored. Current value: feature_fraction=0.8\n",
      "[LightGBM] [Warning] bagging_fraction is set=0.8, subsample=1.0 will be ignored. Current value: bagging_fraction=0.8\n",
      "[LightGBM] [Warning] bagging_freq is set=2, subsample_freq=0 will be ignored. Current value: bagging_freq=2\n",
      "[LightGBM] [Info] Auto-choosing row-wise multi-threading, the overhead of testing was 0.001787 seconds.\n",
      "You can set `force_row_wise=true` to remove the overhead.\n",
      "And if memory is not enough, you can set `force_col_wise=true`.\n",
      "[LightGBM] [Info] Total Bins 982\n",
      "[LightGBM] [Info] Number of data points in the train set: 97948, number of used features: 89\n",
      "[LightGBM] [Info] Start training from score 18007.696931\n",
      "[LightGBM] [Warning] feature_fraction is set=0.8, colsample_bytree=1.0 will be ignored. Current value: feature_fraction=0.8\n",
      "[LightGBM] [Warning] bagging_fraction is set=0.8, subsample=1.0 will be ignored. Current value: bagging_fraction=0.8\n",
      "[LightGBM] [Warning] bagging_freq is set=2, subsample_freq=0 will be ignored. Current value: bagging_freq=2\n",
      "[LightGBM] [Warning] feature_fraction is set=0.8, colsample_bytree=1.0 will be ignored. Current value: feature_fraction=0.8\n",
      "[LightGBM] [Warning] bagging_fraction is set=0.8, subsample=1.0 will be ignored. Current value: bagging_fraction=0.8\n",
      "[LightGBM] [Warning] bagging_freq is set=2, subsample_freq=0 will be ignored. Current value: bagging_freq=2\n",
      "loss= 9.555884255018714\n",
      "min_loss= 9.450485402586462\n",
      "loss= 8.451693320089387\n",
      "min_loss= 9.555884255018714\n",
      "[LightGBM] [Warning] feature_fraction is set=0.8, colsample_bytree=1.0 will be ignored. Current value: feature_fraction=0.8\n",
      "[LightGBM] [Warning] bagging_fraction is set=0.8, subsample=1.0 will be ignored. Current value: bagging_fraction=0.8\n",
      "[LightGBM] [Warning] bagging_freq is set=2, subsample_freq=0 will be ignored. Current value: bagging_freq=2\n",
      "[LightGBM] [Warning] Found whitespace in feature_names, replace with underlines\n",
      "[LightGBM] [Warning] feature_fraction is set=0.8, colsample_bytree=1.0 will be ignored. Current value: feature_fraction=0.8\n",
      "[LightGBM] [Warning] bagging_fraction is set=0.8, subsample=1.0 will be ignored. Current value: bagging_fraction=0.8\n",
      "[LightGBM] [Warning] bagging_freq is set=2, subsample_freq=0 will be ignored. Current value: bagging_freq=2\n",
      "[LightGBM] [Info] Auto-choosing row-wise multi-threading, the overhead of testing was 0.002230 seconds.\n",
      "You can set `force_row_wise=true` to remove the overhead.\n",
      "And if memory is not enough, you can set `force_col_wise=true`.\n",
      "[LightGBM] [Info] Total Bins 982\n",
      "[LightGBM] [Info] Number of data points in the train set: 97948, number of used features: 89\n",
      "[LightGBM] [Info] Start training from score 18007.696931\n",
      "[LightGBM] [Warning] feature_fraction is set=0.8, colsample_bytree=1.0 will be ignored. Current value: feature_fraction=0.8\n",
      "[LightGBM] [Warning] bagging_fraction is set=0.8, subsample=1.0 will be ignored. Current value: bagging_fraction=0.8\n",
      "[LightGBM] [Warning] bagging_freq is set=2, subsample_freq=0 will be ignored. Current value: bagging_freq=2\n",
      "[LightGBM] [Warning] feature_fraction is set=0.8, colsample_bytree=1.0 will be ignored. Current value: feature_fraction=0.8\n",
      "[LightGBM] [Warning] bagging_fraction is set=0.8, subsample=1.0 will be ignored. Current value: bagging_fraction=0.8\n",
      "[LightGBM] [Warning] bagging_freq is set=2, subsample_freq=0 will be ignored. Current value: bagging_freq=2\n",
      "loss= 8.610040435041064\n",
      "min_loss= 8.451693320089387\n",
      "loss= 7.661231712805275\n",
      "min_loss= 8.610040435041064\n",
      "[LightGBM] [Warning] feature_fraction is set=0.8, colsample_bytree=1.0 will be ignored. Current value: feature_fraction=0.8\n",
      "[LightGBM] [Warning] bagging_fraction is set=0.8, subsample=1.0 will be ignored. Current value: bagging_fraction=0.8\n",
      "[LightGBM] [Warning] bagging_freq is set=2, subsample_freq=0 will be ignored. Current value: bagging_freq=2\n",
      "[LightGBM] [Warning] Found whitespace in feature_names, replace with underlines\n",
      "[LightGBM] [Warning] feature_fraction is set=0.8, colsample_bytree=1.0 will be ignored. Current value: feature_fraction=0.8\n",
      "[LightGBM] [Warning] bagging_fraction is set=0.8, subsample=1.0 will be ignored. Current value: bagging_fraction=0.8\n",
      "[LightGBM] [Warning] bagging_freq is set=2, subsample_freq=0 will be ignored. Current value: bagging_freq=2\n",
      "[LightGBM] [Info] Auto-choosing row-wise multi-threading, the overhead of testing was 0.002275 seconds.\n",
      "You can set `force_row_wise=true` to remove the overhead.\n",
      "And if memory is not enough, you can set `force_col_wise=true`.\n",
      "[LightGBM] [Info] Total Bins 982\n",
      "[LightGBM] [Info] Number of data points in the train set: 97948, number of used features: 89\n",
      "[LightGBM] [Info] Start training from score 18007.696931\n",
      "[LightGBM] [Warning] feature_fraction is set=0.8, colsample_bytree=1.0 will be ignored. Current value: feature_fraction=0.8\n",
      "[LightGBM] [Warning] bagging_fraction is set=0.8, subsample=1.0 will be ignored. Current value: bagging_fraction=0.8\n",
      "[LightGBM] [Warning] bagging_freq is set=2, subsample_freq=0 will be ignored. Current value: bagging_freq=2\n",
      "[LightGBM] [Warning] feature_fraction is set=0.8, colsample_bytree=1.0 will be ignored. Current value: feature_fraction=0.8\n",
      "[LightGBM] [Warning] bagging_fraction is set=0.8, subsample=1.0 will be ignored. Current value: bagging_fraction=0.8\n",
      "[LightGBM] [Warning] bagging_freq is set=2, subsample_freq=0 will be ignored. Current value: bagging_freq=2\n",
      "loss= 7.81210507673399\n",
      "min_loss= 7.661231712805275\n",
      "loss= 6.964097125321461\n",
      "min_loss= 7.81210507673399\n",
      "[LightGBM] [Warning] feature_fraction is set=0.8, colsample_bytree=1.0 will be ignored. Current value: feature_fraction=0.8\n",
      "[LightGBM] [Warning] bagging_fraction is set=0.8, subsample=1.0 will be ignored. Current value: bagging_fraction=0.8\n",
      "[LightGBM] [Warning] bagging_freq is set=2, subsample_freq=0 will be ignored. Current value: bagging_freq=2\n",
      "[LightGBM] [Warning] Found whitespace in feature_names, replace with underlines\n",
      "[LightGBM] [Warning] feature_fraction is set=0.8, colsample_bytree=1.0 will be ignored. Current value: feature_fraction=0.8\n",
      "[LightGBM] [Warning] bagging_fraction is set=0.8, subsample=1.0 will be ignored. Current value: bagging_fraction=0.8\n",
      "[LightGBM] [Warning] bagging_freq is set=2, subsample_freq=0 will be ignored. Current value: bagging_freq=2\n",
      "[LightGBM] [Info] Auto-choosing row-wise multi-threading, the overhead of testing was 0.001778 seconds.\n",
      "You can set `force_row_wise=true` to remove the overhead.\n",
      "And if memory is not enough, you can set `force_col_wise=true`.\n",
      "[LightGBM] [Info] Total Bins 982\n",
      "[LightGBM] [Info] Number of data points in the train set: 97948, number of used features: 89\n",
      "[LightGBM] [Info] Start training from score 18007.696931\n",
      "[LightGBM] [Warning] feature_fraction is set=0.8, colsample_bytree=1.0 will be ignored. Current value: feature_fraction=0.8\n",
      "[LightGBM] [Warning] bagging_fraction is set=0.8, subsample=1.0 will be ignored. Current value: bagging_fraction=0.8\n",
      "[LightGBM] [Warning] bagging_freq is set=2, subsample_freq=0 will be ignored. Current value: bagging_freq=2\n",
      "[LightGBM] [Warning] feature_fraction is set=0.8, colsample_bytree=1.0 will be ignored. Current value: feature_fraction=0.8\n",
      "[LightGBM] [Warning] bagging_fraction is set=0.8, subsample=1.0 will be ignored. Current value: bagging_fraction=0.8\n",
      "[LightGBM] [Warning] bagging_freq is set=2, subsample_freq=0 will be ignored. Current value: bagging_freq=2\n",
      "loss= 7.139063831961606\n",
      "min_loss= 6.964097125321461\n",
      "loss= 6.359055567800692\n",
      "min_loss= 7.139063831961606\n",
      "[LightGBM] [Warning] feature_fraction is set=0.8, colsample_bytree=1.0 will be ignored. Current value: feature_fraction=0.8\n",
      "[LightGBM] [Warning] bagging_fraction is set=0.8, subsample=1.0 will be ignored. Current value: bagging_fraction=0.8\n",
      "[LightGBM] [Warning] bagging_freq is set=2, subsample_freq=0 will be ignored. Current value: bagging_freq=2\n",
      "[LightGBM] [Warning] Found whitespace in feature_names, replace with underlines\n",
      "[LightGBM] [Warning] feature_fraction is set=0.8, colsample_bytree=1.0 will be ignored. Current value: feature_fraction=0.8\n",
      "[LightGBM] [Warning] bagging_fraction is set=0.8, subsample=1.0 will be ignored. Current value: bagging_fraction=0.8\n",
      "[LightGBM] [Warning] bagging_freq is set=2, subsample_freq=0 will be ignored. Current value: bagging_freq=2\n",
      "[LightGBM] [Info] Auto-choosing row-wise multi-threading, the overhead of testing was 0.001674 seconds.\n",
      "You can set `force_row_wise=true` to remove the overhead.\n",
      "And if memory is not enough, you can set `force_col_wise=true`.\n",
      "[LightGBM] [Info] Total Bins 982\n",
      "[LightGBM] [Info] Number of data points in the train set: 97948, number of used features: 89\n",
      "[LightGBM] [Info] Start training from score 18007.696931\n",
      "[LightGBM] [Warning] feature_fraction is set=0.8, colsample_bytree=1.0 will be ignored. Current value: feature_fraction=0.8\n",
      "[LightGBM] [Warning] bagging_fraction is set=0.8, subsample=1.0 will be ignored. Current value: bagging_fraction=0.8\n",
      "[LightGBM] [Warning] bagging_freq is set=2, subsample_freq=0 will be ignored. Current value: bagging_freq=2\n",
      "[LightGBM] [Warning] feature_fraction is set=0.8, colsample_bytree=1.0 will be ignored. Current value: feature_fraction=0.8\n",
      "[LightGBM] [Warning] bagging_fraction is set=0.8, subsample=1.0 will be ignored. Current value: bagging_fraction=0.8\n",
      "[LightGBM] [Warning] bagging_freq is set=2, subsample_freq=0 will be ignored. Current value: bagging_freq=2\n",
      "loss= 6.547628618462102\n",
      "min_loss= 6.359055567800692\n",
      "loss= 5.863187821574352\n",
      "min_loss= 6.547628618462102\n",
      "[LightGBM] [Warning] feature_fraction is set=0.8, colsample_bytree=1.0 will be ignored. Current value: feature_fraction=0.8\n",
      "[LightGBM] [Warning] bagging_fraction is set=0.8, subsample=1.0 will be ignored. Current value: bagging_fraction=0.8\n",
      "[LightGBM] [Warning] bagging_freq is set=2, subsample_freq=0 will be ignored. Current value: bagging_freq=2\n",
      "[LightGBM] [Warning] Found whitespace in feature_names, replace with underlines\n",
      "[LightGBM] [Warning] feature_fraction is set=0.8, colsample_bytree=1.0 will be ignored. Current value: feature_fraction=0.8\n",
      "[LightGBM] [Warning] bagging_fraction is set=0.8, subsample=1.0 will be ignored. Current value: bagging_fraction=0.8\n",
      "[LightGBM] [Warning] bagging_freq is set=2, subsample_freq=0 will be ignored. Current value: bagging_freq=2\n",
      "[LightGBM] [Info] Auto-choosing row-wise multi-threading, the overhead of testing was 0.002284 seconds.\n",
      "You can set `force_row_wise=true` to remove the overhead.\n",
      "And if memory is not enough, you can set `force_col_wise=true`.\n",
      "[LightGBM] [Info] Total Bins 982\n",
      "[LightGBM] [Info] Number of data points in the train set: 97948, number of used features: 89\n",
      "[LightGBM] [Info] Start training from score 18007.696931\n",
      "[LightGBM] [Warning] feature_fraction is set=0.8, colsample_bytree=1.0 will be ignored. Current value: feature_fraction=0.8\n",
      "[LightGBM] [Warning] bagging_fraction is set=0.8, subsample=1.0 will be ignored. Current value: bagging_fraction=0.8\n",
      "[LightGBM] [Warning] bagging_freq is set=2, subsample_freq=0 will be ignored. Current value: bagging_freq=2\n",
      "[LightGBM] [Warning] feature_fraction is set=0.8, colsample_bytree=1.0 will be ignored. Current value: feature_fraction=0.8\n",
      "[LightGBM] [Warning] bagging_fraction is set=0.8, subsample=1.0 will be ignored. Current value: bagging_fraction=0.8\n",
      "[LightGBM] [Warning] bagging_freq is set=2, subsample_freq=0 will be ignored. Current value: bagging_freq=2\n",
      "loss= 6.089944713971987\n",
      "min_loss= 5.863187821574352\n",
      "loss= 5.435828241859113\n",
      "min_loss= 6.089944713971987\n",
      "[LightGBM] [Warning] feature_fraction is set=0.8, colsample_bytree=1.0 will be ignored. Current value: feature_fraction=0.8\n",
      "[LightGBM] [Warning] bagging_fraction is set=0.8, subsample=1.0 will be ignored. Current value: bagging_fraction=0.8\n",
      "[LightGBM] [Warning] bagging_freq is set=2, subsample_freq=0 will be ignored. Current value: bagging_freq=2\n",
      "[LightGBM] [Warning] Found whitespace in feature_names, replace with underlines\n",
      "[LightGBM] [Warning] feature_fraction is set=0.8, colsample_bytree=1.0 will be ignored. Current value: feature_fraction=0.8\n",
      "[LightGBM] [Warning] bagging_fraction is set=0.8, subsample=1.0 will be ignored. Current value: bagging_fraction=0.8\n",
      "[LightGBM] [Warning] bagging_freq is set=2, subsample_freq=0 will be ignored. Current value: bagging_freq=2\n",
      "[LightGBM] [Info] Auto-choosing row-wise multi-threading, the overhead of testing was 0.002114 seconds.\n",
      "You can set `force_row_wise=true` to remove the overhead.\n",
      "And if memory is not enough, you can set `force_col_wise=true`.\n",
      "[LightGBM] [Info] Total Bins 982\n",
      "[LightGBM] [Info] Number of data points in the train set: 97948, number of used features: 89\n",
      "[LightGBM] [Info] Start training from score 18007.696931\n",
      "[LightGBM] [Warning] feature_fraction is set=0.8, colsample_bytree=1.0 will be ignored. Current value: feature_fraction=0.8\n",
      "[LightGBM] [Warning] bagging_fraction is set=0.8, subsample=1.0 will be ignored. Current value: bagging_fraction=0.8\n",
      "[LightGBM] [Warning] bagging_freq is set=2, subsample_freq=0 will be ignored. Current value: bagging_freq=2\n",
      "[LightGBM] [Warning] feature_fraction is set=0.8, colsample_bytree=1.0 will be ignored. Current value: feature_fraction=0.8\n",
      "[LightGBM] [Warning] bagging_fraction is set=0.8, subsample=1.0 will be ignored. Current value: bagging_fraction=0.8\n",
      "[LightGBM] [Warning] bagging_freq is set=2, subsample_freq=0 will be ignored. Current value: bagging_freq=2\n",
      "loss= 5.682540667488901\n",
      "min_loss= 5.435828241859113\n",
      "loss= 5.074061181585901\n",
      "min_loss= 5.682540667488901\n",
      "[LightGBM] [Warning] feature_fraction is set=0.8, colsample_bytree=1.0 will be ignored. Current value: feature_fraction=0.8\n",
      "[LightGBM] [Warning] bagging_fraction is set=0.8, subsample=1.0 will be ignored. Current value: bagging_fraction=0.8\n",
      "[LightGBM] [Warning] bagging_freq is set=2, subsample_freq=0 will be ignored. Current value: bagging_freq=2\n",
      "[LightGBM] [Warning] Found whitespace in feature_names, replace with underlines\n",
      "[LightGBM] [Warning] feature_fraction is set=0.8, colsample_bytree=1.0 will be ignored. Current value: feature_fraction=0.8\n",
      "[LightGBM] [Warning] bagging_fraction is set=0.8, subsample=1.0 will be ignored. Current value: bagging_fraction=0.8\n",
      "[LightGBM] [Warning] bagging_freq is set=2, subsample_freq=0 will be ignored. Current value: bagging_freq=2\n",
      "[LightGBM] [Info] Auto-choosing row-wise multi-threading, the overhead of testing was 0.002048 seconds.\n",
      "You can set `force_row_wise=true` to remove the overhead.\n",
      "And if memory is not enough, you can set `force_col_wise=true`.\n",
      "[LightGBM] [Info] Total Bins 982\n",
      "[LightGBM] [Info] Number of data points in the train set: 97948, number of used features: 89\n",
      "[LightGBM] [Info] Start training from score 18007.696931\n",
      "[LightGBM] [Warning] feature_fraction is set=0.8, colsample_bytree=1.0 will be ignored. Current value: feature_fraction=0.8\n",
      "[LightGBM] [Warning] bagging_fraction is set=0.8, subsample=1.0 will be ignored. Current value: bagging_fraction=0.8\n",
      "[LightGBM] [Warning] bagging_freq is set=2, subsample_freq=0 will be ignored. Current value: bagging_freq=2\n",
      "[LightGBM] [Warning] feature_fraction is set=0.8, colsample_bytree=1.0 will be ignored. Current value: feature_fraction=0.8\n",
      "[LightGBM] [Warning] bagging_fraction is set=0.8, subsample=1.0 will be ignored. Current value: bagging_fraction=0.8\n",
      "[LightGBM] [Warning] bagging_freq is set=2, subsample_freq=0 will be ignored. Current value: bagging_freq=2\n",
      "loss= 5.332381758132397\n",
      "min_loss= 5.074061181585901\n",
      "loss= 4.728899330463722\n",
      "min_loss= 5.332381758132397\n",
      "[LightGBM] [Warning] feature_fraction is set=0.8, colsample_bytree=1.0 will be ignored. Current value: feature_fraction=0.8\n",
      "[LightGBM] [Warning] bagging_fraction is set=0.8, subsample=1.0 will be ignored. Current value: bagging_fraction=0.8\n",
      "[LightGBM] [Warning] bagging_freq is set=2, subsample_freq=0 will be ignored. Current value: bagging_freq=2\n",
      "[LightGBM] [Warning] Found whitespace in feature_names, replace with underlines\n",
      "[LightGBM] [Warning] feature_fraction is set=0.8, colsample_bytree=1.0 will be ignored. Current value: feature_fraction=0.8\n",
      "[LightGBM] [Warning] bagging_fraction is set=0.8, subsample=1.0 will be ignored. Current value: bagging_fraction=0.8\n",
      "[LightGBM] [Warning] bagging_freq is set=2, subsample_freq=0 will be ignored. Current value: bagging_freq=2\n",
      "[LightGBM] [Info] Auto-choosing row-wise multi-threading, the overhead of testing was 0.002013 seconds.\n",
      "You can set `force_row_wise=true` to remove the overhead.\n",
      "And if memory is not enough, you can set `force_col_wise=true`.\n",
      "[LightGBM] [Info] Total Bins 982\n",
      "[LightGBM] [Info] Number of data points in the train set: 97948, number of used features: 89\n",
      "[LightGBM] [Info] Start training from score 18007.696931\n",
      "[LightGBM] [Warning] feature_fraction is set=0.8, colsample_bytree=1.0 will be ignored. Current value: feature_fraction=0.8\n",
      "[LightGBM] [Warning] bagging_fraction is set=0.8, subsample=1.0 will be ignored. Current value: bagging_fraction=0.8\n",
      "[LightGBM] [Warning] bagging_freq is set=2, subsample_freq=0 will be ignored. Current value: bagging_freq=2\n",
      "[LightGBM] [Warning] feature_fraction is set=0.8, colsample_bytree=1.0 will be ignored. Current value: feature_fraction=0.8\n",
      "[LightGBM] [Warning] bagging_fraction is set=0.8, subsample=1.0 will be ignored. Current value: bagging_fraction=0.8\n",
      "[LightGBM] [Warning] bagging_freq is set=2, subsample_freq=0 will be ignored. Current value: bagging_freq=2\n",
      "loss= 5.039468515585748\n",
      "min_loss= 4.728899330463722\n",
      "loss= 4.46676158792208\n",
      "min_loss= 5.039468515585748\n",
      "[LightGBM] [Warning] feature_fraction is set=0.8, colsample_bytree=1.0 will be ignored. Current value: feature_fraction=0.8\n",
      "[LightGBM] [Warning] bagging_fraction is set=0.8, subsample=1.0 will be ignored. Current value: bagging_fraction=0.8\n",
      "[LightGBM] [Warning] bagging_freq is set=2, subsample_freq=0 will be ignored. Current value: bagging_freq=2\n",
      "[LightGBM] [Warning] Found whitespace in feature_names, replace with underlines\n",
      "[LightGBM] [Warning] feature_fraction is set=0.8, colsample_bytree=1.0 will be ignored. Current value: feature_fraction=0.8\n",
      "[LightGBM] [Warning] bagging_fraction is set=0.8, subsample=1.0 will be ignored. Current value: bagging_fraction=0.8\n",
      "[LightGBM] [Warning] bagging_freq is set=2, subsample_freq=0 will be ignored. Current value: bagging_freq=2\n",
      "[LightGBM] [Info] Auto-choosing row-wise multi-threading, the overhead of testing was 0.002433 seconds.\n",
      "You can set `force_row_wise=true` to remove the overhead.\n",
      "And if memory is not enough, you can set `force_col_wise=true`.\n",
      "[LightGBM] [Info] Total Bins 982\n",
      "[LightGBM] [Info] Number of data points in the train set: 97948, number of used features: 89\n",
      "[LightGBM] [Info] Start training from score 18007.696931\n",
      "[LightGBM] [Warning] feature_fraction is set=0.8, colsample_bytree=1.0 will be ignored. Current value: feature_fraction=0.8\n",
      "[LightGBM] [Warning] bagging_fraction is set=0.8, subsample=1.0 will be ignored. Current value: bagging_fraction=0.8\n",
      "[LightGBM] [Warning] bagging_freq is set=2, subsample_freq=0 will be ignored. Current value: bagging_freq=2\n",
      "[LightGBM] [Warning] feature_fraction is set=0.8, colsample_bytree=1.0 will be ignored. Current value: feature_fraction=0.8\n",
      "[LightGBM] [Warning] bagging_fraction is set=0.8, subsample=1.0 will be ignored. Current value: bagging_fraction=0.8\n",
      "[LightGBM] [Warning] bagging_freq is set=2, subsample_freq=0 will be ignored. Current value: bagging_freq=2\n",
      "loss= 4.796928817696038\n",
      "min_loss= 4.46676158792208\n"
     ]
    }
   ],
   "source": [
    "accuracies = []\n",
    "X_train_single = df_for_1_model.drop(columns=['price'], axis=1)\n",
    "y_train_single = df_for_1_model['price']\n",
    "X_train_single, X_test_single, y_train_single, y_test_single = split(X_train_single, y_train_single, train_size=0.8, random_state=18)\n",
    "for m in models:\n",
    "    train_model_add_preds(m,X_train_single, y_train_single, X_test_single, y_test_single)\n",
    "\n",
    "    enum1,acc_res1,max_acc1 = use_XGB_LGBM_framework(X_train_single,y_train_single,X_test_single,y_test_single)\n",
    "    accuracies.append(acc_res1)\n",
    "    complex_results = complex_results.append(\n",
    "        pd.DataFrame({'r2': [max_acc1]}, index=[str(type(m).__name__)]))\n",
    "    X_train_single = df_for_1_model.drop(columns=['price'], axis=1)\n",
    "    y_train_single = df_for_1_model['price']\n",
    "    X_train_single, X_test_single, y_train_single, y_test_single = split(X_train_single, y_train_single, train_size=0.8, random_state=18)"
   ],
   "metadata": {
    "collapsed": false,
    "pycharm": {
     "name": "#%%\n"
    }
   }
  },
  {
   "cell_type": "code",
   "execution_count": 47,
   "outputs": [
    {
     "data": {
      "text/plain": "                             r2\nLinearRegression       0.199300\nRandomForestRegressor  0.587182\nXGBRegressor           0.411218\nLGBMRegressor          0.337794\nResNet                 0.592491",
      "text/html": "<div>\n<style scoped>\n    .dataframe tbody tr th:only-of-type {\n        vertical-align: middle;\n    }\n\n    .dataframe tbody tr th {\n        vertical-align: top;\n    }\n\n    .dataframe thead th {\n        text-align: right;\n    }\n</style>\n<table border=\"1\" class=\"dataframe\">\n  <thead>\n    <tr style=\"text-align: right;\">\n      <th></th>\n      <th>r2</th>\n    </tr>\n  </thead>\n  <tbody>\n    <tr>\n      <th>LinearRegression</th>\n      <td>0.199300</td>\n    </tr>\n    <tr>\n      <th>RandomForestRegressor</th>\n      <td>0.587182</td>\n    </tr>\n    <tr>\n      <th>XGBRegressor</th>\n      <td>0.411218</td>\n    </tr>\n    <tr>\n      <th>LGBMRegressor</th>\n      <td>0.337794</td>\n    </tr>\n    <tr>\n      <th>ResNet</th>\n      <td>0.592491</td>\n    </tr>\n  </tbody>\n</table>\n</div>"
     },
     "execution_count": 47,
     "metadata": {},
     "output_type": "execute_result"
    }
   ],
   "source": [
    "single_results"
   ],
   "metadata": {
    "collapsed": false,
    "pycharm": {
     "name": "#%%\n"
    }
   }
  },
  {
   "cell_type": "code",
   "execution_count": 55,
   "outputs": [],
   "source": [
    "complex_results = complex_results.append(\n",
    "        pd.DataFrame({'r2': [max_acc1]}, index=['ResNet']))"
   ],
   "metadata": {
    "collapsed": false,
    "pycharm": {
     "name": "#%%\n"
    }
   }
  },
  {
   "cell_type": "code",
   "execution_count": 56,
   "outputs": [
    {
     "data": {
      "text/plain": "                             r2\nLinearRegression       0.791126\nRandomForestRegressor  0.891778\nXGBRegressor           0.806782\nLGBMRegressor          0.798678\nResNet                 0.752731",
      "text/html": "<div>\n<style scoped>\n    .dataframe tbody tr th:only-of-type {\n        vertical-align: middle;\n    }\n\n    .dataframe tbody tr th {\n        vertical-align: top;\n    }\n\n    .dataframe thead th {\n        text-align: right;\n    }\n</style>\n<table border=\"1\" class=\"dataframe\">\n  <thead>\n    <tr style=\"text-align: right;\">\n      <th></th>\n      <th>r2</th>\n    </tr>\n  </thead>\n  <tbody>\n    <tr>\n      <th>LinearRegression</th>\n      <td>0.791126</td>\n    </tr>\n    <tr>\n      <th>RandomForestRegressor</th>\n      <td>0.891778</td>\n    </tr>\n    <tr>\n      <th>XGBRegressor</th>\n      <td>0.806782</td>\n    </tr>\n    <tr>\n      <th>LGBMRegressor</th>\n      <td>0.798678</td>\n    </tr>\n    <tr>\n      <th>ResNet</th>\n      <td>0.752731</td>\n    </tr>\n  </tbody>\n</table>\n</div>"
     },
     "execution_count": 56,
     "metadata": {},
     "output_type": "execute_result"
    }
   ],
   "source": [
    "complex_results"
   ],
   "metadata": {
    "collapsed": false,
    "pycharm": {
     "name": "#%%\n"
    }
   }
  },
  {
   "cell_type": "code",
   "execution_count": 41,
   "outputs": [],
   "source": [
    "e = range(1,30)"
   ],
   "metadata": {
    "collapsed": false,
    "pycharm": {
     "name": "#%%\n"
    }
   }
  },
  {
   "cell_type": "code",
   "execution_count": 42,
   "outputs": [
    {
     "data": {
      "text/plain": "<Figure size 640x480 with 1 Axes>",
      "image/png": "[encoded data removed]"
     },
     "metadata": {},
     "output_type": "display_data"
    }
   ],
   "source": [
    "for m in accuracies:\n",
    "    plt.plot(e,m)\n",
    "\n",
    "plt.legend(['linear', 'rf','xgb','lgbm'], loc='upper left')\n",
    "plt.show()"
   ],
   "metadata": {
    "collapsed": false,
    "pycharm": {
     "name": "#%%\n"
    }
   }
  }
 ],
 "metadata": {
  "kernelspec": {
   "display_name": "Python 3",
   "language": "python",
   "name": "python3"
  },
  "language_info": {
   "codemirror_mode": {
    "name": "ipython",
    "version": 2
   },
   "file_extension": ".py",
   "mimetype": "text/x-python",
   "name": "python",
   "nbconvert_exporter": "python",
   "pygments_lexer": "ipython2",
   "version": "2.7.6"
  }
 },
 "nbformat": 4,
 "nbformat_minor": 0
}